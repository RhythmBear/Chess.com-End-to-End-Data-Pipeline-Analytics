{
 "cells": [
  {
   "cell_type": "code",
   "execution_count": 1,
   "metadata": {},
   "outputs": [],
   "source": [
    "import duckdb"
   ]
  },
  {
   "cell_type": "code",
   "execution_count": null,
   "metadata": {},
   "outputs": [],
   "source": [
    "conn = duckdb.connect()"
   ]
  },
  {
   "cell_type": "code",
   "execution_count": null,
   "metadata": {},
   "outputs": [],
   "source": [
    "duckdb.sql(\n",
    "    \"\"\"SELECT url as game_url,\n",
    "                time_control as time_control,\n",
    "                rated as rated,\n",
    "                time_class as time_class,\n",
    "                rules as rules,\n",
    "                white.rating as white_rating,\n",
    "                white.result as white_result,\n",
    "                black.rating as black_rating,\n",
    "                black.result as black_result,    \n",
    "                REGEXP_EXTRACT(pgn, '\\[Event \"(.*?)\"', 1) as pgn_event,\n",
    "                REGEXP_EXTRACT(pgn, '\\[Site \"(.*?)\"', 1) as pgn_site,\n",
    "                REGEXP_EXTRACT(pgn, '\\[Round \"(.*?)\"', 1) as pgn_date, \n",
    "                REGEXP_EXTRACT(pgn, '\\[White \"(.*?)\"', 1) as pgn_white_user,   \n",
    "                REGEXP_EXTRACT(pgn, '\\[Black \"(.*?)\"', 1) as pgn_black_user,\n",
    "                REGEXP_EXTRACT(pgn, '\\[Result \"(.*?)\"', 1) as pgn_result,\n",
    "                REGEXP_EXTRACT(pgn, '\\[CurrentPosition \"(.*?)\"', 1) as pgn_current_position,\n",
    "                REGEXP_EXTRACT(pgn, '\\[Timezone \"(.*?)\"', 1) as pgn_timezone,\n",
    "                REGEXP_EXTRACT(pgn, '\\[ECO \"(.*?)\"', 1) as pgn_eco,\n",
    "                REGEXP_EXTRACT(pgn, '\\[ECOUrl \"(.*?)\"', 1) as pgn_eco_url,\n",
    "                REGEXP_EXTRACT(pgn, '\\[StartTime \"(.*?)\"', 1) as start_time,\n",
    "                REGEXP_EXTRACT(pgn, '\\[EndTime \"(.*?)\"', 1) as End_time,\n",
    "           FROM read_json_auto('Data/*/*.json')\"\"\"\n",
    "           )\n",
    "\n"
   ]
  }
 ],
 "metadata": {
  "kernelspec": {
   "display_name": "venv",
   "language": "python",
   "name": "python3"
  },
  "language_info": {
   "codemirror_mode": {
    "name": "ipython",
    "version": 3
   },
   "file_extension": ".py",
   "mimetype": "text/x-python",
   "name": "python",
   "nbconvert_exporter": "python",
   "pygments_lexer": "ipython3",
   "version": "3.10.12"
  }
 },
 "nbformat": 4,
 "nbformat_minor": 2
}
