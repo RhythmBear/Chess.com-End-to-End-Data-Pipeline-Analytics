{
 "cells": [
  {
   "cell_type": "code",
   "execution_count": 2,
   "metadata": {},
   "outputs": [],
   "source": [
    "import duckdb"
   ]
  },
  {
   "cell_type": "code",
   "execution_count": 3,
   "metadata": {},
   "outputs": [],
   "source": [
    "conn = duckdb.connect()"
   ]
  },
  {
   "cell_type": "code",
   "execution_count": 30,
   "metadata": {},
   "outputs": [
    {
     "data": {
      "text/plain": [
       "┌─────────────────────────────────────────────┬─────────────────────────────────────────────────────────────────────────────────────────────────────────────────────────────────────────────────────────────────────────────────────────────────────────────────────────────────────────────────────────────────────────────────────────────────────────────────────────────────────────────────────────────────────────────────────────────────────────────────────────────────────────────────────────────────────────────────────────────────────────────────────────────────────────────────────────────────────────────────────────────────────────────────────────────────────────────────────────────────────────────────────────────────────────────────────────────────────────────────────────────────────────────────────────────────────────────────────────────────────────────────────────────────────────────────────────────────────────────────────────────────────────────────────────────────────────────────────────────────────────────────────────────────────────────────────────────────────────────────────────────────────────────────────────────────────────────────────────────────────────────────────────────────────────────────────────────────────────────────────────────────────────────────────────────────────────────────────────────────────────────────────────────────────────────────────────────────────────────────────────────────────────────────────────────────────────────────────────────────────────────────────────────────────────────────────────────────────────────────────────────────────────────────────────────────────────────────────────────────────────────────────────────────────────────────────────────────────────────────────────────────────────────────────────────────────────────────────────────────────────────────────────────────────────────────────┬──────────────┬────────────┬─────────┬──────────────────────────────────────────────────────────────────────────────────────────┬──────────────────────────────────────┬──────────────────────────────────────────────────────────┬───────────────────────────────────────────────────────────┬────────────┬─────────┬──────────────────────────────────────────────────────────────────────────────────────────────────────────────────────────────────────────────────────────────────────┬────────────────────────────────────────────────────────────────────────────────────────────────────────────────────────────────────────────────────────────┬────────────────────────────────────┐\n",
       "│                     url                     │                                                                                                                                                                                                                                                                                                                                                                                                                                                                                                                                                                                                                                                                                                                                                                                                                                                                                                                                         pgn                                                                                                                                                                                                                                                                                                                                                                                                                                                                                                                                                                                                                                                                                                                                                                                                                                                                                                                                         │ time_control │  end_time  │  rated  │                                           tcn                                            │                 uuid                 │                      initial_setup                       │                            fen                            │ time_class │  rules  │                                                                                white                                                                                 │                                                                           black                                                                            │             accuracies             │\n",
       "│                   varchar                   │                                                                                                                                                                                                                                                                                                                                                                                                                                                                                                                                                                                                                                                                                                                                                                                                                                                                                                                                       varchar                                                                                                                                                                                                                                                                                                                                                                                                                                                                                                                                                                                                                                                                                                                                                                                                                                                                                                                                       │   varchar    │   int64    │ boolean │                                         varchar                                          │                 uuid                 │                         varchar                          │                          varchar                          │  varchar   │ varchar │                                          struct(rating bigint, result varchar, \"@id\" varchar, username varchar, uuid uuid)                                           │                                     struct(rating bigint, result varchar, \"@id\" varchar, username varchar, uuid uuid)                                      │ struct(white double, black double) │\n",
       "├─────────────────────────────────────────────┼─────────────────────────────────────────────────────────────────────────────────────────────────────────────────────────────────────────────────────────────────────────────────────────────────────────────────────────────────────────────────────────────────────────────────────────────────────────────────────────────────────────────────────────────────────────────────────────────────────────────────────────────────────────────────────────────────────────────────────────────────────────────────────────────────────────────────────────────────────────────────────────────────────────────────────────────────────────────────────────────────────────────────────────────────────────────────────────────────────────────────────────────────────────────────────────────────────────────────────────────────────────────────────────────────────────────────────────────────────────────────────────────────────────────────────────────────────────────────────────────────────────────────────────────────────────────────────────────────────────────────────────────────────────────────────────────────────────────────────────────────────────────────────────────────────────────────────────────────────────────────────────────────────────────────────────────────────────────────────────────────────────────────────────────────────────────────────────────────────────────────────────────────────────────────────────────────────────────────────────────────────────────────────────────────────────────────────────────────────────────────────────────────────────────────────────────────────────────────────────────────────────────────────────────────────────────────────────────────────────────────────────────────────────────────────────────────────────────────────────────────────────────────────────────────────────────────────┼──────────────┼────────────┼─────────┼──────────────────────────────────────────────────────────────────────────────────────────┼──────────────────────────────────────┼──────────────────────────────────────────────────────────┼───────────────────────────────────────────────────────────┼────────────┼─────────┼──────────────────────────────────────────────────────────────────────────────────────────────────────────────────────────────────────────────────────────────────────┼────────────────────────────────────────────────────────────────────────────────────────────────────────────────────────────────────────────────────────────┼────────────────────────────────────┤\n",
       "│ https://www.chess.com/game/live/97873251101 │ [Event \"Live Chess\"]\\n[Site \"Chess.com\"]\\n[Date \"2024.01.01\"]\\n[Round \"-\"]\\n[White \"restlessbuddha\"]\\n[Black \"Rhythmbear1\"]\\n[Result \"0-1\"]\\n[CurrentPosition \"2k1r3/1pprP1pp/1b1n1p2/5b2/1Q6/P1B2N2/2P2PPP/R3R1K1 w - -\"]\\n[Timezone \"UTC\"]\\n[ECO \"A40\"]\\n[ECOUrl \"https://www.chess.com/openings/Englund-Gambit-Hartlaub-Charlick-Gambit\"]\\n[UTCDate \"2024.01.01\"]\\n[UTCTime \"18:37:11\"]\\n[WhiteElo \"472\"]\\n[BlackElo \"513\"]\\n[TimeControl \"120+1\"]\\n[Termination \"Rhythmbear1 won on time\"]\\n[StartTime \"18:37:11\"]\\n[EndDate \"2024.01.01\"]\\n[EndTime \"18:41:16\"]\\n[Link \"https://www.chess.com/game/live/97873251101\"]\\n\\n1. d4 {[%clk 0:02:01]} 1... e5 {[%clk 0:01:55.9]} 2. dxe5 {[%clk 0:02:00.4]} 2... d6 {[%clk 0:01:56.4]} 3. exd6 {[%clk 0:02:00]} 3... Bxd6 {[%clk 0:01:55.6]} 4. Nc3 {[%clk 0:01:57.8]} 4... Nc6 {[%clk 0:01:50.2]} 5. Bd2 {[%clk 0:01:45.6]} 5... Bf5 {[%clk 0:01:46.7]} 6. e4 {[%clk 0:01:44.6]} 6... Bg6 {[%clk 0:01:45.8]} 7. Bb5 {[%clk 0:01:42.5]} 7... Qd7 {[%clk 0:01:45]} 8. Nf3 {[%clk 0:01:41.4]} 8... O-O-O {[%clk 0:01:44.3]} 9. O-O {[%clk 0:01:36.6]} 9... a6 {[%clk 0:01:43.6]} 10. Bxc6 {[%clk 0:01:29.2]} 10... Qxc6 {[%clk 0:01:43.2]} 11. e5 {[%clk 0:01:18.2]} 11... Bb4 {[%clk 0:01:33.4]} 12. a3 {[%clk 0:01:17]} 12... Ba5 {[%clk 0:01:27.5]} 13. b4 {[%clk 0:01:16.1]} 13... Bb6 {[%clk 0:01:27.8]} 14. Re1 {[%clk 0:01:06.5]} 14... f6 {[%clk 0:01:25.6]} 15. e6 {[%clk 0:01:03]} 15... Ne7 {[%clk 0:01:17.9]} 16. Qb1 {[%clk 0:00:26.4]} 16... Rhe8 {[%clk 0:01:04.9]} 17. b5 {[%clk 0:00:25.6]} 17... axb5 {[%clk 0:01:04.9]} 18. Nxb5 {[%clk 0:00:25]} 18... Qxb5 {[%clk 0:01:04.9]} 19. Qxb5 {[%clk 0:00:24.4]} 19... Nf5 {[%clk 0:01:03.1]} 20. Bc3 {[%clk 0:00:05.4]} 20... Nd6 {[%clk 0:00:57.1]} 21. Qb4 {[%clk 0:00:03.9]} 21... Bf5 {[%clk 0:00:52.7]} 22. e7 {[%clk 0:00:03]} 22... Rd7 {[%clk 0:00:50.1]} 0-1\\n │ 120+1        │ 1704134476 │ true    │ lB0KBKZRKR9Rbs5Qcl6LmCLUfH7Zgv86egWOHQZQCKRziqzGjzGPfe1TKS!0db?8zHOHsHQHbH0LlsLRHzULS07Z │ c2fbf7cd-a8d4-11ee-8c7e-6cfe544c0428 │ rnbqkbnr/pppppppp/8/8/8/8/PPPPPPPP/RNBQKBNR w KQkq - 0 1 │ 2k1r3/1pprP1pp/1b1n1p2/5b2/1Q6/P1B2N2/2P2PPP/R3R1K1 w - - │ bullet     │ chess   │ {'rating': 472, 'result': timeout, '@id': https://api.chess.com/pub/player/restlessbuddha, 'username': restlessbuddha, 'uuid': 91dce312-8638-11ea-89bd-c1534c3d1be5} │ {'rating': 513, 'result': win, '@id': https://api.chess.com/pub/player/rhythmbear1, 'username': Rhythmbear1, 'uuid': 00264130-fa79-11e8-8006-000000000000} │ NULL                               │\n",
       "└─────────────────────────────────────────────┴─────────────────────────────────────────────────────────────────────────────────────────────────────────────────────────────────────────────────────────────────────────────────────────────────────────────────────────────────────────────────────────────────────────────────────────────────────────────────────────────────────────────────────────────────────────────────────────────────────────────────────────────────────────────────────────────────────────────────────────────────────────────────────────────────────────────────────────────────────────────────────────────────────────────────────────────────────────────────────────────────────────────────────────────────────────────────────────────────────────────────────────────────────────────────────────────────────────────────────────────────────────────────────────────────────────────────────────────────────────────────────────────────────────────────────────────────────────────────────────────────────────────────────────────────────────────────────────────────────────────────────────────────────────────────────────────────────────────────────────────────────────────────────────────────────────────────────────────────────────────────────────────────────────────────────────────────────────────────────────────────────────────────────────────────────────────────────────────────────────────────────────────────────────────────────────────────────────────────────────────────────────────────────────────────────────────────────────────────────────────────────────────────────────────────────────────────────────────────────────────────────────────────────────────────────────────────────────────────────────────────────────────────────────────────────────────────────────────────────────────────────────────────────────────────────────────────────┴──────────────┴────────────┴─────────┴──────────────────────────────────────────────────────────────────────────────────────────┴──────────────────────────────────────┴──────────────────────────────────────────────────────────┴───────────────────────────────────────────────────────────┴────────────┴─────────┴──────────────────────────────────────────────────────────────────────────────────────────────────────────────────────────────────────────────────────────────────────┴────────────────────────────────────────────────────────────────────────────────────────────────────────────────────────────────────────────────────────────┴────────────────────────────────────┘"
      ]
     },
     "execution_count": 30,
     "metadata": {},
     "output_type": "execute_result"
    }
   ],
   "source": [
    "duckdb.sql(\n",
    "    \"\"\"SELECT *\n",
    "           FROM read_json_auto('Data/*/*.json') LIMIT 1\"\"\"\n",
    "           )\n",
    "\n"
   ]
  },
  {
   "cell_type": "code",
   "execution_count": 35,
   "metadata": {},
   "outputs": [
    {
     "data": {
      "text/plain": [
       "┌─────────────────────────────────────────────┬──────────────┬─────────┬────────────┬─────────┬──────────────┬──────────────┬──────────────┬──────────────┬────────────┬───────────┬────────────┬────────────────┬────────────────┬────────────┬───────────────────────────────────────────────────────────────┬──────────────┬─────────┬───────────────────────────────────────────────────────────────────────────────────────────────┬────────────┬──────────┬───────────────────────────────────────────────────────────────────────────────────────────────────────────────────────────────────────────────────────────────────────────────────────────────────────────────────────────────────────────────────────────────────────────────────────────────────────────────────────────────────────────────────────────────────────────────────────────────────────────────────────────────────────────────┐\n",
       "│                  game_url                   │ time_control │  rated  │ time_class │  rules  │ white_rating │ white_result │ black_rating │ black_result │ pgn_event  │ pgn_site  │  pgn_date  │ pgn_white_user │ pgn_black_user │ pgn_result │                     pgn_current_position                      │ pgn_timezone │ pgn_eco │                                          pgn_eco_url                                          │ start_time │ End_time │                                                                                                                                                                                                                   pgn_test                                                                                                                                                                                                                    │\n",
       "│                   varchar                   │   varchar    │ boolean │  varchar   │ varchar │    int64     │   varchar    │    int64     │   varchar    │  varchar   │  varchar  │  varchar   │    varchar     │    varchar     │  varchar   │                            varchar                            │   varchar    │ varchar │                                            varchar                                            │  varchar   │ varchar  │                                                                                                                                                                                                                    varchar                                                                                                                                                                                                                    │\n",
       "├─────────────────────────────────────────────┼──────────────┼─────────┼────────────┼─────────┼──────────────┼──────────────┼──────────────┼──────────────┼────────────┼───────────┼────────────┼────────────────┼────────────────┼────────────┼───────────────────────────────────────────────────────────────┼──────────────┼─────────┼───────────────────────────────────────────────────────────────────────────────────────────────┼────────────┼──────────┼───────────────────────────────────────────────────────────────────────────────────────────────────────────────────────────────────────────────────────────────────────────────────────────────────────────────────────────────────────────────────────────────────────────────────────────────────────────────────────────────────────────────────────────────────────────────────────────────────────────────────────────────────────────────┤\n",
       "│ https://www.chess.com/game/live/97873251101 │ 120+1        │ true    │ bullet     │ chess   │          472 │ timeout      │          513 │ win          │ Live Chess │ Chess.com │ 2024.01.01 │ restlessbuddha │ Rhythmbear1    │ 0-1        │ 2k1r3/1pprP1pp/1b1n1p2/5b2/1Q6/P1B2N2/2P2PPP/R3R1K1 w - -     │ UTC          │ A40     │ https://www.chess.com/openings/Englund-Gambit-Hartlaub-Charlick-Gambit                        │ 18:37:11   │ 18:41:16 │ d4 e5 dxe5 d6 exd6 Bxd6 Nc3 Nc6 Bd2 Bf5 e4 Bg6 Bb5 Qd7 Nf3 O-O-O O-O a6 Bxc6 Qxc6 e5 Bb4 a3 Ba5 b4 Bb6 Re1 f6 e6 Ne7 Qb1 Rhe8 b5 axb5 Nxb5 Qxb5 Qxb5 Nf5 Bc3 Nd6 Qb4 Bf5 e7 Rd7                                                                                                                                                                                                                                                               │\n",
       "│ https://www.chess.com/game/live/97873345701 │ 120+1        │ true    │ bullet     │ chess   │          507 │ win          │          505 │ timeout      │ Live Chess │ Chess.com │ 2024.01.01 │ Pouyanpendar   │ Rhythmbear1    │ 1-0        │ 8/8/4k3/3p1p2/3P4/3N1K2/1p5P/8 b - -                          │ UTC          │ C00     │ https://www.chess.com/openings/French-Defense-Knight-Variation-2...d5-3.exd5-exd5             │ 18:41:30   │ 18:47:38 │ e4 e6 Nf3 d5 exd5 exd5 Nc3 c6 g3 Bd6 Bg2 Ne7 O-O O-O d3 Bg4 Bg5 f6 Bh4 Nd7 Qe2 Ne5 Qe3 Re8 Rae1 N7g6 d4 Nxf3+ Bxf3 Rxe3 Rxe3 Bxf3 Rxf3 Nxh4 gxh4 Qe8 Re3 Qg6+ Kh1 Qxc2 Re2 Qg6 Rg1 Qf7 f3 Re8 Reg2 g6 h5 Bb4 hxg6 hxg6 Rxg6+ Kf8 Rg8+ Ke7 R8g7 Qxg7 Rxg7+ Kf8 Rh7 Re1+ Kg2 Re2+ Kh3 Rxb2 Na4 Bc3 Nxc3 a5 f4 b5 f5 Rf2 Nd1 Rf3+ Kg2 Rxf5 Ne3 Rg5+ Kf3 Rg7 Rxg7 Kxg7 Nf5+ Kg6 Nd6 a4 Nb7 f5 Nc5 Kf6 Nd3 Ke6 Ne5 b4 Nxc6 b3 axb3 axb3 Nb4 b2 Nd3 │\n",
       "│ https://www.chess.com/game/live/97873876463 │ 120+1        │ true    │ bullet     │ chess   │          513 │ win          │          517 │ checkmated   │ Live Chess │ Chess.com │ 2024.01.01 │ Rhythmbear1    │ ludinho37      │ 1-0        │ 1k1Q4/ppp5/8/6p1/6B1/P3b3/1PP3PP/RK6 b - -                    │ UTC          │ A06     │ https://www.chess.com/openings/Reti-Opening-Tennison-Gambit                                   │ 18:48:17   │ 18:52:25 │ e4 d5 Nf3 dxe4 Ng5 Nf6 d3 Bf5 Bf4 Nc6 Be2 e5 Bg3 h6 dxe4 Qxd1+ Kxd1 O-O-O+ Bd3 hxg5 exf5 Bc5 Nd2 Ng4 Rf1 Rhe8 a3 e4 Be2 e3 fxe3 Rxe3 Bxg4 Ne5 Bxe5 Rxe5 f6+ Kb8 fxg7 Red5 Rxf7 Rxd2+ Kc1 Be3 Kb1 Rg8 Rf8+ Rxf8 gxf8=Q+ Rd8 Qxd8#                                                                                                                                                                                                              │\n",
       "│ https://www.chess.com/game/live/97875744235 │ 120+1        │ true    │ bullet     │ chess   │          502 │ resigned     │          382 │ win          │ Live Chess │ Chess.com │ 2024.01.01 │ Rhythmbear1    │ Draknaard      │ 0-1        │ r1bqkbnr/1pp2ppp/p1np4/1B2p3/4P3/5N2/PPPP1PPP/RNBQ1K1R w kq - │ UTC          │ C62     │ https://www.chess.com/openings/Ruy-Lopez-Opening-Old-Steinitz-Defense                         │ 19:21:35   │ 19:22:02 │ e4 e5 Nf3 Nc6 Bb5 d6 Kf1 a6                                                                                                                                                                                                                                                                                                                                                                                                                   │\n",
       "│ https://www.chess.com/game/live/97875757239 │ 120+1        │ true    │ bullet     │ chess   │          507 │ win          │          494 │ resigned     │ Live Chess │ Chess.com │ 2024.01.01 │ Sportmen53     │ Rhythmbear1    │ 1-0        │ rnb1k2r/ppp1bppp/4pn2/6N1/7Q/3B4/PP3PPP/RNB1K2R b KQkq -      │ UTC          │ C00     │ https://www.chess.com/openings/French-Defense                                                 │ 19:22:11   │ 19:23:36 │ e4 e6 Qh5 d5 Nf3 Nf6 Qh4 dxe4 Ng5 Be7 d3 exd3 cxd3 Qxd3 Bxd3                                                                                                                                                                                                                                                                                                                                                                                  │\n",
       "│ https://www.chess.com/game/live/97876174615 │ 120+1        │ true    │ bullet     │ chess   │          519 │ win          │          486 │ timeout      │ Live Chess │ Chess.com │ 2024.01.01 │ grill3to       │ Rhythmbear1    │ 1-0        │ 3r1rk1/p4pp1/2B1n2p/4R1bb/8/1PN5/1BPP1RPP/2K5 b - -           │ UTC          │ C00     │ https://www.chess.com/openings/French-Defense-Knight-Variation-2...d5                         │ 19:23:46   │ 19:28:03 │ e4 e6 Nf3 d5 Qe2 dxe4 Qxe4 Nf6 Qa4+ Bd7 Qb3 b6 Bb5 c6 Be2 Be7 Qd3 O-O Ng5 Bc5 b3 h6 Ne4 Nxe4 Qxe4 Qf6 Bd3 Bxf2+ Kd1 Qg6 Rf1 Qxe4 Bxe4 Bh4 Nc3 Na6 Bb2 Rad8 Rf4 Bg5 Rf2 e5 a4 Bg4+ Kc1 Bh5 a5 bxa5 Rxa5 Nc7 Bxc6 Ne6 Rxe5                                                                                                                                                                                                                      │\n",
       "│ https://www.chess.com/game/live/97876270961 │ 120+1        │ true    │ bullet     │ chess   │          493 │ win          │          452 │ timeout      │ Live Chess │ Chess.com │ 2024.01.01 │ Rhythmbear1    │ 1Schaffer1     │ 1-0        │ 5Q2/7p/P4Np1/1b1R2k1/8/2P2P2/6PP/6K1 b - -                    │ UTC          │ C60     │ https://www.chess.com/openings/Ruy-Lopez-Opening-Cozio-Defense-4.O-O-g6                       │ 19:28:13   │ 19:34:03 │ e4 e5 Nf3 Nc6 Bb5 Nge7 O-O g6 Re1 Bg7 c3 O-O d4 a6 Bxc6 Nxc6 Bg5 Bf6 Bxf6 Qxf6 dxe5 Nxe5 Nxe5 Qxe5 Nd2 b6 Nf3 Qh5 Qb3 Bb7 Rad1 Rad8 Nd2 Rfe8 f3 c6 Nf1 d5 Ng3 Qh4 Qxb6 Bc8 Qxc6 dxe4 Nxe4 Rxd1 Qxe8+ Kg7 Rxd1 Bf5 Qe5+ f6 Qe7+ Kh6 Nxf6 Bc2 Ng8+ Kh5 Qxh4+ Kxh4 Rd4+ Kh5 Nf6+ Kh6 Rd6 Bb1 a3 Ba2 Rxa6 Bc4 Rc6 Bb5 Rc5 Ba6 b4 Bb7 Re5 Ba6 a4 Bc4 b5 Bb3 Re4 Bc2 Rd4 Bb3 a5 Bc2 b6 Bf5 a6 Bc8 b7 Bd7 b8=Q Bb5 Qf8+ Kg5 Rd5+                     │\n",
       "│ https://www.chess.com/game/live/97876789527 │ 120+1        │ true    │ bullet     │ chess   │          501 │ win          │          478 │ checkmated   │ Live Chess │ Chess.com │ 2024.01.01 │ Rhythmbear1    │ TheGlove20     │ 1-0        │ 3r1r1k/2p5/p2qppQ1/1p6/3P4/2P4R/P1P2PPP/3R2K1 b - -           │ UTC          │ B01     │ https://www.chess.com/openings/Scandinavian-Defense-Mieses-Kotrc-Variation-3.Nc3-Qd8-4.d4-Nf6 │ 19:34:27   │ 19:38:51 │ e4 d5 exd5 Qxd5 Nc3 Qd8 d4 Nf6 Bf4 e6 Bd3 Nc6 Nf3 Bb4 O-O b6 Re1 Bxc3 bxc3 Bb7 Bb5 O-O Rb1 a6 Ba4 b5 Bb3 Ne4 Qd3 Ne7 Rbd1 Bd5 Bxd5 Nxd5 Rxe4 Nxf4 Rxf4 Qd6 Rg4 g6 Ne5 Rad8 Rg3 f6 Nxg6 hxg6 Qxg6+ Kh8 Rh3#                                                                                                                                                                                                                                    │\n",
       "│ https://www.chess.com/game/live/97876929405 │ 120+1        │ true    │ bullet     │ chess   │          507 │ win          │          401 │ resigned     │ Live Chess │ Chess.com │ 2024.01.01 │ Rhythmbear1    │ Ferhatezmezz   │ 1-0        │ r3k2r/pb1P3p/np4pb/2pp1p2/3P4/2N2N2/PPPQ2PP/4RRK1 b kq -      │ UTC          │ B00     │ https://www.chess.com/openings/Owens-Defense                                                  │ 19:40:56   │ 19:44:04 │ e4 b6 f4 g6 Nc3 Bb7 d4 d5 e5 c6 Nf3 f6 Bd3 fxe5 fxe5 e6 O-O Nh6 Bg5 Qd7 Qd2 Nf5 Bxf5 exf5 Bh6 Na6 Rae1 c5 e6 Bxh6 exd7+                                                                                                                                                                                                                                                                                                                       │\n",
       "│ https://www.chess.com/game/live/97877402387 │ 120+1        │ true    │ bullet     │ chess   │          544 │ win          │          500 │ timeout      │ Live Chess │ Chess.com │ 2024.01.01 │ Hygorithm      │ Rhythmbear1    │ 1-0        │ 6k1/ppq2pbp/6p1/8/4Q3/6PP/P3RP1K/2r5 b - -                    │ UTC          │ A04     │ https://www.chess.com/openings/Queens-Pawn-Opening-Vos-Gambit                                 │ 19:45:01   │ 19:49:29 │ d4 e5 Nf3 d6 e4 Nc6 d5 Nce7 Bd3 g6 O-O Bg7 c4 Nf6 Nc3 O-O b3 c6 Bb2 cxd5 exd5 Re8 Rb1 Bg4 h3 Bxf3 Qxf3 Nc8 Ne4 Nb6 c5 dxc5 Nxc5 Rb8 Rfe1 Nfxd5 Ne4 Rc8 Nd2 Nb4 Nc4 Nxd3 Re3 Nxb2 Rxb2 Nxc4 bxc4 Rxc4 Rbe2 Rc1+ Kh2 e4 Rxe4 Qc7+ g3 Rxe4 Qxe4                                                                                                                                                                                                  │\n",
       "├─────────────────────────────────────────────┴──────────────┴─────────┴────────────┴─────────┴──────────────┴──────────────┴──────────────┴──────────────┴────────────┴───────────┴────────────┴────────────────┴────────────────┴────────────┴───────────────────────────────────────────────────────────────┴──────────────┴─────────┴───────────────────────────────────────────────────────────────────────────────────────────────┴────────────┴──────────┴───────────────────────────────────────────────────────────────────────────────────────────────────────────────────────────────────────────────────────────────────────────────────────────────────────────────────────────────────────────────────────────────────────────────────────────────────────────────────────────────────────────────────────────────────────────────────────────────────────────────────────────────────────────────┤\n",
       "│ 10 rows                                                                                                                                                                                                                                                                                                                                                                                                                                                                                                                                                                                                                                                                                                                                                                                                                                                                                            22 columns │\n",
       "└───────────────────────────────────────────────────────────────────────────────────────────────────────────────────────────────────────────────────────────────────────────────────────────────────────────────────────────────────────────────────────────────────────────────────────────────────────────────────────────────────────────────────────────────────────────────────────────────────────────────────────────────────────────────────────────────────────────────────────────────────────────────────────────────────────────────────────────────────────────────────────────────────────────────────────────────────────────────────────────────────────────────────────────────────────────────────────────────────────────────────────────────────────────────────────────────────────────────────────────────────────────────────────────────────────────────────────────────────────────────┘"
      ]
     },
     "execution_count": 35,
     "metadata": {},
     "output_type": "execute_result"
    }
   ],
   "source": [
    "duckdb.sql(\n",
    "    \"\"\"SELECT url as game_url,\n",
    "                time_control as time_control,\n",
    "                rated as rated,\n",
    "                time_class as time_class,\n",
    "                rules as rules,\n",
    "                white.rating as white_rating,\n",
    "                white.result as white_result,\n",
    "                black.rating as black_rating,\n",
    "                black.result as black_result,    \n",
    "                REGEXP_EXTRACT(pgn, '\\[Event \"(.*?)\"', 1) as pgn_event,\n",
    "                REGEXP_EXTRACT(pgn, '\\[Site \"(.*?)\"', 1) as pgn_site,\n",
    "                REGEXP_EXTRACT(pgn, '\\[Date \"(.*?)\"', 1) as pgn_date, \n",
    "                REGEXP_EXTRACT(pgn, '\\[White \"(.*?)\"', 1) as pgn_white_user,   \n",
    "                REGEXP_EXTRACT(pgn, '\\[Black \"(.*?)\"', 1) as pgn_black_user,\n",
    "                REGEXP_EXTRACT(pgn, '\\[Result \"(.*?)\"', 1) as pgn_result,\n",
    "                REGEXP_EXTRACT(pgn, '\\[CurrentPosition \"(.*?)\"', 1) as pgn_current_position,\n",
    "                REGEXP_EXTRACT(pgn, '\\[Timezone \"(.*?)\"', 1) as pgn_timezone,\n",
    "                REGEXP_EXTRACT(pgn, '\\[ECO \"(.*?)\"', 1) as pgn_eco,\n",
    "                REGEXP_EXTRACT(pgn, '\\[ECOUrl \"(.*?)\"', 1) as pgn_eco_url,\n",
    "                REGEXP_EXTRACT(pgn, '\\[StartTime \"(.*?)\"', 1) as start_time,\n",
    "                REGEXP_EXTRACT(pgn, '\\[EndTime \"(.*?)\"', 1) as End_time,\n",
    "                ARRAY_TO_STRING(REGEXP_EXTRACT_ALL(pgn, '\\. (.*?) {\\[', 1), ' ') as pgn_test\n",
    "           FROM read_json_auto('Data/*/*.json') LIMIT 10\"\"\"\n",
    "           )\n",
    "\n"
   ]
  },
  {
   "cell_type": "code",
   "execution_count": null,
   "metadata": {},
   "outputs": [],
   "source": [
    "# Create Dimension tables for Openings, Date, Player and GameType\n",
    "\n",
    "# Openings Dimension Table\n",
    "conn.execute(\"\"\"\n",
    "CREATE TABLE IF NOT EXISTS Openings AS\n",
    "SELECT DISTINCT\n",
    "    pgn_eco AS opening_code,\n",
    "    pgn_eco_url AS opening_url\n",
    "FROM read_json_auto('Data/*/*.json')\n",
    "\"\"\")\n",
    "\n",
    "# Date Dimension Table\n",
    "conn.execute(\"\"\"\n",
    "CREATE TABLE IF NOT EXISTS Date AS\n",
    "SELECT DISTINCT\n",
    "    pgn_date AS game_date,\n",
    "    start_time,\n",
    "    End_time\n",
    "FROM read_json_auto('Data/*/*.json')\n",
    "\"\"\")\n",
    "\n",
    "# Player Dimension Table\n",
    "conn.execute(\"\"\"\n",
    "\n",
    "# Openings Dimension Table\n",
    "conn.execute(\"\"\"\n",
    "CREATE TABLE IF NOT EXISTS Openings AS\n",
    "SELECT DISTINCT\n",
    "    pgn_eco AS opening_code,\n",
    "    pgn_eco_url AS opening_url\n",
    "FROM read_json_auto('Data/*/*.json')\n",
    "\"\"\")\n",
    "\n",
    "# Date Dimension Table\n",
    "conn.execute(\"\"\"\n",
    "CREATE TABLE IF NOT EXISTS Date AS\n",
    "SELECT DISTINCT\n",
    "    pgn_date AS game_date,\n",
    "    start_time,\n",
    "    End_time\n",
    "FROM read_json_auto('Data/*/*.json')\n",
    "\"\"\")\n",
    "\n",
    "# Player Dimension Table\n",
    "conn.execute(\"\"\"\n"
   ]
  },
  {
   "cell_type": "code",
   "execution_count": 10,
   "metadata": {},
   "outputs": [
    {
     "data": {
      "application/vnd.jupyter.widget-view+json": {
       "model_id": "40585131db004dbc9de40a2cfcd1d038",
       "version_major": 2,
       "version_minor": 0
      },
      "text/plain": [
       "FloatProgress(value=0.0, layout=Layout(width='auto'), style=ProgressStyle(bar_color='black'))"
      ]
     },
     "metadata": {},
     "output_type": "display_data"
    },
    {
     "data": {
      "text/html": [
       "<div>\n",
       "<style scoped>\n",
       "    .dataframe tbody tr th:only-of-type {\n",
       "        vertical-align: middle;\n",
       "    }\n",
       "\n",
       "    .dataframe tbody tr th {\n",
       "        vertical-align: top;\n",
       "    }\n",
       "\n",
       "    .dataframe thead th {\n",
       "        text-align: right;\n",
       "    }\n",
       "</style>\n",
       "<table border=\"1\" class=\"dataframe\">\n",
       "  <thead>\n",
       "    <tr style=\"text-align: right;\">\n",
       "      <th></th>\n",
       "      <th>eco_family</th>\n",
       "      <th>eco</th>\n",
       "      <th>name</th>\n",
       "      <th>pgn</th>\n",
       "    </tr>\n",
       "  </thead>\n",
       "  <tbody>\n",
       "    <tr>\n",
       "      <th>0</th>\n",
       "      <td>A</td>\n",
       "      <td>A00</td>\n",
       "      <td>Amar Opening</td>\n",
       "      <td>1. Nh3</td>\n",
       "    </tr>\n",
       "    <tr>\n",
       "      <th>1</th>\n",
       "      <td>A</td>\n",
       "      <td>A00</td>\n",
       "      <td>Amar Opening: Paris Gambit</td>\n",
       "      <td>1. Nh3 d5 2. g3 e5 3. f4</td>\n",
       "    </tr>\n",
       "    <tr>\n",
       "      <th>2</th>\n",
       "      <td>A</td>\n",
       "      <td>A00</td>\n",
       "      <td>Amar Opening: Paris Gambit, Gent Gambit</td>\n",
       "      <td>1. Nh3 d5 2. g3 e5 3. f4 Bxh3 4. Bxh3 exf4 5. ...</td>\n",
       "    </tr>\n",
       "    <tr>\n",
       "      <th>3</th>\n",
       "      <td>A</td>\n",
       "      <td>A00</td>\n",
       "      <td>Amsterdam Attack</td>\n",
       "      <td>1. e3 e5 2. c4 d6 3. Nc3 Nc6 4. b3 Nf6</td>\n",
       "    </tr>\n",
       "    <tr>\n",
       "      <th>4</th>\n",
       "      <td>A</td>\n",
       "      <td>A00</td>\n",
       "      <td>Anderssen's Opening</td>\n",
       "      <td>1. a3</td>\n",
       "    </tr>\n",
       "    <tr>\n",
       "      <th>...</th>\n",
       "      <td>...</td>\n",
       "      <td>...</td>\n",
       "      <td>...</td>\n",
       "      <td>...</td>\n",
       "    </tr>\n",
       "    <tr>\n",
       "      <th>3508</th>\n",
       "      <td>E</td>\n",
       "      <td>E98</td>\n",
       "      <td>King's Indian Defense: Orthodox Variation, Cla...</td>\n",
       "      <td>1. d4 Nf6 2. c4 g6 3. Nc3 Bg7 4. e4 d6 5. Nf3 ...</td>\n",
       "    </tr>\n",
       "    <tr>\n",
       "      <th>3509</th>\n",
       "      <td>E</td>\n",
       "      <td>E98</td>\n",
       "      <td>King's Indian Defense: Orthodox Variation, Cla...</td>\n",
       "      <td>1. d4 Nf6 2. c4 g6 3. Nc3 Bg7 4. e4 d6 5. Nf3 ...</td>\n",
       "    </tr>\n",
       "    <tr>\n",
       "      <th>3510</th>\n",
       "      <td>E</td>\n",
       "      <td>E98</td>\n",
       "      <td>King's Indian Defense: Orthodox Variation, Cla...</td>\n",
       "      <td>1. d4 Nf6 2. c4 g6 3. Nc3 Bg7 4. e4 d6 5. Nf3 ...</td>\n",
       "    </tr>\n",
       "    <tr>\n",
       "      <th>3511</th>\n",
       "      <td>E</td>\n",
       "      <td>E99</td>\n",
       "      <td>King's Indian Defense: Orthodox Variation, Cla...</td>\n",
       "      <td>1. d4 Nf6 2. c4 g6 3. Nc3 Bg7 4. e4 d6 5. Nf3 ...</td>\n",
       "    </tr>\n",
       "    <tr>\n",
       "      <th>3512</th>\n",
       "      <td>E</td>\n",
       "      <td>E99</td>\n",
       "      <td>King's Indian Defense: Orthodox Variation, Cla...</td>\n",
       "      <td>1. d4 Nf6 2. c4 g6 3. Nc3 Bg7 4. e4 d6 5. Nf3 ...</td>\n",
       "    </tr>\n",
       "  </tbody>\n",
       "</table>\n",
       "<p>3513 rows × 4 columns</p>\n",
       "</div>"
      ],
      "text/plain": [
       "     eco_family  eco                                               name  \\\n",
       "0             A  A00                                       Amar Opening   \n",
       "1             A  A00                         Amar Opening: Paris Gambit   \n",
       "2             A  A00            Amar Opening: Paris Gambit, Gent Gambit   \n",
       "3             A  A00                                   Amsterdam Attack   \n",
       "4             A  A00                                Anderssen's Opening   \n",
       "...         ...  ...                                                ...   \n",
       "3508          E  E98  King's Indian Defense: Orthodox Variation, Cla...   \n",
       "3509          E  E98  King's Indian Defense: Orthodox Variation, Cla...   \n",
       "3510          E  E98  King's Indian Defense: Orthodox Variation, Cla...   \n",
       "3511          E  E99  King's Indian Defense: Orthodox Variation, Cla...   \n",
       "3512          E  E99  King's Indian Defense: Orthodox Variation, Cla...   \n",
       "\n",
       "                                                    pgn  \n",
       "0                                                1. Nh3  \n",
       "1                              1. Nh3 d5 2. g3 e5 3. f4  \n",
       "2     1. Nh3 d5 2. g3 e5 3. f4 Bxh3 4. Bxh3 exf4 5. ...  \n",
       "3                1. e3 e5 2. c4 d6 3. Nc3 Nc6 4. b3 Nf6  \n",
       "4                                                 1. a3  \n",
       "...                                                 ...  \n",
       "3508  1. d4 Nf6 2. c4 g6 3. Nc3 Bg7 4. e4 d6 5. Nf3 ...  \n",
       "3509  1. d4 Nf6 2. c4 g6 3. Nc3 Bg7 4. e4 d6 5. Nf3 ...  \n",
       "3510  1. d4 Nf6 2. c4 g6 3. Nc3 Bg7 4. e4 d6 5. Nf3 ...  \n",
       "3511  1. d4 Nf6 2. c4 g6 3. Nc3 Bg7 4. e4 d6 5. Nf3 ...  \n",
       "3512  1. d4 Nf6 2. c4 g6 3. Nc3 Bg7 4. e4 d6 5. Nf3 ...  \n",
       "\n",
       "[3513 rows x 4 columns]"
      ]
     },
     "execution_count": 10,
     "metadata": {},
     "output_type": "execute_result"
    }
   ],
   "source": [
    "# Transform openings csv \n",
    "openings = conn.sql(\"\"\"\n",
    "            SELECT \"eco-volume\" as eco_family, eco, name, pgn\n",
    "            FROM 'hf://datasets/Lichess/chess-openings/data/train-00000-of-00001.parquet'\n",
    "         \"\"\"\n",
    ").df()\n",
    "openings\n"
   ]
  },
  {
   "cell_type": "code",
   "execution_count": 16,
   "metadata": {},
   "outputs": [
    {
     "ename": "BinderException",
     "evalue": "Binder Error: Referenced column \"A06\" not found in FROM clause!\nCandidate bindings: \"openings.eco\"",
     "output_type": "error",
     "traceback": [
      "\u001b[0;31m---------------------------------------------------------------------------\u001b[0m",
      "\u001b[0;31mBinderException\u001b[0m                           Traceback (most recent call last)",
      "Cell \u001b[0;32mIn[16], line 1\u001b[0m\n\u001b[0;32m----> 1\u001b[0m \u001b[43mconn\u001b[49m\u001b[38;5;241;43m.\u001b[39;49m\u001b[43msql\u001b[49m\u001b[43m(\u001b[49m\u001b[38;5;124;43m\"\"\"\u001b[39;49m\u001b[38;5;124;43mSELECT *  \u001b[39;49m\n\u001b[1;32m      2\u001b[0m \u001b[38;5;124;43m            FROM openings\u001b[39;49m\n\u001b[1;32m      3\u001b[0m \u001b[38;5;124;43m            WHERE openings.eco = \u001b[39;49m\u001b[38;5;124;43m\"\u001b[39;49m\u001b[38;5;124;43mA06\u001b[39;49m\u001b[38;5;124;43m\"\u001b[39;49m\n\u001b[1;32m      4\u001b[0m \u001b[38;5;124;43m         \u001b[39;49m\u001b[38;5;124;43m\"\"\"\u001b[39;49m\u001b[43m)\u001b[49m\n",
      "\u001b[0;31mBinderException\u001b[0m: Binder Error: Referenced column \"A06\" not found in FROM clause!\nCandidate bindings: \"openings.eco\""
     ]
    }
   ],
   "source": [
    "conn.sql(\"\"\"SELECT *  \n",
    "            FROM openings\n",
    "            WHERE openings.eco = \"A06\"\n",
    "         \"\"\")"
   ]
  },
  {
   "cell_type": "code",
   "execution_count": null,
   "metadata": {},
   "outputs": [],
   "source": []
  }
 ],
 "metadata": {
  "kernelspec": {
   "display_name": "venv",
   "language": "python",
   "name": "python3"
  },
  "language_info": {
   "codemirror_mode": {
    "name": "ipython",
    "version": 3
   },
   "file_extension": ".py",
   "mimetype": "text/x-python",
   "name": "python",
   "nbconvert_exporter": "python",
   "pygments_lexer": "ipython3",
   "version": "3.10.12"
  }
 },
 "nbformat": 4,
 "nbformat_minor": 2
}
