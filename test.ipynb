{
 "cells": [
  {
   "cell_type": "code",
   "execution_count": 2,
   "metadata": {},
   "outputs": [],
   "source": [
    "import duckdb"
   ]
  },
  {
   "cell_type": "code",
   "execution_count": 3,
   "metadata": {},
   "outputs": [],
   "source": [
    "conn = duckdb.connect()"
   ]
  },
  {
   "cell_type": "code",
   "execution_count": 4,
   "metadata": {},
   "outputs": [
    {
     "data": {
      "text/plain": [
       "┌──────────────────────────────────────────────┬──────────────┬─────────┬────────────┬─────────┬──────────────┬──────────────┬──────────────┬──────────────┬────────────┬───────────┬──────────┬─────────────────┬────────────────┬────────────┬───────────────────────────────────────────────────────────────┬──────────────┬─────────┬───────────────────────────────────────────────────────────────────────────────────────────────┬────────────┬──────────┐\n",
       "│                   game_url                   │ time_control │  rated  │ time_class │  rules  │ white_rating │ white_result │ black_rating │ black_result │ pgn_event  │ pgn_site  │ pgn_date │ pgn_white_user  │ pgn_black_user │ pgn_result │                     pgn_current_position                      │ pgn_timezone │ pgn_eco │                                          pgn_eco_url                                          │ start_time │ End_time │\n",
       "│                   varchar                    │   varchar    │ boolean │  varchar   │ varchar │    int64     │   varchar    │    int64     │   varchar    │  varchar   │  varchar  │ varchar  │     varchar     │    varchar     │  varchar   │                            varchar                            │   varchar    │ varchar │                                            varchar                                            │  varchar   │ varchar  │\n",
       "├──────────────────────────────────────────────┼──────────────┼─────────┼────────────┼─────────┼──────────────┼──────────────┼──────────────┼──────────────┼────────────┼───────────┼──────────┼─────────────────┼────────────────┼────────────┼───────────────────────────────────────────────────────────────┼──────────────┼─────────┼───────────────────────────────────────────────────────────────────────────────────────────────┼────────────┼──────────┤\n",
       "│ https://www.chess.com/game/live/97873251101  │ 120+1        │ true    │ bullet     │ chess   │          472 │ timeout      │          513 │ win          │ Live Chess │ Chess.com │ -        │ restlessbuddha  │ Rhythmbear1    │ 0-1        │ 2k1r3/1pprP1pp/1b1n1p2/5b2/1Q6/P1B2N2/2P2PPP/R3R1K1 w - -     │ UTC          │ A40     │ https://www.chess.com/openings/Englund-Gambit-Hartlaub-Charlick-Gambit                        │ 18:37:11   │ 18:41:16 │\n",
       "│ https://www.chess.com/game/live/97873345701  │ 120+1        │ true    │ bullet     │ chess   │          507 │ win          │          505 │ timeout      │ Live Chess │ Chess.com │ -        │ Pouyanpendar    │ Rhythmbear1    │ 1-0        │ 8/8/4k3/3p1p2/3P4/3N1K2/1p5P/8 b - -                          │ UTC          │ C00     │ https://www.chess.com/openings/French-Defense-Knight-Variation-2...d5-3.exd5-exd5             │ 18:41:30   │ 18:47:38 │\n",
       "│ https://www.chess.com/game/live/97873876463  │ 120+1        │ true    │ bullet     │ chess   │          513 │ win          │          517 │ checkmated   │ Live Chess │ Chess.com │ -        │ Rhythmbear1     │ ludinho37      │ 1-0        │ 1k1Q4/ppp5/8/6p1/6B1/P3b3/1PP3PP/RK6 b - -                    │ UTC          │ A06     │ https://www.chess.com/openings/Reti-Opening-Tennison-Gambit                                   │ 18:48:17   │ 18:52:25 │\n",
       "│ https://www.chess.com/game/live/97875744235  │ 120+1        │ true    │ bullet     │ chess   │          502 │ resigned     │          382 │ win          │ Live Chess │ Chess.com │ -        │ Rhythmbear1     │ Draknaard      │ 0-1        │ r1bqkbnr/1pp2ppp/p1np4/1B2p3/4P3/5N2/PPPP1PPP/RNBQ1K1R w kq - │ UTC          │ C62     │ https://www.chess.com/openings/Ruy-Lopez-Opening-Old-Steinitz-Defense                         │ 19:21:35   │ 19:22:02 │\n",
       "│ https://www.chess.com/game/live/97875757239  │ 120+1        │ true    │ bullet     │ chess   │          507 │ win          │          494 │ resigned     │ Live Chess │ Chess.com │ -        │ Sportmen53      │ Rhythmbear1    │ 1-0        │ rnb1k2r/ppp1bppp/4pn2/6N1/7Q/3B4/PP3PPP/RNB1K2R b KQkq -      │ UTC          │ C00     │ https://www.chess.com/openings/French-Defense                                                 │ 19:22:11   │ 19:23:36 │\n",
       "│ https://www.chess.com/game/live/97876174615  │ 120+1        │ true    │ bullet     │ chess   │          519 │ win          │          486 │ timeout      │ Live Chess │ Chess.com │ -        │ grill3to        │ Rhythmbear1    │ 1-0        │ 3r1rk1/p4pp1/2B1n2p/4R1bb/8/1PN5/1BPP1RPP/2K5 b - -           │ UTC          │ C00     │ https://www.chess.com/openings/French-Defense-Knight-Variation-2...d5                         │ 19:23:46   │ 19:28:03 │\n",
       "│ https://www.chess.com/game/live/97876270961  │ 120+1        │ true    │ bullet     │ chess   │          493 │ win          │          452 │ timeout      │ Live Chess │ Chess.com │ -        │ Rhythmbear1     │ 1Schaffer1     │ 1-0        │ 5Q2/7p/P4Np1/1b1R2k1/8/2P2P2/6PP/6K1 b - -                    │ UTC          │ C60     │ https://www.chess.com/openings/Ruy-Lopez-Opening-Cozio-Defense-4.O-O-g6                       │ 19:28:13   │ 19:34:03 │\n",
       "│ https://www.chess.com/game/live/97876789527  │ 120+1        │ true    │ bullet     │ chess   │          501 │ win          │          478 │ checkmated   │ Live Chess │ Chess.com │ -        │ Rhythmbear1     │ TheGlove20     │ 1-0        │ 3r1r1k/2p5/p2qppQ1/1p6/3P4/2P4R/P1P2PPP/3R2K1 b - -           │ UTC          │ B01     │ https://www.chess.com/openings/Scandinavian-Defense-Mieses-Kotrc-Variation-3.Nc3-Qd8-4.d4-Nf6 │ 19:34:27   │ 19:38:51 │\n",
       "│ https://www.chess.com/game/live/97876929405  │ 120+1        │ true    │ bullet     │ chess   │          507 │ win          │          401 │ resigned     │ Live Chess │ Chess.com │ -        │ Rhythmbear1     │ Ferhatezmezz   │ 1-0        │ r3k2r/pb1P3p/np4pb/2pp1p2/3P4/2N2N2/PPPQ2PP/4RRK1 b kq -      │ UTC          │ B00     │ https://www.chess.com/openings/Owens-Defense                                                  │ 19:40:56   │ 19:44:04 │\n",
       "│ https://www.chess.com/game/live/97877402387  │ 120+1        │ true    │ bullet     │ chess   │          544 │ win          │          500 │ timeout      │ Live Chess │ Chess.com │ -        │ Hygorithm       │ Rhythmbear1    │ 1-0        │ 6k1/ppq2pbp/6p1/8/4Q3/6PP/P3RP1K/2r5 b - -                    │ UTC          │ A04     │ https://www.chess.com/openings/Queens-Pawn-Opening-Vos-Gambit                                 │ 19:45:01   │ 19:49:29 │\n",
       "│                      ·                       │  ·           │  ·      │   ·        │   ·     │           ·  │  ·           │           ·  │  ·           │     ·      │     ·     │ ·        │     ·           │    ·           │  ·         │                    ·                                          │  ·           │  ·      │                          ·                                                                    │    ·       │    ·     │\n",
       "│                      ·                       │  ·           │  ·      │   ·        │   ·     │           ·  │  ·           │           ·  │  ·           │     ·      │     ·     │ ·        │     ·           │    ·           │  ·         │                    ·                                          │  ·           │  ·      │                          ·                                                                    │    ·       │    ·     │\n",
       "│                      ·                       │  ·           │  ·      │   ·        │   ·     │           ·  │  ·           │           ·  │  ·           │     ·      │     ·     │ ·        │     ·           │    ·           │  ·         │                    ·                                          │  ·           │  ·      │                          ·                                                                    │    ·       │    ·     │\n",
       "│ https://www.chess.com/game/live/100379590869 │ 600          │ true    │ rapid      │ chess   │         1326 │ checkmated   │         1346 │ win          │ Live Chess │ Chess.com │ -        │ Rhythmbear1     │ ALEH1970       │ 0-1        │ 8/7p/p5pk/2p5/8/1P6/P1q1rR1P/2K2R2 w - -                      │ UTC          │ C41     │ https://www.chess.com/openings/Philidor-Defense-3.d4                                          │ 18:49:32   │ 19:02:35 │\n",
       "│ https://www.chess.com/game/live/100380265809 │ 600          │ true    │ rapid      │ chess   │         1317 │ timeout      │         1290 │ win          │ Live Chess │ Chess.com │ -        │ Rhythmbear1     │ kellyopte      │ 0-1        │ 6R1/4kn2/8/1p2p3/4P3/4K3/1P6/8 w - -                          │ UTC          │ C45     │ https://www.chess.com/openings/Scotch-Game-Scotch-Gambit-Haxo-Gambit-5.c3                     │ 19:03:25   │ 19:21:34 │\n",
       "│ https://www.chess.com/game/live/100381445879 │ 600          │ true    │ rapid      │ chess   │         1327 │ win          │         1309 │ abandoned    │ Live Chess │ Chess.com │ -        │ ROBNYC13        │ Rhythmbear1    │ 1-0        │ 1k1R4/5p2/p1r5/1p6/2p3n1/N1P3P1/PPK2P2/5R2 b - -              │ UTC          │ C00     │ https://www.chess.com/openings/French-Defense-Knight-Variation-2...d5-3.exd5-exd5             │ 19:21:58   │ 19:28:57 │\n",
       "│ https://www.chess.com/game/live/100423894027 │ 600          │ true    │ rapid      │ chess   │         1409 │ win          │         1303 │ resigned     │ Live Chess │ Chess.com │ -        │ qwertyvkonverte │ Rhythmbear1    │ 1-0        │ 8/8/5k2/1R3p2/5K2/8/8/8 b - -                                 │ UTC          │ C00     │ https://www.chess.com/openings/French-Defense-Knight-Variation-2...d5-3.exd5-exd5             │ 07:05:40   │ 07:16:34 │\n",
       "│ https://www.chess.com/game/live/100456342199 │ 600          │ true    │ rapid      │ chess   │         1310 │ win          │         1233 │ abandoned    │ Live Chess │ Chess.com │ -        │ Rhythmbear1     │ safishafiq     │ 1-0        │ 1k4r1/pb1Q4/1p1p4/3q4/8/P1P4B/1P4PP/6RK b - -                 │ UTC          │ B00     │ https://www.chess.com/openings/Owens-Defense...3.Nc3-e6-4.Bd3-Bb4                             │ 16:07:50   │ 16:20:42 │\n",
       "│ https://www.chess.com/game/live/100458887921 │ 120+1        │ true    │ bullet     │ chess   │          574 │ timeout      │          745 │ win          │ Live Chess │ Chess.com │ -        │ Rhythmbear1     │ hussein12n     │ 0-1        │ 4r1k1/pppb1p1p/6p1/8/8/B1P3P1/P1P2P1P/6K1 w - -               │ UTC          │ A04     │ https://www.chess.com/openings/Reti-Opening-Kingside-Fianchetto-Variation-2.e4                │ 16:53:24   │ 16:56:40 │\n",
       "│ https://www.chess.com/game/live/100507963665 │ 600          │ true    │ rapid      │ chess   │         1324 │ resigned     │         1319 │ win          │ Live Chess │ Chess.com │ -        │ Giordano2020    │ Rhythmbear1    │ 0-1        │ 5rk1/pp4pp/2bRp3/8/2Q1p3/1P6/P1P2qPP/7K b - -                 │ UTC          │ C00     │ https://www.chess.com/openings/French-Defense-Knight-Variation-2...d5-3.e5-c5                 │ 06:31:10   │ 06:38:00 │\n",
       "│ https://www.chess.com/game/live/100508530491 │ 600          │ true    │ rapid      │ chess   │         1329 │ win          │         1401 │ resigned     │ Live Chess │ Chess.com │ -        │ Rhythmbear1     │ skywaypro      │ 1-0        │ r6k/1p1N3p/3p4/3P1p2/P1Pb2p1/6P1/2Q3PP/4R2K b - -             │ UTC          │ B50     │ https://www.chess.com/openings/Sicilian-Defense-Deferred-Wing-Gambit                          │ 06:38:39   │ 06:50:49 │\n",
       "│ https://www.chess.com/game/live/100509809167 │ 600          │ true    │ rapid      │ chess   │         1394 │ win          │         1322 │ timeout      │ Live Chess │ Chess.com │ -        │ GM04TRIS        │ Rhythmbear1    │ 1-0        │ 8/2r2ppk/7p/1N6/5q2/8/2p3PP/4Q2K b - -                        │ UTC          │ C00     │ https://www.chess.com/openings/French-Defense                                                 │ 07:04:42   │ 07:24:05 │\n",
       "│ https://www.chess.com/game/live/100511525243 │ 600          │ true    │ rapid      │ chess   │         1310 │ checkmated   │         1330 │ win          │ Live Chess │ Chess.com │ -        │ hassanbanna     │ Rhythmbear1    │ 0-1        │ 8/2p5/8/pp6/7K/3k4/6r1/7q w - -                               │ UTC          │ A40     │ https://www.chess.com/openings/Englund-Gambit                                                 │ 07:28:07   │ 07:44:11 │\n",
       "├──────────────────────────────────────────────┴──────────────┴─────────┴────────────┴─────────┴──────────────┴──────────────┴──────────────┴──────────────┴────────────┴───────────┴──────────┴─────────────────┴────────────────┴────────────┴───────────────────────────────────────────────────────────────┴──────────────┴─────────┴───────────────────────────────────────────────────────────────────────────────────────────────┴────────────┴──────────┤\n",
       "│ 514 rows (20 shown)                                                                                                                                                                                                                                                                                                                                                                                                                                21 columns │\n",
       "└───────────────────────────────────────────────────────────────────────────────────────────────────────────────────────────────────────────────────────────────────────────────────────────────────────────────────────────────────────────────────────────────────────────────────────────────────────────────────────────────────────────────────────────────────────────────────────────────────────────────────────────────────────────────────────────────┘"
      ]
     },
     "execution_count": 4,
     "metadata": {},
     "output_type": "execute_result"
    }
   ],
   "source": [
    "duckdb.sql(\n",
    "    \"\"\"SELECT url as game_url,\n",
    "                time_control as time_control,\n",
    "                rated as rated,\n",
    "                time_class as time_class,\n",
    "                rules as rules,\n",
    "                white.rating as white_rating,\n",
    "                white.result as white_result,\n",
    "                black.rating as black_rating,\n",
    "                black.result as black_result,    \n",
    "                REGEXP_EXTRACT(pgn, '\\[Event \"(.*?)\"', 1) as pgn_event,\n",
    "                REGEXP_EXTRACT(pgn, '\\[Site \"(.*?)\"', 1) as pgn_site,\n",
    "                REGEXP_EXTRACT(pgn, '\\[Round \"(.*?)\"', 1) as pgn_date, \n",
    "                REGEXP_EXTRACT(pgn, '\\[White \"(.*?)\"', 1) as pgn_white_user,   \n",
    "                REGEXP_EXTRACT(pgn, '\\[Black \"(.*?)\"', 1) as pgn_black_user,\n",
    "                REGEXP_EXTRACT(pgn, '\\[Result \"(.*?)\"', 1) as pgn_result,\n",
    "                REGEXP_EXTRACT(pgn, '\\[CurrentPosition \"(.*?)\"', 1) as pgn_current_position,\n",
    "                REGEXP_EXTRACT(pgn, '\\[Timezone \"(.*?)\"', 1) as pgn_timezone,\n",
    "                REGEXP_EXTRACT(pgn, '\\[ECO \"(.*?)\"', 1) as pgn_eco,\n",
    "                REGEXP_EXTRACT(pgn, '\\[ECOUrl \"(.*?)\"', 1) as pgn_eco_url,\n",
    "                REGEXP_EXTRACT(pgn, '\\[StartTime \"(.*?)\"', 1) as start_time,\n",
    "                REGEXP_EXTRACT(pgn, '\\[EndTime \"(.*?)\"', 1) as End_time,\n",
    "           FROM read_json_auto('Data/*/*.json')\"\"\"\n",
    "           )\n",
    "\n"
   ]
  },
  {
   "cell_type": "code",
   "execution_count": null,
   "metadata": {},
   "outputs": [],
   "source": [
    "# Create Dimension tables for Openings, Date, Player and GameType\n",
    "\n",
    "# Openings Dimension Table\n",
    "conn.execute(\"\"\"\n",
    "CREATE TABLE IF NOT EXISTS Openings AS\n",
    "SELECT DISTINCT\n",
    "    pgn_eco AS opening_code,\n",
    "    pgn_eco_url AS opening_url\n",
    "FROM read_json_auto('Data/*/*.json')\n",
    "\"\"\")\n",
    "\n",
    "# Date Dimension Table\n",
    "conn.execute(\"\"\"\n",
    "CREATE TABLE IF NOT EXISTS Date AS\n",
    "SELECT DISTINCT\n",
    "    pgn_date AS game_date,\n",
    "    start_time,\n",
    "    End_time\n",
    "FROM read_json_auto('Data/*/*.json')\n",
    "\"\"\")\n",
    "\n",
    "# Player Dimension Table\n",
    "conn.execute(\"\"\"\n",
    "\n",
    "# Openings Dimension Table\n",
    "conn.execute(\"\"\"\n",
    "CREATE TABLE IF NOT EXISTS Openings AS\n",
    "SELECT DISTINCT\n",
    "    pgn_eco AS opening_code,\n",
    "    pgn_eco_url AS opening_url\n",
    "FROM read_json_auto('Data/*/*.json')\n",
    "\"\"\")\n",
    "\n",
    "# Date Dimension Table\n",
    "conn.execute(\"\"\"\n",
    "CREATE TABLE IF NOT EXISTS Date AS\n",
    "SELECT DISTINCT\n",
    "    pgn_date AS game_date,\n",
    "    start_time,\n",
    "    End_time\n",
    "FROM read_json_auto('Data/*/*.json')\n",
    "\"\"\")\n",
    "\n",
    "# Player Dimension Table\n",
    "conn.execute(\"\"\"\n"
   ]
  }
 ],
 "metadata": {
  "kernelspec": {
   "display_name": "venv",
   "language": "python",
   "name": "python3"
  },
  "language_info": {
   "codemirror_mode": {
    "name": "ipython",
    "version": 3
   },
   "file_extension": ".py",
   "mimetype": "text/x-python",
   "name": "python",
   "nbconvert_exporter": "python",
   "pygments_lexer": "ipython3",
   "version": "3.10.12"
  }
 },
 "nbformat": 4,
 "nbformat_minor": 2
}
