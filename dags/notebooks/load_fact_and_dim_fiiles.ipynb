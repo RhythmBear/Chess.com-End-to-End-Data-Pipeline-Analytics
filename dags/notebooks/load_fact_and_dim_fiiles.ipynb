{
 "cells": [
  {
   "cell_type": "markdown",
   "metadata": {},
   "source": [
    "# Notebook to create Final Fact and Dimensional tables. \n"
   ]
  },
  {
   "cell_type": "code",
   "execution_count": 1,
   "metadata": {},
   "outputs": [
    {
     "name": "stdout",
     "output_type": "stream",
     "text": [
      "Requirement already satisfied: azure-storage-blob in /home/rhythmbear/chess-wrapped-etl-pipeline/venv/lib/python3.10/site-packages (12.24.1)\n",
      "Requirement already satisfied: azure-core>=1.30.0 in /home/rhythmbear/chess-wrapped-etl-pipeline/venv/lib/python3.10/site-packages (from azure-storage-blob) (1.32.0)\n",
      "Requirement already satisfied: cryptography>=2.1.4 in /home/rhythmbear/chess-wrapped-etl-pipeline/venv/lib/python3.10/site-packages (from azure-storage-blob) (44.0.2)\n",
      "Requirement already satisfied: isodate>=0.6.1 in /home/rhythmbear/chess-wrapped-etl-pipeline/venv/lib/python3.10/site-packages (from azure-storage-blob) (0.6.1)\n",
      "Requirement already satisfied: typing-extensions>=4.6.0 in /home/rhythmbear/chess-wrapped-etl-pipeline/venv/lib/python3.10/site-packages (from azure-storage-blob) (4.12.2)\n",
      "Requirement already satisfied: requests>=2.21.0 in /home/rhythmbear/chess-wrapped-etl-pipeline/venv/lib/python3.10/site-packages (from azure-core>=1.30.0->azure-storage-blob) (2.32.3)\n",
      "Requirement already satisfied: six>=1.11.0 in /home/rhythmbear/chess-wrapped-etl-pipeline/venv/lib/python3.10/site-packages (from azure-core>=1.30.0->azure-storage-blob) (1.17.0)\n",
      "Requirement already satisfied: cffi>=1.12 in /home/rhythmbear/chess-wrapped-etl-pipeline/venv/lib/python3.10/site-packages (from cryptography>=2.1.4->azure-storage-blob) (1.17.1)\n",
      "Requirement already satisfied: pycparser in /home/rhythmbear/chess-wrapped-etl-pipeline/venv/lib/python3.10/site-packages (from cffi>=1.12->cryptography>=2.1.4->azure-storage-blob) (2.22)\n",
      "Requirement already satisfied: urllib3<3,>=1.21.1 in /home/rhythmbear/chess-wrapped-etl-pipeline/venv/lib/python3.10/site-packages (from requests>=2.21.0->azure-core>=1.30.0->azure-storage-blob) (2.3.0)\n",
      "Requirement already satisfied: certifi>=2017.4.17 in /home/rhythmbear/chess-wrapped-etl-pipeline/venv/lib/python3.10/site-packages (from requests>=2.21.0->azure-core>=1.30.0->azure-storage-blob) (2024.12.14)\n",
      "Requirement already satisfied: idna<4,>=2.5 in /home/rhythmbear/chess-wrapped-etl-pipeline/venv/lib/python3.10/site-packages (from requests>=2.21.0->azure-core>=1.30.0->azure-storage-blob) (3.10)\n",
      "Requirement already satisfied: charset-normalizer<4,>=2 in /home/rhythmbear/chess-wrapped-etl-pipeline/venv/lib/python3.10/site-packages (from requests>=2.21.0->azure-core>=1.30.0->azure-storage-blob) (3.4.1)\n"
     ]
    }
   ],
   "source": [
    "! pip install azure-storage-blob"
   ]
  },
  {
   "cell_type": "markdown",
   "metadata": {},
   "source": [
    "## Prepare User defined Functions for the query. "
   ]
  },
  {
   "cell_type": "code",
   "execution_count": 3,
   "metadata": {},
   "outputs": [
    {
     "data": {
      "text/plain": [
       "<duckdb.duckdb.DuckDBPyConnection at 0x7fac41f85670>"
      ]
     },
     "execution_count": 3,
     "metadata": {},
     "output_type": "execute_result"
    }
   ],
   "source": [
    "import requests\n",
    "from selectolax.parser import HTMLParser\n",
    "import duckdb\n",
    "\n",
    "conn = duckdb.connect(':memory:')\n",
    "\n",
    "def extract_opening_data(url):\n",
    "    headers = {\n",
    "        \"User-Agent\": (\n",
    "            \"Mozilla/5.0 (Windows NT 10.0; Win64; x64) \"\n",
    "            \"AppleWebKit/537.36 (KHTML, like Gecko) \"\n",
    "            \"Chrome/115.0.0.0 Safari/537.36\"\n",
    "        ),\n",
    "        \"Accept-Language\": \"en-US,en;q=0.9\",\n",
    "        \"Accept\": \"text/html,application/xhtml+xml,application/xml;q=0.9,image/webp,*/*;q=0.8\",\n",
    "        \"Referer\": \"https://www.google.com\",\n",
    "    }\n",
    "\n",
    "    try:\n",
    "        response = requests.get(url, headers=headers, timeout=5)\n",
    "        if response.status_code == 200:\n",
    "            tree = HTMLParser(response.text)\n",
    "            \n",
    "            # Extract H1 (Opening Name)\n",
    "            h1_tag = tree.css_first(\"h1\")\n",
    "            opening_name = h1_tag.text(strip=True) if h1_tag else None\n",
    "            \n",
    "            # Extract Moves List\n",
    "            move_list_div = tree.css_first(\".openings-view-move-list\")\n",
    "            moves = move_list_div.text(strip=True) if move_list_div else None\n",
    "\n",
    "            return {\"opening_name\": opening_name, \"moves\": moves}\n",
    "\n",
    "    except requests.RequestException:\n",
    "        return {\"opening_name\": None, \"moves\": None}  # Handle errors\n",
    "\n",
    "    return {\"opening_name\": None, \"moves\": None}\n",
    "\n",
    "\n",
    "def get_opening_family(opening_name: str) -> str:\n",
    "    # Get the parent name of the move numbers\n",
    "\n",
    "    if \":\" in opening_name:\n",
    "        name_splitted = opening_name.split(\":\")\n",
    "        return name_splitted[0]\n",
    "\n",
    "    else:\n",
    "        return opening_name\n",
    "    \n",
    "conn.create_function('get_opening_family', get_opening_family)\n",
    "\n",
    "\n",
    "def extract_opening_name(url: str) -> str:\n",
    "    # extract Opening Data\n",
    "    opening_data = extract_opening_data(url)\n",
    "    return opening_data['opening_name']\n",
    "#\n",
    "conn.create_function('extract_opening_name', extract_opening_name) \n",
    "\n",
    "\n",
    "def format_time_control(timecontrol: str)-> str:\n",
    "    if \"+\" in timecontrol:\n",
    "        tc = timecontrol.split(\"+\")\n",
    "        minute = int(int(tc[0]) / 60)\n",
    "        return \"\".join([str(minute), \"|\", tc[1]])\n",
    "\n",
    "    else: \n",
    "        return str(int(int(timecontrol) / 60))\n",
    "\n",
    "\n",
    "\n",
    "conn.create_function('format_time_control', format_time_control)\n",
    "# def get_time_class(time_control: str) -> str:\n",
    "#     # Get the time control from the time control string\n",
    "\n",
    "#     if \"+\" in time_control:\n",
    "#         # Split the time control and increment\n",
    "#         time_control = int(time_control.split(\"+\")[0])\n",
    "#     else:\n",
    "#         time_control = int(time_control)\n",
    "    \n",
    "#     time_class = \"\"\n",
    "#     if time_control < 180:\n",
    "#         time_class = \"bullet\" \n",
    "#     elif time_control < 600:\n",
    "#         time_class = \"blitz\"\n",
    "#     else:\n",
    "#         time_class = \"rapid\"       \n",
    "\n",
    "#     return time_class\n",
    "# conn.create_function('get_time_class', get_time_class)"
   ]
  },
  {
   "cell_type": "markdown",
   "metadata": {},
   "source": [
    "## Load Fact tables\n"
   ]
  },
  {
   "cell_type": "code",
   "execution_count": 4,
   "metadata": {},
   "outputs": [],
   "source": [
    "# Setup the notebook\n",
    "from azure.storage.blob import BlobServiceClient\n",
    "import duckdb\n",
    "from airflow.providers.microsoft.azure.hooks.wasb import WasbHook\n",
    "from dotenv import load_dotenv\n",
    "import os\n",
    "\n",
    "# Load environment variables from .env file\n",
    "load_dotenv()\n",
    "\n",
    "conn_string = os.getenv('AZURE_STORAGE_CONN_STRING')\n",
    "\n",
    "# Initialize the BlobServiceClient\n",
    "blob_service_client = BlobServiceClient.from_connection_string(conn_string)\n",
    "container_client = blob_service_client.get_container_client('chess-etl-files')\n",
    "\n",
    "# Install azure extension\n",
    "conn.sql(\n",
    "    \"\"\"INSTALL azure; \n",
    "        LOAD azure\"\"\"\n",
    ")\n",
    "\n",
    "conn.sql(f\"\"\"\n",
    "    CREATE SECRET azure_adls_secret (\n",
    "    TYPE azure,\n",
    "    CONNECTION_STRING '{conn_string}' );\n",
    " \"\"\")\n",
    "\n",
    "# Set the azure_transport_option_type to curl to avoid read error\n",
    "conn.sql(\n",
    "    \"\"\"SET azure_transport_option_type = 'curl';\"\"\"\n",
    ")"
   ]
  },
  {
   "cell_type": "code",
   "execution_count": 21,
   "metadata": {},
   "outputs": [],
   "source": [
    "\n",
    "file_to_update = \"silver/fact-2023-03-games.parquet\"\n",
    "source_file_path = f\"az://rbchesssa.blob.core.windows.net/chess-etl-files/{file_to_update}\"\n",
    "dim_file_name = \"gold/dim_opening.parquet\"\n",
    "destination_file_path = f\"az://rbchesssa.blob.core.windows.net/chess-etl-files/{dim_file_name}\""
   ]
  },
  {
   "cell_type": "code",
   "execution_count": 16,
   "metadata": {},
   "outputs": [
    {
     "name": "stdout",
     "output_type": "stream",
     "text": [
      "[\u001b[34m2025-03-24T17:11:42.999+0100\u001b[0m] {\u001b[34m_universal.py:\u001b[0m509} INFO\u001b[0m - Request URL: 'https://rbchesssa.blob.core.windows.net/chess-etl-files/gold/dim_opening.parquet'\n",
      "Request method: 'HEAD'\n",
      "Request headers:\n",
      "    'x-ms-version': 'REDACTED'\n",
      "    'Accept': 'application/xml'\n",
      "    'User-Agent': 'azsdk-python-storage-blob/12.24.1 Python/3.10.12 (Linux-5.15.167.4-microsoft-standard-WSL2-x86_64-with-glibc2.35)'\n",
      "    'x-ms-date': 'REDACTED'\n",
      "    'x-ms-client-request-id': 'ad27f7be-08ca-11f0-8218-c5d5f77a6a15'\n",
      "    'Authorization': 'REDACTED'\n",
      "No body was attached to the request\u001b[0m\n",
      "[\u001b[34m2025-03-24T17:11:44.228+0100\u001b[0m] {\u001b[34m_universal.py:\u001b[0m545} INFO\u001b[0m - Response status: 404\n",
      "Response headers:\n",
      "    'Transfer-Encoding': 'chunked'\n",
      "    'Server': 'Windows-Azure-Blob/1.0 Microsoft-HTTPAPI/2.0'\n",
      "    'x-ms-request-id': 'dd3ace7a-201e-002c-47d7-9c09d5000000'\n",
      "    'x-ms-client-request-id': 'ad27f7be-08ca-11f0-8218-c5d5f77a6a15'\n",
      "    'x-ms-version': 'REDACTED'\n",
      "    'x-ms-error-code': 'BlobNotFound'\n",
      "    'Date': 'Mon, 24 Mar 2025 16:11:44 GMT'\u001b[0m\n"
     ]
    }
   ],
   "source": [
    "# Creating Opening Dimension Table by either creating one from scratch or updating the existing one\n",
    "blob_client = container_client.get_blob_client(dim_file_name)\n",
    "\n",
    "if blob_client.exists():\n",
    "    print(\"File exists! Proceeding with DuckDB query...\")\n",
    "    cur_dim_openings = conn.sql(f\"\"\"SELECT DISTINCT pgn_eco_url, \n",
    "                                           extract_opening_name(pgn_eco_url) as opening_name,\n",
    "                                           get_opening_family(opening_name) as opening_family\n",
    "                                    FROM '{source_file_path}'\n",
    "                                    WHERE pgn_eco_url NOT IN (\n",
    "                                        SELECT pgn_eco_url \n",
    "                                        FROM '{destination_file_path}'\n",
    "                                            )\n",
    "                                    UNION  -- Simply append existing data\n",
    "\n",
    "                                    SELECT * FROM '{destination_file_path}';                                  \n",
    "                                \"\"\")\n",
    "    \n",
    "else: \n",
    "    cur_dim_openings = conn.sql(f\"\"\"SELECT DISTINCT pgn_eco_url, \n",
    "                                           extract_opening_name(pgn_eco_url) as opening_name,\n",
    "                                           get_opening_family(opening_name) as opening_family \n",
    "                                FROM '{source_file_path}';\n",
    "\"\"\")\n",
    "\n",
    "# cur_dim_openings = conn.sql(f\"\"\"SELECT *,  \n",
    "#                                         get_opening_family(opening_name) as opening_family \n",
    "#                             FROM cur_dim_openings;\"\"\")\n"
   ]
  },
  {
   "cell_type": "code",
   "execution_count": 17,
   "metadata": {},
   "outputs": [
    {
     "data": {
      "application/vnd.jupyter.widget-view+json": {
       "model_id": "26212e80ed174dbc8324f2e2f8613891",
       "version_major": 2,
       "version_minor": 0
      },
      "text/plain": [
       "FloatProgress(value=0.0, layout=Layout(width='auto'), style=ProgressStyle(bar_color='black'))"
      ]
     },
     "metadata": {},
     "output_type": "display_data"
    },
    {
     "data": {
      "text/plain": [
       "┌───────────────────────────────────────────────────────────────────────────────────────────┬─────────────────────────────────────────────────────┬─────────────────────────┐\n",
       "│                                        pgn_eco_url                                        │                    opening_name                     │     opening_family      │\n",
       "│                                          varchar                                          │                       varchar                       │         varchar         │\n",
       "├───────────────────────────────────────────────────────────────────────────────────────────┼─────────────────────────────────────────────────────┼─────────────────────────┤\n",
       "│ https://www.chess.com/openings/Petrovs-Defense-Three-Knights-Game                         │ Petrov's Defense: Three Knights Game                │ Petrov's Defense        │\n",
       "│ https://www.chess.com/openings/Closed-Sicilian-Defense-Traditional-Line-3.Nf3-e5-4.Bc4-d6 │ Closed Sicilian Defense: Traditional Line           │ Closed Sicilian Defense │\n",
       "│ https://www.chess.com/openings/Three-Knights-Opening-3...d6                               │ Three Knights Opening                               │ Three Knights Opening   │\n",
       "│ https://www.chess.com/openings/Englund-Gambit-Declined-Reversed-French-Variation          │ Englund Gambit Declined: Reversed French Variation  │ Englund Gambit Declined │\n",
       "│ https://www.chess.com/openings/Italian-Game-Anti-Fried-Liver-Defense                      │ Italian Game: Anti-Fried Liver Defense              │ Italian Game            │\n",
       "│ https://www.chess.com/openings/Philidor-Defense-3.Bc4                                     │ Philidor Defense                                    │ Philidor Defense        │\n",
       "│ https://www.chess.com/openings/Queens-Pawn-Opening-1...d5-2.e3                            │ Queen's Pawn Opening                                │ Queen's Pawn Opening    │\n",
       "│ https://www.chess.com/openings/Grob-Opening-Grob-Gambit-Declined                          │ Grob Opening: Grob Gambit Declined                  │ Grob Opening            │\n",
       "│ https://www.chess.com/openings/Queens-Pawn-Opening-Zukertort-Chigorin-Variation-3.g3      │ Queen's Pawn Opening: Zukertort, Chigorin Variation │ Queen's Pawn Opening    │\n",
       "└───────────────────────────────────────────────────────────────────────────────────────────┴─────────────────────────────────────────────────────┴─────────────────────────┘"
      ]
     },
     "execution_count": 17,
     "metadata": {},
     "output_type": "execute_result"
    }
   ],
   "source": [
    "\n",
    "cur_dim_openings"
   ]
  },
  {
   "cell_type": "code",
   "execution_count": 12,
   "metadata": {},
   "outputs": [
    {
     "ename": "IOException",
     "evalue": "IO Error: AzureBlobStorageFileSystem could not open file: 'az://rbchesssa.blob.core.windows.net/chess-etl-files/silver/fact-2023-03-games.parquet', unknown error occurred, this could mean the credentials used were wrong. Original error message: 'Fail to get a new connection for: https://rbchesssa.blob.core.windows.net. Problem with the SSL CA cert (path? access rights?)' ",
     "output_type": "error",
     "traceback": [
      "\u001b[0;31m---------------------------------------------------------------------------\u001b[0m",
      "\u001b[0;31mIOException\u001b[0m                               Traceback (most recent call last)",
      "Cell \u001b[0;32mIn[12], line 2\u001b[0m\n\u001b[1;32m      1\u001b[0m \u001b[38;5;66;03m## Create Dimension table for the results and the Game types. \u001b[39;00m\n\u001b[0;32m----> 2\u001b[0m \u001b[43mconn\u001b[49m\u001b[38;5;241;43m.\u001b[39;49m\u001b[43msql\u001b[49m\u001b[43m(\u001b[49m\u001b[38;5;124;43mf\u001b[39;49m\u001b[38;5;124;43m\"\"\"\u001b[39;49m\u001b[38;5;124;43mSELECT DISTINCT white_result,\u001b[39;49m\n\u001b[1;32m      3\u001b[0m \u001b[38;5;124;43m                    CASE WHEN pgn_result = \u001b[39;49m\u001b[38;5;124;43m'\u001b[39;49m\u001b[38;5;124;43m1-0\u001b[39;49m\u001b[38;5;124;43m'\u001b[39;49m\u001b[38;5;124;43m THEN \u001b[39;49m\u001b[38;5;124;43m'\u001b[39;49m\u001b[38;5;124;43mWin\u001b[39;49m\u001b[38;5;124;43m'\u001b[39;49m\n\u001b[1;32m      4\u001b[0m \u001b[38;5;124;43m                        WHEN pgn_result = \u001b[39;49m\u001b[38;5;124;43m'\u001b[39;49m\u001b[38;5;124;43m0-1\u001b[39;49m\u001b[38;5;124;43m'\u001b[39;49m\u001b[38;5;124;43m THEN \u001b[39;49m\u001b[38;5;124;43m'\u001b[39;49m\u001b[38;5;124;43mLoss\u001b[39;49m\u001b[38;5;124;43m'\u001b[39;49m\n\u001b[1;32m      5\u001b[0m \u001b[38;5;124;43m                        WHEN pgn_result = \u001b[39;49m\u001b[38;5;124;43m'\u001b[39;49m\u001b[38;5;124;43m1/2-1/2\u001b[39;49m\u001b[38;5;124;43m'\u001b[39;49m\u001b[38;5;124;43m THEN \u001b[39;49m\u001b[38;5;124;43m'\u001b[39;49m\u001b[38;5;124;43mDraw\u001b[39;49m\u001b[38;5;124;43m'\u001b[39;49m\n\u001b[1;32m      6\u001b[0m \u001b[38;5;124;43m                        ELSE \u001b[39;49m\u001b[38;5;124;43m'\u001b[39;49m\u001b[38;5;124;43mOther\u001b[39;49m\u001b[38;5;124;43m'\u001b[39;49m\n\u001b[1;32m      7\u001b[0m \u001b[38;5;124;43m                    END AS result_category\u001b[39;49m\n\u001b[1;32m      8\u001b[0m \u001b[38;5;124;43mFROM \u001b[39;49m\u001b[38;5;124;43m'\u001b[39;49m\u001b[38;5;132;43;01m{\u001b[39;49;00m\u001b[43msource_file_path\u001b[49m\u001b[38;5;132;43;01m}\u001b[39;49;00m\u001b[38;5;124;43m'\u001b[39;49m\u001b[38;5;124;43m;\u001b[39;49m\n\u001b[1;32m      9\u001b[0m \u001b[38;5;124;43m\"\"\"\u001b[39;49m\u001b[43m)\u001b[49m\n",
      "\u001b[0;31mIOException\u001b[0m: IO Error: AzureBlobStorageFileSystem could not open file: 'az://rbchesssa.blob.core.windows.net/chess-etl-files/silver/fact-2023-03-games.parquet', unknown error occurred, this could mean the credentials used were wrong. Original error message: 'Fail to get a new connection for: https://rbchesssa.blob.core.windows.net. Problem with the SSL CA cert (path? access rights?)' "
     ]
    }
   ],
   "source": [
    "## Create Dimension table for the results and the Game types. \n",
    "conn.sql(f\"\"\"SELECT DISTINCT white_result,\n",
    "                    CASE WHEN pgn_result = '1-0' THEN 'Win'\n",
    "                        WHEN pgn_result = '0-1' THEN 'Loss'\n",
    "                        WHEN pgn_result = '1/2-1/2' THEN 'Draw'\n",
    "                        ELSE 'Other'\n",
    "                    END AS result_category\n",
    "FROM '{source_file_path}';\n",
    "\"\"\")"
   ]
  },
  {
   "cell_type": "code",
   "execution_count": 15,
   "metadata": {},
   "outputs": [
    {
     "data": {
      "text/plain": [
       "┌─────────────────────────────────────────────┬──────────────┬─────────┬────────────┬─────────┬──────────────┬──────────────┬──────────────┬──────────────┬────────────┬───────────┬─────────────────────┬────────────────┬────────────────┬────────────┬────────────────────────────────────────────────────────────┬──────────────┬─────────┬───────────────────────────────────────────────────────────────────────────────────────────┬─────────────────────┬─────────────────────┬─────────────────────┬───────────────────────────────────────────────────────────────────────────────────────────────────────────────────────────────────────────────────────────────────────────────────────────────────────────────────────────────────────────────────────────────────────────────────────────────────────────────────────────────────────────────────────────────────────┬──────────────────────────────────────────────────────────────────────────────────────────────────────────────────────────────────────────────────────────────────────────────────────────────────────────────────────────────────────────────────────────────────────────────────────────────────────────────────────────────────────────────────────────────────────────────────────────────────────────────────────────────────────────────────────────────────────────────────────────────────────────────────────────────────────────┐\n",
       "│                  game_url                   │ time_control │  rated  │ time_class │  rules  │ white_rating │ white_result │ black_rating │ black_result │ pgn_event  │ pgn_site  │      game_date      │ pgn_white_user │ pgn_black_user │ pgn_result │                    pgn_current_position                    │ pgn_timezone │ pgn_eco │                                        pgn_eco_url                                        │     start_time      │      end_time       │    end_game_date    │                                                                                                                                                                                pgn_raw                                                                                                                                                                                │                                                                                                                                                                                                                                                                pgn_trans                                                                                                                                                                                                                                                                 │\n",
       "│                   varchar                   │   varchar    │ boolean │  varchar   │ varchar │    int64     │   varchar    │    int64     │   varchar    │  varchar   │  varchar  │      timestamp      │    varchar     │    varchar     │  varchar   │                          varchar                           │   varchar    │ varchar │                                          varchar                                          │    timestamp_ns     │    timestamp_ns     │      timestamp      │                                                                                                                                                                                varchar                                                                                                                                                                                │                                                                                                                                                                                                                                                                 varchar                                                                                                                                                                                                                                                                  │\n",
       "├─────────────────────────────────────────────┼──────────────┼─────────┼────────────┼─────────┼──────────────┼──────────────┼──────────────┼──────────────┼────────────┼───────────┼─────────────────────┼────────────────┼────────────────┼────────────┼────────────────────────────────────────────────────────────┼──────────────┼─────────┼───────────────────────────────────────────────────────────────────────────────────────────┼─────────────────────┼─────────────────────┼─────────────────────┼───────────────────────────────────────────────────────────────────────────────────────────────────────────────────────────────────────────────────────────────────────────────────────────────────────────────────────────────────────────────────────────────────────────────────────────────────────────────────────────────────────────────────────────────────────┼──────────────────────────────────────────────────────────────────────────────────────────────────────────────────────────────────────────────────────────────────────────────────────────────────────────────────────────────────────────────────────────────────────────────────────────────────────────────────────────────────────────────────────────────────────────────────────────────────────────────────────────────────────────────────────────────────────────────────────────────────────────────────────────────────────────┤\n",
       "│ https://www.chess.com/game/live/71599316007 │ 600          │ true    │ rapid      │ chess   │         1027 │ win          │          902 │ resigned     │ Live Chess │ Chess.com │ 2023-03-03 00:00:00 │ SonXAzzz       │ Rhythmbear1    │ 1-0        │ 4r1k1/1bp1P2p/p5p1/2N2p2/1q3P2/P6P/1P2Q1P1/R1B1R1K1 w - -  │ UTC          │ C46     │ https://www.chess.com/openings/Three-Knights-Opening-3...d6                               │ 2023-03-03 16:15:37 │ 2023-03-03 16:27:13 │ 2023-03-03 00:00:00 │ e4 e5 Nf3 Nc6 Nc3 d6 Bb5 a6 Bxc6+ bxc6 O-O Nf6 h3 Bb7 d3 d5 a3 Bd6 Re1 O-O d4 Re8 dxe5 Bxe5 Nxe5 Rxe5 f4 Rh5 e5 Ng4 Qxg4 f5 Qxh5 d4 Ne2 d3 cxd3 Qxd3 Nc3 g6 Qe2 Qg3 e6 c5 e7 Re8 Na4 Qb3 Nxc5 Qb4                                                                                                                                                                     │ 1. e4 e5 2. Nf3 Nc6 3. Nc3 d6 4. Bb5 a6 5. Bxc6+ bxc6 6. O-O Nf6 7. h3 Bb7 8. d3 d5 9. a3 Bd6 10. Re1 O-O 11. d4 Re8 12. dxe5 Bxe5 13. Nxe5 Rxe5 14. f4 Rh5 15. e5 Ng4 16. Qxg4 f5 17. Qxh5 d4 18. Ne2 d3 19. cxd3 Qxd3 20. Nc3 g6 21. Qe2 Qg3 22. e6 c5 23. e7 Re8 24. Na4 Qb3 25. Nxc5 Qb4                                                                                                                                                                                                                                             │\n",
       "│ https://www.chess.com/game/live/72088506679 │ 600          │ true    │ rapid      │ chess   │          940 │ win          │          893 │ checkmated   │ Live Chess │ Chess.com │ 2023-03-09 00:00:00 │ Rhythmbear1    │ Orsolya_111    │ 1-0        │ r4k1Q/p1pp4/bp1n2p1/5pN1/2Pn4/3B4/P1P2PPP/2K1R3 b - -      │ UTC          │ C42     │ https://www.chess.com/openings/Petrovs-Defense-Three-Knights-Game                         │ 2023-03-09 08:13:56 │ 2023-03-09 08:22:59 │ 2023-03-09 00:00:00 │ e4 Nf6 Nc3 e5 Nf3 Bd6 d4 exd4 Qxd4 h6 e5 Qe7 Bf4 Nc6 Qd3 Bxe5 Be3 Bxc3+ bxc3 O-O O-O-O g6 c4 b6 Be2 Ba6 Rhe1 Rfd8 Bd4 Qa3+ Qxa3 Ne4 Qe3 Nd6 Bd3 Re8 Qxh6 Rxe1 Rxe1 f5 Ng5 Nxd4 Qh7+ Kf8 Qh8#                                                                                                                                                                          │ 1. e4 Nf6 2. Nc3 e5 3. Nf3 Bd6 4. d4 exd4 5. Qxd4 h6 6. e5 Qe7 7. Bf4 Nc6 8. Qd3 Bxe5 9. Be3 Bxc3+ 10. bxc3 O-O 11. O-O-O g6 12. c4 b6 13. Be2 Ba6 14. Rhe1 Rfd8 15. Bd4 Qa3+ 16. Qxa3 Ne4 17. Qe3 Nd6 18. Bd3 Re8 19. Qxh6 Rxe1 20. Rxe1 f5 21. Ng5 Nxd4 22. Qh7+ Kf8 23. Qh8#                                                                                                                                                                                                                                                          │\n",
       "│ https://www.chess.com/game/live/72622856493 │ 900+10       │ true    │ rapid      │ chess   │         1036 │ checkmated   │          986 │ win          │ Live Chess │ Chess.com │ 2023-03-15 00:00:00 │ tomdesmedt     │ Rhythmbear1    │ 0-1        │ 5k2/7p/8/p4P2/Pp4PP/1P6/6rr/5RK1 w - -                     │ UTC          │ D02     │ https://www.chess.com/openings/Queens-Pawn-Opening-Zukertort-Chigorin-Variation-3.g3      │ 2023-03-15 12:34:27 │ 2023-03-15 13:13:24 │ 2023-03-15 00:00:00 │ Nf3 d5 g3 Nc6 d4 e5 Nxe5 Nxe5 dxe5 Bf5 Nc3 c6 Bg2 Ne7 Bg5 f6 exf6 gxf6 Bxf6 Rg8 e4 Bg7 Bxg7 Rxg7 exf5 Nxf5 Qh5+ Rf7 O-O Qd6 Rfe1+ Kf8 Bh3 Nd4 Red1 Qf6 f4 Nxc2 Rac1 Ne3 Re1 Qd4 Kh1 Qd2 Qe2 Nc4 Qxd2 Nxd2 Re2 Nc4 b3 Nd6 Rce1 a5 a4 b5 Re6 b4 Nxd5 Nf5 Rxc6 Nd4 Rb1 Nxc6 Bg2 Rd8 Nb6 Nd4 Bd5 Rf6 Rd1 Rxb6 Rxd4 Rbd6 f5 Rxd5 Rf4 Rd2 g4 Re8 Rf1 Ree2 h4 Rh2+ Kg1 Rdg2# │ 1. Nf3 d5 2. g3 Nc6 3. d4 e5 4. Nxe5 Nxe5 5. dxe5 Bf5 6. Nc3 c6 7. Bg2 Ne7 8. Bg5 f6 9. exf6 gxf6 10. Bxf6 Rg8 11. e4 Bg7 12. Bxg7 Rxg7 13. exf5 Nxf5 14. Qh5+ Rf7 15. O-O Qd6 16. Rfe1+ Kf8 17. Bh3 Nd4 18. Red1 Qf6 19. f4 Nxc2 20. Rac1 Ne3 21. Re1 Qd4 22. Kh1 Qd2 23. Qe2 Nc4 24. Qxd2 Nxd2 25. Re2 Nc4 26. b3 Nd6 27. Rce1 a5 28. a4 b5 29. Re6 b4 30. Nxd5 Nf5 31. Rxc6 Nd4 32. Rb1 Nxc6 33. Bg2 Rd8 34. Nb6 Nd4 35. Bd5 Rf6 36. Rd1 Rxb6 37. Rxd4 Rbd6 38. f5 Rxd5 39. Rf4 Rd2 40. g4 Re8 41. Rf1 Ree2 42. h4 Rh2+ 43. Kg1 Rdg2# │\n",
       "│ https://www.chess.com/game/live/72625984471 │ 900+10       │ true    │ rapid      │ chess   │          982 │ abandoned    │         1019 │ win          │ Live Chess │ Chess.com │ 2023-03-15 00:00:00 │ Saigon-1996    │ Rhythmbear1    │ 0-1        │ rn3rk1/5pp1/1qpb1p1p/3p4/3P1N2/1P1bPPQ1/1P2N1BP/2K4R w - - │ UTC          │ A00     │ https://www.chess.com/openings/Grob-Opening-Grob-Gambit-Declined                          │ 2023-03-15 13:28:10 │ 2023-03-15 13:49:28 │ 2023-03-15 00:00:00 │ g4 d5 Bg2 c6 d4 Bxg4 f3 Bh5 Nc3 Nf6 Bg5 h6 Bxf6 exf6 Qd3 Bg6 Qe3+ Be7 O-O-O a5 Nh3 O-O Nf4 Bh7 Qf2 a4 Nh5 b5 Qg3 Bg6 Nf4 Bd6 e3 b4 Nce2 b3 axb3 axb3 cxb3 Qb6 Rd3 Bxd3                                                                                                                                                                                                │ 1. g4 d5 2. Bg2 c6 3. d4 Bxg4 4. f3 Bh5 5. Nc3 Nf6 6. Bg5 h6 7. Bxf6 exf6 8. Qd3 Bg6 9. Qe3+ Be7 10. O-O-O a5 11. Nh3 O-O 12. Nf4 Bh7 13. Qf2 a4 14. Nh5 b5 15. Qg3 Bg6 16. Nf4 Bd6 17. e3 b4 18. Nce2 b3 19. axb3 axb3 20. cxb3 Qb6 21. Rd3 Bxd3                                                                                                                                                                                                                                                                                        │\n",
       "│ https://www.chess.com/game/live/72774715521 │ 900+10       │ true    │ rapid      │ chess   │         1052 │ win          │         1050 │ checkmated   │ Live Chess │ Chess.com │ 2023-03-17 00:00:00 │ Rhythmbear1    │ markisus       │ 1-0        │ 3Q1k2/p4pp1/7p/3b4/1P6/8/P4PPP/3q1BK1 b - -                │ UTC          │ C55     │ https://www.chess.com/openings/Italian-Game-Anti-Fried-Liver-Defense                      │ 2023-03-17 06:48:43 │ 2023-03-17 07:25:56 │ 2023-03-17 00:00:00 │ e4 e5 Nf3 Nc6 Bc4 h6 O-O Nf6 d4 exd4 Nxd4 Nxd4 Qxd4 b6 Nc3 Bc5 Qd3 O-O Be3 Bb7 Bxc5 bxc5 Rad1 Re8 Rfe1 Nh5 Qf3 d5 exd5 Rxe1+ Rxe1 Qg5 Ne4 Qg6 Nxc5 Qxc2 Bd3 Qxc5 Qxh5 Kf8 Qf5 Re8 Rxe8+ Kxe8 Qe5+ Kf8 b4 Qc1+ Bf1 Qd1 Qxc7 Bxd5 Qd8#                                                                                                                                  │ 1. e4 e5 2. Nf3 Nc6 3. Bc4 h6 4. O-O Nf6 5. d4 exd4 6. Nxd4 Nxd4 7. Qxd4 b6 8. Nc3 Bc5 9. Qd3 O-O 10. Be3 Bb7 11. Bxc5 bxc5 12. Rad1 Re8 13. Rfe1 Nh5 14. Qf3 d5 15. exd5 Rxe1+ 16. Rxe1 Qg5 17. Ne4 Qg6 18. Nxc5 Qxc2 19. Bd3 Qxc5 20. Qxh5 Kf8 21. Qf5 Re8 22. Rxe8+ Kxe8 23. Qe5+ Kf8 24. b4 Qc1+ 25. Bf1 Qd1 26. Qxc7 Bxd5 27. Qd8#                                                                                                                                                                                                  │\n",
       "│ https://www.chess.com/game/live/74010333473 │ 900+10       │ true    │ rapid      │ chess   │         1015 │ checkmated   │          983 │ win          │ Live Chess │ Chess.com │ 2023-03-31 00:00:00 │ Rhythmbear1    │ Curious-M-Cat  │ 0-1        │ R4rk1/1N6/p1p4p/2p1p3/4Pn2/1P5P/PBP1qpP1/3R1K2 w - -       │ UTC          │ B23     │ https://www.chess.com/openings/Closed-Sicilian-Defense-Traditional-Line-3.Nf3-e5-4.Bc4-d6 │ 2023-03-31 14:02:56 │ 2023-03-31 14:23:25 │ 2023-03-31 00:00:00 │ e4 e5 Nf3 d6 Bc4 c5 Nc3 Nc6 O-O h6 Re1 g5 Bb5 a6 Bxc6+ bxc6 d3 Be7 b3 g4 Nd2 Bg5 Nc4 Qf6 Qd2 Bxd2 Bxd2 Ne7 Rad1 O-O Bc1 Ng6 Bb2 Qg5 Nxd6 f5 exf5 Bxf5 Nb7 g3 Ne4 Bxe4 dxe4 gxf2+ Kf1 Qg4 h3 Qh4 Re2 Nf4 Red2 Qg3 Rd8 Qe3 Rxa8 Qe2#                                                                                                                                    │ 1. e4 e5 2. Nf3 d6 3. Bc4 c5 4. Nc3 Nc6 5. O-O h6 6. Re1 g5 7. Bb5 a6 8. Bxc6+ bxc6 9. d3 Be7 10. b3 g4 11. Nd2 Bg5 12. Nc4 Qf6 13. Qd2 Bxd2 14. Bxd2 Ne7 15. Rad1 O-O 16. Bc1 Ng6 17. Bb2 Qg5 18. Nxd6 f5 19. exf5 Bxf5 20. Nb7 g3 21. Ne4 Bxe4 22. dxe4 gxf2+ 23. Kf1 Qg4 24. h3 Qh4 25. Re2 Nf4 26. Red2 Qg3 27. Rd8 Qe3 28. Rxa8 Qe2#                                                                                                                                                                                                │\n",
       "│ https://www.chess.com/game/live/74011819591 │ 900+10       │ true    │ rapid      │ chess   │          911 │ checkmated   │         1037 │ win          │ Live Chess │ Chess.com │ 2023-03-31 00:00:00 │ Curious-M-Cat  │ Rhythmbear1    │ 0-1        │ 3r4/pp1k2p1/5n2/3b4/7p/P3p2P/4N1q1/3R2K1 w - -             │ UTC          │ A40     │ https://www.chess.com/openings/Englund-Gambit-Declined-Reversed-French-Variation          │ 2023-03-31 14:24:19 │ 2023-03-31 14:47:31 │ 2023-03-31 00:00:00 │ d4 e5 e3 e4 f3 d5 fxe4 dxe4 c4 Nf6 b3 Bg4 Be2 h5 b4 Bxb4+ Bd2 Nc6 a3 Ba5 h3 Bf5 c5 h4 Qb3 Nxd4 exd4 Qxd4 Bc4 O-O-O Bc3 Qe3+ Ne2 Qxc5 Qa4 Bxc3+ Nexc3 e3 Ne2 Rhe8 Nbc3 Qe5 Bxf7 Re7 Rc1 Rxf7 Qc4 Be6 Nd5 Bxd5 Qc3 Qg5 Qxc7+ Rxc7 O-O Rxc1 Rxc1+ Kd7 Rd1 Qxg2#                                                                                                          │ 1. d4 e5 2. e3 e4 3. f3 d5 4. fxe4 dxe4 5. c4 Nf6 6. b3 Bg4 7. Be2 h5 8. b4 Bxb4+ 9. Bd2 Nc6 10. a3 Ba5 11. h3 Bf5 12. c5 h4 13. Qb3 Nxd4 14. exd4 Qxd4 15. Bc4 O-O-O 16. Bc3 Qe3+ 17. Ne2 Qxc5 18. Qa4 Bxc3+ 19. Nexc3 e3 20. Ne2 Rhe8 21. Nbc3 Qe5 22. Bxf7 Re7 23. Rc1 Rxf7 24. Qc4 Be6 25. Nd5 Bxd5 26. Qc3 Qg5 27. Qxc7+ Rxc7 28. O-O Rxc1 29. Rxc1+ Kd7 30. Rd1 Qxg2#                                                                                                                                                              │\n",
       "│ https://www.chess.com/game/live/74013170611 │ 900+10       │ true    │ rapid      │ chess   │         1053 │ win          │          867 │ resigned     │ Live Chess │ Chess.com │ 2023-03-31 00:00:00 │ Rhythmbear1    │ Curious-M-Cat  │ 1-0        │ 1n2k1nr/5ppp/p7/1p1B4/qB1QP1b1/1P3N2/P4PPP/RN2K2R b KQk -  │ UTC          │ C41     │ https://www.chess.com/openings/Philidor-Defense-3.Bc4                                     │ 2023-03-31 14:48:21 │ 2023-03-31 14:52:52 │ 2023-03-31 00:00:00 │ e4 e5 Nf3 d6 Bc4 c5 c3 a6 d4 b5 Bd5 Bg4 Bxa8 d5 Bxd5 exd4 cxd4 cxd4 Qxd4 Qa5+ Bd2 Bb4 Bxb4 Qa4 b3                                                                                                                                                                                                                                                                     │ 1. e4 e5 2. Nf3 d6 3. Bc4 c5 4. c3 a6 5. d4 b5 6. Bd5 Bg4 7. Bxa8 d5 8. Bxd5 exd4 9. cxd4 cxd4 10. Qxd4 Qa5+ 11. Bd2 Bb4 12. Bxb4 Qa4 13. b3                                                                                                                                                                                                                                                                                                                                                                                             │\n",
       "│ https://www.chess.com/game/live/74013616221 │ 900+10       │ true    │ rapid      │ chess   │          836 │ checkmated   │         1066 │ win          │ Live Chess │ Chess.com │ 2023-03-31 00:00:00 │ Curious-M-Cat  │ Rhythmbear1    │ 0-1        │ r3kb1Q/ppp4p/6p1/4Nb2/8/2P3n1/P1P1q2P/3RK2R w Kq -         │ UTC          │ D00     │ https://www.chess.com/openings/Queens-Pawn-Opening-1...d5-2.e3                            │ 2023-03-31 14:54:35 │ 2023-03-31 15:09:58 │ 2023-03-31 00:00:00 │ d4 d5 e3 Nc6 f4 f6 Nc3 e5 dxe5 fxe5 fxe5 Nxe5 e4 d4 Be2 dxc3 bxc3 Nf6 Rb1 Nxe4 Bh5+ g6 Bg5 Qxg5 Qd4 Bf5 Rd1 Qh4+ g3 Nxg3 Qxe5+ Be7 Qxh8+ Bf8 Qe5+ Be7 Nf3 Qxh5 Qh8+ Bf8 Ne5 Qe2#                                                                                                                                                                                      │ 1. d4 d5 2. e3 Nc6 3. f4 f6 4. Nc3 e5 5. dxe5 fxe5 6. fxe5 Nxe5 7. e4 d4 8. Be2 dxc3 9. bxc3 Nf6 10. Rb1 Nxe4 11. Bh5+ g6 12. Bg5 Qxg5 13. Qd4 Bf5 14. Rd1 Qh4+ 15. g3 Nxg3 16. Qxe5+ Be7 17. Qxh8+ Bf8 18. Qe5+ Be7 19. Nf3 Qxh5 20. Qh8+ Bf8 21. Ne5 Qe2#                                                                                                                                                                                                                                                                              │\n",
       "└─────────────────────────────────────────────┴──────────────┴─────────┴────────────┴─────────┴──────────────┴──────────────┴──────────────┴──────────────┴────────────┴───────────┴─────────────────────┴────────────────┴────────────────┴────────────┴────────────────────────────────────────────────────────────┴──────────────┴─────────┴───────────────────────────────────────────────────────────────────────────────────────────┴─────────────────────┴─────────────────────┴─────────────────────┴───────────────────────────────────────────────────────────────────────────────────────────────────────────────────────────────────────────────────────────────────────────────────────────────────────────────────────────────────────────────────────────────────────────────────────────────────────────────────────────────────────────────────────────────────────┴──────────────────────────────────────────────────────────────────────────────────────────────────────────────────────────────────────────────────────────────────────────────────────────────────────────────────────────────────────────────────────────────────────────────────────────────────────────────────────────────────────────────────────────────────────────────────────────────────────────────────────────────────────────────────────────────────────────────────────────────────────────────────────────────────────────┘"
      ]
     },
     "execution_count": 15,
     "metadata": {},
     "output_type": "execute_result"
    }
   ],
   "source": [
    "conn.sql(f\"\"\"SELECT * FROM '{source_file_path}';\"\"\")"
   ]
  },
  {
   "cell_type": "code",
   "execution_count": 49,
   "metadata": {},
   "outputs": [
    {
     "data": {
      "text/plain": [
       "┌─────────────────────┬───────┬───────┬────────────┬───────┬───────────┬─────────┐\n",
       "│      game_date      │ year  │ month │ month_name │  day  │  weekday  │ quarter │\n",
       "│      timestamp      │ int64 │ int64 │  varchar   │ int64 │  varchar  │  int32  │\n",
       "├─────────────────────┼───────┼───────┼────────────┼───────┼───────────┼─────────┤\n",
       "│ 2023-03-03 00:00:00 │  2023 │     3 │ March      │     3 │ Friday    │       1 │\n",
       "│ 2023-03-09 00:00:00 │  2023 │     3 │ March      │     9 │ Thursday  │       1 │\n",
       "│ 2023-03-15 00:00:00 │  2023 │     3 │ March      │    15 │ Wednesday │       1 │\n",
       "│ 2023-03-17 00:00:00 │  2023 │     3 │ March      │    17 │ Friday    │       1 │\n",
       "│ 2023-03-31 00:00:00 │  2023 │     3 │ March      │    31 │ Friday    │       1 │\n",
       "└─────────────────────┴───────┴───────┴────────────┴───────┴───────────┴─────────┘"
      ]
     },
     "execution_count": 49,
     "metadata": {},
     "output_type": "execute_result"
    }
   ],
   "source": [
    "# Dimenstion Table for dim_Date\n",
    "dim_file_name = \"gold/dim_date.parquet\"\n",
    "\n",
    "\n",
    "blob_client = container_client.get_blob_client(dim_file_name)\n",
    "\n",
    "if blob_client.exists():\n",
    "    dim_date = conn.sql(f\"\"\"\n",
    "                SELECT DISTINCT game_date,\n",
    "                        EXTRACT(YEAR FROM game_date) AS year,\n",
    "                        EXTRACT(MONTH FROM game_date) AS month, \n",
    "                        strftime('%B', game_date) AS month_name,\n",
    "                        EXTRACT(DAY FROM game_date) AS day,\n",
    "                        TO_CHAR(game_date, 'Day') AS weekday,\n",
    "                        CASE WHEN CAST(strftime('%m', game_date) AS INTEGER) BETWEEN 1 AND 3 THEN 1\n",
    "                                             WHEN CAST(strftime('%m', game_date) AS INTEGER) BETWEEN 4 AND 6 THEN 2\n",
    "                                             WHEN CAST(strftime('%m', game_date) AS INTEGER) BETWEEN 7 AND 9 THEN 3\n",
    "                                             ELSE 4\n",
    "                                        END AS quarter\n",
    "                             \n",
    "                        FROM '{source_file_path}' \n",
    "                        ORDER BY game_date\n",
    "                        WHERE time_control NOT IN \n",
    "                ( SELECT time_control FROM '{destination_file_path}')\n",
    "                \n",
    "                \"\"\")\n",
    "\n",
    "else:\n",
    "    dim_date = conn.sql(f\"\"\" SELECT DISTINCT game_date,\n",
    "                                        EXTRACT(YEAR FROM game_date) AS year,\n",
    "                                        EXTRACT(MONTH FROM game_date) AS month,\n",
    "                                        strftime('%B', game_date) AS month_name,\n",
    "                                        EXTRACT(DAY FROM game_date) AS day,\n",
    "                                        strftime('%A', game_date) AS weekday,\n",
    "                                        CASE WHEN CAST(strftime('%m', game_date) AS INTEGER) BETWEEN 1 AND 3 THEN 1\n",
    "                                             WHEN CAST(strftime('%m', game_date) AS INTEGER) BETWEEN 4 AND 6 THEN 2\n",
    "                                             WHEN CAST(strftime('%m', game_date) AS INTEGER) BETWEEN 7 AND 9 THEN 3\n",
    "                                             ELSE 4\n",
    "                                        END AS quarter\n",
    "                                        FROM '{source_file_path}'\n",
    "                                       ORDER BY game_date; \n",
    "\"\"\")\n",
    "\n",
    "dim_date"
   ]
  },
  {
   "cell_type": "code",
   "execution_count": 22,
   "metadata": {},
   "outputs": [
    {
     "name": "stdout",
     "output_type": "stream",
     "text": [
      "[\u001b[34m2025-03-24T17:14:27.599+0100\u001b[0m] {\u001b[34m_universal.py:\u001b[0m509} INFO\u001b[0m - Request URL: 'https://rbchesssa.blob.core.windows.net/chess-etl-files/gold/dim_time_class.parquet'\n",
      "Request method: 'HEAD'\n",
      "Request headers:\n",
      "    'x-ms-version': 'REDACTED'\n",
      "    'Accept': 'application/xml'\n",
      "    'User-Agent': 'azsdk-python-storage-blob/12.24.1 Python/3.10.12 (Linux-5.15.167.4-microsoft-standard-WSL2-x86_64-with-glibc2.35)'\n",
      "    'x-ms-date': 'REDACTED'\n",
      "    'x-ms-client-request-id': '0f4405e6-08cb-11f0-8218-c5d5f77a6a15'\n",
      "    'Authorization': 'REDACTED'\n",
      "No body was attached to the request\u001b[0m\n",
      "[\u001b[34m2025-03-24T17:14:28.970+0100\u001b[0m] {\u001b[34m_universal.py:\u001b[0m545} INFO\u001b[0m - Response status: 404\n",
      "Response headers:\n",
      "    'Transfer-Encoding': 'chunked'\n",
      "    'Server': 'Windows-Azure-Blob/1.0 Microsoft-HTTPAPI/2.0'\n",
      "    'x-ms-request-id': 'bf6fe4c6-201e-0085-73d7-9cc8a7000000'\n",
      "    'x-ms-client-request-id': '0f4405e6-08cb-11f0-8218-c5d5f77a6a15'\n",
      "    'x-ms-version': 'REDACTED'\n",
      "    'x-ms-error-code': 'BlobNotFound'\n",
      "    'Date': 'Mon, 24 Mar 2025 16:14:28 GMT'\u001b[0m\n"
     ]
    },
    {
     "data": {
      "text/plain": [
       "┌──────────────┬────────────┐\n",
       "│ time_control │ time_class │\n",
       "│   varchar    │  varchar   │\n",
       "├──────────────┼────────────┤\n",
       "│ 10           │ rapid      │\n",
       "│ 15|10        │ rapid      │\n",
       "└──────────────┴────────────┘"
      ]
     },
     "execution_count": 22,
     "metadata": {},
     "output_type": "execute_result"
    }
   ],
   "source": [
    "# dimenstion table for the time control.\n",
    "\n",
    "dim_file_name = \"gold/dim_time_class.parquet\"\n",
    "blob_client = container_client.get_blob_client(dim_file_name)\n",
    "\n",
    "if blob_client.exists():\n",
    "    dim_time_control = conn.sql(f\"\"\"\n",
    "                SELECT format_time_control(time_control) as time_control, time_class \n",
    "                FROM '{source_file_path}' WHERE time_control NOT IN \n",
    "                ( SELECT time_control FROM '{destination_file_path}')\n",
    "                \"\"\")\n",
    "\n",
    "else:\n",
    "    dim_time_control = conn.sql(f\"\"\"SELECT DISTINCT  format_time_control(time_control) as time_control, \n",
    "                                time_class\n",
    "             FROM '{source_file_path}';\n",
    "\"\"\")\n",
    "\n",
    "dim_time_control"
   ]
  },
  {
   "cell_type": "code",
   "execution_count": 24,
   "metadata": {},
   "outputs": [
    {
     "name": "stdout",
     "output_type": "stream",
     "text": [
      "<class 'pandas.core.frame.DataFrame'>\n"
     ]
    }
   ],
   "source": [
    "print(type(dim_time_control.fetchdf()))"
   ]
  },
  {
   "cell_type": "code",
   "execution_count": 6,
   "metadata": {},
   "outputs": [
    {
     "data": {
      "text/plain": [
       "┌──────────────────────────────────────────────┬─────────────────────┬─────────────────────┬─────────────────────┬────────────────────┬──────────────┬──────────┬───────────┬─────────────────┬────────────┬─────────────────┬─────────────────────────────────────────────────────────────┬─────────────────────────────────────────────────────────────────────────────────────────────────┬──────────────────────────────────────────────────────────────────────────────────────────────────────────────────────────────────────────────────────────────────────────────────────────────────────────────────────────────────────────────────────────────────────────────────────────────────────────────────────────────────────────────────────────────────────────────────────────────────────────────────────────────────────────────────────────────────────────────────────────────────────────────────────────────────────────────────────────────────────────────────────────────────────────────────────────────────────────────────────────────────────────────────────────────────────────────────────────────────────────────────────────────────────────────────────────────────────────────┬────────────────────────────┐\n",
       "│                   game_url                   │      game_date      │     start_time      │      end_time       │ game_duration_secs │ time_control │ my_color │ my_rating │ opponent_rating │ my_result  │ opponent_result │                          game_fen                           │                                           opening_url                                           │                                                                                                                                                                                                                                                                                                                                                                                                   game_pgn                                                                                                                                                                                                                                                                                                                                                                                                   │        last_updated        │\n",
       "│                   varchar                    │      timestamp      │    timestamp_ns     │    timestamp_ns     │       int64        │   varchar    │ varchar  │   int64   │      int64      │  varchar   │     varchar     │                           varchar                           │                                             varchar                                             │                                                                                                                                                                                                                                                                                                                                                                                                   varchar                                                                                                                                                                                                                                                                                                                                                                                                    │         timestamp          │\n",
       "├──────────────────────────────────────────────┼─────────────────────┼─────────────────────┼─────────────────────┼────────────────────┼──────────────┼──────────┼───────────┼─────────────────┼────────────┼─────────────────┼─────────────────────────────────────────────────────────────┼─────────────────────────────────────────────────────────────────────────────────────────────────┼──────────────────────────────────────────────────────────────────────────────────────────────────────────────────────────────────────────────────────────────────────────────────────────────────────────────────────────────────────────────────────────────────────────────────────────────────────────────────────────────────────────────────────────────────────────────────────────────────────────────────────────────────────────────────────────────────────────────────────────────────────────────────────────────────────────────────────────────────────────────────────────────────────────────────────────────────────────────────────────────────────────────────────────────────────────────────────────────────────────────────────────────────────────────────────────────────────────────┼────────────────────────────┤\n",
       "│ https://www.chess.com/game/live/123101377938 │ 2025-02-20 00:00:00 │ 2025-02-20 18:18:28 │ 2025-02-20 18:24:59 │                391 │ 2|1          │ white    │       936 │             932 │ timeout    │ win             │ 8/1p6/2pnp1k1/p2r4/P7/1KP5/1P6/5R2 w - -                    │ https://www.chess.com/openings/Modern-Defense-Three-Pawns-Attack-with-2-f4...Bg7-3.Nf3-d6       │ 1. e4 g6 2. f4 Bg7 3. Nf3 d6 4. Bc4 Bg4 5. O-O Nd7 6. d3 Ngf6 7. a4 c6 8. Nbd2 O-O 9. h3 Bxf3 10. Nxf3 Qb6+ 11. Kh1 a5 12. Be3 Qxe3 13. Ng5 Qb6 14. Bxf7+ Rxf7 15. Nxf7 Kxf7 16. f5 Rg8 17. fxg6+ hxg6 18. Qg4 Ne5 19. Qg5 Rh8 20. c3 Rh5 21. Qd2 Nd7 22. d4 Bh6 23. Qf2 Kg7 24. e5 dxe5 25. dxe5 Qxf2 26. Rxf2 Nxe5 27. Raf1 Nd3 28. Rf3 Rd5 29. g4 Ne5 30. R3f2 Be3 31. Re2 Bg5 32. Rfe1 Bf4 33. Rf1 Bg3 34. Rg1 Bh4 35. Rge1 Nfd7 36. Rf1 Nd3 37. Rd2 Nf2+ 38. Rdxf2 Bxf2 39. Rxf2 Rd1+ 40. Kg2 Ne5 41. Re2 Rd5 42. Kg3 Kf6 43. h4 Rd3+ 44. Kf2 Rf3+ 45. Kg2 Rd3 46. Rf2+ Ke6 47. h5 gxh5 48. gxh5 Nf7 49. Rf1 Rd5 50. Rh1 Rg5+ 51. Kf3 Kf6 52. h6 Kg6 53. h7 e6 54. Ke4 Rh5 55. Rg1+ Rg5 56. Rh1 Re5+ 57. Kd4 Rh5 58. Rg1+ Kxh7 59. Rf1 Rd5+ 60. Kc4 Nd6+ 61. Kb3 Kg6                                    │ 2025-02-01 00:00:00        │\n",
       "│ https://www.chess.com/game/live/125183938625 │ 2024-11-12 00:00:00 │ 2024-11-12 20:54:33 │ 2024-11-12 20:59:57 │                324 │ 3|2          │ white    │      1263 │            1278 │ resigned   │ win             │ 5rk1/5ppp/p3p3/8/r4P2/2P1K3/8/8 b - -                       │ https://www.chess.com/openings/Scandinavian-Defense-Mieses-Kotrc-Main-Line-4.d4-c6-5.Nf3-Bf5    │ 1. e4 d5 2. exd5 Qxd5 3. Nc3 Qa5 4. Nf3 Bf5 5. d4 c6 6. Bd3 Bxd3 7. Qxd3 Nf6 8. O-O e6 9. Bd2 Qc7 10. a4 Bd6 11. Rfe1 Nbd7 12. Ne2 O-O 13. c3 Qb6 14. Qc2 Rac8 15. Ng3 c5 16. Ne4 Nxe4 17. Qxe4 cxd4 18. Nxd4 Qxb2 19. Rab1 Qxd2 20. Rxb7 Nc5 21. Qe3 Qxe3 22. Rxe3 Nxb7 23. Nb5 a6 24. Nxd6 Nxd6 25. g4 Rc4 26. h4 Rxg4+ 27. Kh2 Rxh4+ 28. Kg3 Rxa4 29. f4 Nf5+ 30. Kf3 Nxe3 31. Kxe3                                                                                                                                                                                                                                                                                                                                                                                                                       │ 2024-11-01 00:00:00        │\n",
       "│ https://www.chess.com/game/live/125414348743 │ 2024-11-15 00:00:00 │ 2024-11-15 12:56:38 │ 2024-11-15 13:01:07 │                269 │ 10           │ white    │      1520 │            1582 │ win        │ checkmated      │ r1bqn1rk/p6R/1p5p/3Pp3/8/3B2Q1/P1P3PP/6K1 b - -             │ https://www.chess.com/openings/Kings-Pawn-Opening-Kings-Knight-Variation-2...Nc6                │ 1. e4 e5 2. Nf3 Nc6 3. Ng5 Qxg5 4. d4 Qd8 5. d5 Nce7 6. Be2 Nf6 7. Nc3 Ng6 8. O-O Bb4 9. Qd3 Bxc3 10. bxc3 O-O 11. f4 exf4 12. Bxf4 Nxf4 13. Rxf4 d6 14. Raf1 c6 15. c4 cxd5 16. cxd5 Kh8 17. Qg3 Rg8 18. Rh4 b6 19. Bd3 Ne8 20. e5 h6 21. Rxf7 dxe5 22. Rxh6+ gxh6 23. Rh7#                                                                                                                                                                                                                                                                                                                                                                                                                                                                                                                                 │ 2024-11-01 00:00:00        │\n",
       "│ https://www.chess.com/game/live/126975560411 │ 2024-12-03 00:00:00 │ 2024-12-03 14:34:20 │ 2024-12-03 14:44:51 │                631 │ 10           │ white    │      1552 │            1579 │ win        │ abandoned       │ 8/1b4kp/1p6/p2p2p1/P2P2N1/8/1PP2KPP/8 b - a3                │ https://www.chess.com/openings/Scandinavian-Defense-Mieses-Kotrc-Variation...4.d4-Nf6-5.Nf3-Bg4 │ 1. e4 d5 2. Nf3 Bg4 3. exd5 Qxd5 4. Nc3 Qd8 5. d4 Nf6 6. Bc4 e6 7. O-O c6 8. Qd3 Be7 9. Ne5 Bh5 10. Bg5 Nbd7 11. Qe3 Nb6 12. Bb3 Nfd5 13. Nxd5 Nxd5 14. Bxd5 cxd5 15. Bxe7 Qxe7 16. f4 f6 17. Nd3 Bf7 18. Rae1 b6 19. f5 O-O 20. fxe6 Be8 21. Nf4 Rd8 22. Qf3 Bc6 23. Qg3 Rfe8 24. Nh5 Kh8 25. Qg4 Rd6 26. Nf4 g5 27. Nh5 Rxe6 28. Rxe6 Qxe6 29. Qxe6 Rxe6 30. Rxf6 Rxf6 31. Nxf6 Kg7 32. Ng4 Bb7 33. Kf2 a5 34. a4                                                                                                                                                                                                                                                                                                                                                                                          │ 2024-12-01 00:00:00        │\n",
       "│ https://www.chess.com/game/live/128780034531 │ 2024-12-24 00:00:00 │ 2024-12-24 11:53:51 │ 2024-12-24 12:01:59 │                488 │ 3|2          │ white    │      1271 │            1330 │ win        │ timeout         │ 8/kp4p1/p6p/8/2Pb4/1P4B1/P3R1PP/3R3K b - -                  │ https://www.chess.com/openings/Philidor-Defense-Exchange-Variation-4.Nxd4                       │ 1. e4 e5 2. Nf3 d6 3. d4 exd4 4. Nxd4 Bd7 5. Bc4 Nf6 6. Qe2 Nc6 7. Nf3 Ne5 8. Bb3 Be7 9. Ng5 a6 10. f4 Ng6 11. Nxf7 Qc8 12. Nxh8 Nxh8 13. O-O Bb5 14. c4 Bc6 15. Nc3 Qg4 16. e5 Qxe2 17. Nxe2 dxe5 18. fxe5 Ng4 19. Bf4 Ng6 20. Bg3 N4xe5 21. Rae1 Kd7 22. Nf4 Nxf4 23. Bxf4 Nd3 24. Rd1 Be4 25. Bc2 Bc5+ 26. Kh1 Rf8 27. Bxd3 Bxd3 28. Rxd3+ Kc8 29. Rdd1 Bd4 30. b3 Re8 31. Bg3 Re2 32. Rf7 h6 33. Rxc7+ Kb8 34. Re7+ Ka7 35. Rxe2                                                                                                                                                                                                                                                                                                                                                                         │ 2024-12-01 00:00:00        │\n",
       "│ https://www.chess.com/game/live/125723921003 │ 2024-11-19 00:00:00 │ 2024-11-19 02:55:45 │ 2024-11-19 03:01:03 │                318 │ 3|2          │ white    │      1199 │            1165 │ win        │ resigned        │ r4k1r/pbpp4/1pn4p/8/3P1q2/1Q6/PP1N2PP/RN3RK1 b - -          │ https://www.chess.com/openings/Reti-Opening-Kingside-Fianchetto-Variation-2.e4-Bg7              │ 1. e4 g6 2. Nf3 Bg7 3. c3 e5 4. Bc4 h6 5. Qb3 Nc6 6. Bxf7+ Kf8 7. Bxg6 Qf6 8. Bf5 Nge7 9. O-O Nxf5 10. exf5 Qxf5 11. Nh4 Qf6 12. f4 exf4 13. Nf3 b6 14. d4 Bb7 15. Bxf4 Qxf4 16. Nfd2 Bxd4+ 17. cxd4                                                                                                                                                                                                                                                                                                                                                                                                                                                                                                                                                                                                         │ 2024-11-01 00:00:00        │\n",
       "│ https://www.chess.com/game/live/126884445855 │ 2024-12-02 00:00:00 │ 2024-12-02 13:21:52 │ 2024-12-02 13:25:03 │                191 │ 2|1          │ white    │       950 │            1006 │ resigned   │ win             │ 5r2/ppp1k1p1/3p3p/8/2N1n3/1P6/PB2R1QP/1q2K3 w - -           │ https://www.chess.com/openings/Scotch-Game-Scotch-Gambit                                        │ 1. e4 e5 2. Nf3 Nc6 3. d4 exd4 4. Bc4 h6 5. O-O Bc5 6. c3 dxc3 7. Bxf7+ Kxf7 8. Qd5+ Ke8 9. Qh5+ Kf8 10. Qxc5+ d6 11. Qxc3 Nf6 12. Nbd2 Bg4 13. Re1 Bxf3 14. Qxf3 Ke7 15. b3 Nd4 16. Qe3 Nc2 17. Qc3 Nxe1 18. Bb2 Nxg2 19. Kxg2 Qd7 20. Kf1 Qe6 21. Nc4 Nxe4 22. Qe3 Rhf8 23. Re1 Rxf2+ 24. Qxf2 Qh3+ 25. Qg2 Qd3+ 26. Re2 Rf8+ 27. Ke1 Qb1+                                                                                                                                                                                                                                                                                                                                                                                                                                                                 │ 2024-12-01 00:00:00        │\n",
       "│ https://www.chess.com/game/live/128844142015 │ 2024-12-25 00:00:00 │ 2024-12-25 05:35:52 │ 2024-12-25 05:49:37 │                825 │ 10           │ black    │      1585 │            1581 │ win        │ resigned        │ 8/pp1q1kp1/2p2p2/3p1NP1/7P/2P2R2/Pr1n4/5K2 w - -            │ https://www.chess.com/openings/French-Defense-Exchange-Variation...4.Bd3-Bd6-5.Nf3-Bg4          │ 1. e4 e6 2. Nf3 d5 3. exd5 exd5 4. d4 Bd6 5. Bd3 Bg4 6. c3 Ne7 7. Bg5 f6 8. Bh4 c6 9. Nbd2 Qc7 10. Bg3 Bxg3 11. fxg3 Nd7 12. O-O O-O 13. Qc2 Rfe8 14. Bxh7+ Kf8 15. Bf5 Bxf5 16. Qxf5 Nxf5 17. Ne5 Nxe5 18. dxe5 Rxe5 19. Nf3 Re2 20. g4 Ne3 21. Rfe1 Rxe1+ 22. Rxe1 Nxg4 23. Nd4 Qb6 24. h3 Ne5 25. Kh2 Kf7 26. Re2 Re8 27. Nf5 Qc7 28. Kh1 Qd7 29. g4 Nf3 30. Rf2 Re1+ 31. Kg2 Ng5 32. h4 Ne4 33. Rf3 Re2+ 34. Kf1 Rxb2 35. g5 Nd2+                                                                                                                                                                                                                                                                                                                                                                        │ 2024-12-01 00:00:00        │\n",
       "│ https://www.chess.com/game/live/129490387937 │ 2025-01-01 00:00:00 │ 2025-01-01 17:09:04 │ 2025-01-01 17:16:18 │                434 │ 3|2          │ black    │      1329 │            1385 │ timeout    │ win             │ 2Qbr1k1/6pp/3Rp3/3pPq2/1Pp2P2/2P3P1/1B3NKP/7R b - -         │ https://www.chess.com/openings/Alapin-Sicilian-Defense...3.Nf3-d5-4.e5-Nc6                      │ 1. e4 e6 2. Nf3 d5 3. e5 c5 4. c3 Nc6 5. b3 Bd7 6. Bb2 Nge7 7. Bd3 Ng6 8. Qe2 Nf4 9. Qe3 Nxd3+ 10. Qxd3 Be7 11. O-O O-O 12. Qc2 f6 13. d4 Qc7 14. Re1 Rac8 15. Nbd2 fxe5 16. Nxe5 Nxe5 17. dxe5 Be8 18. g3 Bg6 19. Qc1 b5 20. f4 c4 21. b4 Qb6+ 22. Kf1 Bf5 23. a4 Bd3+ 24. Kg2 a5 25. axb5 Qxb5 26. Rxa5 Qb6 27. Qa1 Qd8 28. Ra6 Qd7 29. Rh1 Bd8 30. Rd6 Qf7 31. Qa6 Re8 32. Qxc8 Be4+ 33. Nxe4 Qf5 34. Nf2                                                                                                                                                                                                                                                                                                                                                                                                 │ 2025-01-01 00:00:00        │\n",
       "│ https://www.chess.com/game/live/125676495225 │ 2024-11-18 00:00:00 │ 2024-11-18 13:41:51 │ 2024-11-18 13:51:04 │                553 │ 3|2          │ black    │      1203 │            1226 │ timeout    │ win             │ 8/7b/5N1P/1p4K1/2p5/P7/1Pk5/8 b - -                         │ https://www.chess.com/openings/Englund-Gambit-Hartlaub-Charlick-Gambit                          │ 1. d4 e5 2. dxe5 d6 3. exd6 Bxd6 4. c4 Nc6 5. Be3 Bf5 6. c5 Be7 7. Qxd8+ Rxd8 8. g3 Nb4 9. Na3 Nd5 10. Bg2 Nxe3 11. fxe3 Bxc5 12. Nc4 Bb4+ 13. Kf2 b5 14. Ne5 f6 15. Nc6 a5 16. Nxd8 Kxd8 17. Nf3 g5 18. a3 Bc5 19. Rac1 Bd6 20. Rhd1 Ne7 21. Nd4 Bd7 22. Bc6 Nxc6 23. Nxc6+ Kc8 24. Nxa5 h5 25. Rxd6 h4 26. Rxf6 hxg3+ 27. Kxg3 Rh3+ 28. Kg2 Rxe3 29. Rf8+ Re8 30. Rxe8+ Bxe8 31. Rc5 Kb8 32. Rxg5 Ka7 33. Rg6 Bxg6 34. Nc6+ Kb6 35. Ne5 Be4+ 36. Kg3 c5 37. h4 c4 38. Kf4 Bc2 39. e4 Kc5 40. h5 Kd4 41. h6 Bxe4 42. Nf3+ Kd3 43. Ne1+ Kd4 44. Nf3+ Kd5 45. Ng5 Bd3 46. Kg4 Kd4 47. Nh3 Ke3 48. Nf4 Bh7 49. Kg5 Kd2 50. Nh5 Kc2 51. Nf6                                                                                                                                                                     │ 2024-11-01 00:00:00        │\n",
       "│                      ·                       │          ·          │          ·          │          ·          │                 ·  │  ·           │   ·      │        ·  │              ·  │    ·       │  ·              │                  ·                                          │                                   ·                                                             │                                                                     ·                                                                                                                                                                                                                                                                                                                                                                                                                                                                                                                                                                                                                                                                                                                                        │          ·                 │\n",
       "│                      ·                       │          ·          │          ·          │          ·          │                 ·  │  ·           │   ·      │        ·  │              ·  │    ·       │  ·              │                  ·                                          │                                   ·                                                             │                                                                     ·                                                                                                                                                                                                                                                                                                                                                                                                                                                                                                                                                                                                                                                                                                                                        │          ·                 │\n",
       "│                      ·                       │          ·          │          ·          │          ·          │                 ·  │  ·           │   ·      │        ·  │              ·  │    ·       │  ·              │                  ·                                          │                                   ·                                                             │                                                                     ·                                                                                                                                                                                                                                                                                                                                                                                                                                                                                                                                                                                                                                                                                                                                        │          ·                 │\n",
       "│ https://www.chess.com/game/live/123091524232 │ 2025-02-20 00:00:00 │ 2025-02-20 13:25:40 │ 2025-02-20 13:27:55 │                135 │ 3|2          │ white    │      1298 │            1310 │ resigned   │ win             │ r4bkr/pp4p1/2npN2p/8/3p2nq/8/PPP2PPP/RNB1R1K1 w - -         │ https://www.chess.com/openings/Scotch-Game-Scotch-Gambit-Dubois-Reti-Advance-Variation-5...d5   │ 1. e4 e5 2. Nf3 Nc6 3. d4 exd4 4. Bc4 Nf6 5. e5 d5 6. exd6 cxd6 7. O-O Bg4 8. Bxf7+ Kxf7 9. Ng5+ Kg8 10. Qxg4 Nxg4 11. Re1 h6 12. Ne6 Qh4                                                                                                                                                                                                                                                                                                                                                                                                                                                                                                                                                                                                                                                                    │ 2025-02-01 00:00:00        │\n",
       "│ https://www.chess.com/game/live/124789145093 │ 2024-11-08 00:00:00 │ 2024-11-08 07:17:04 │ 2024-11-08 07:24:54 │                470 │ 3|2          │ white    │      1290 │            1292 │ repetition │ repetition      │ 2r4k/p6p/8/5p2/3R4/2P3B1/q2K1P1P/4R3 w - -                  │ https://www.chess.com/openings/Scotch-Game-Scotch-Gambit-Dubois-Reti-Advance-Variation          │ 1. e4 e5 2. Nf3 Nc6 3. Bc4 Nf6 4. d4 exd4 5. e5 Bb4+ 6. c3 dxc3 7. bxc3 Be7 8. exf6 Bxf6 9. O-O O-O 10. Bb2 d6 11. Nbd2 Bg4 12. Qc2 Bh5 13. Ne4 Bxf3 14. Nxf6+ Qxf6 15. gxf3 Ne5 16. Be2 Rad8 17. Qe4 Qg5+ 18. Kh1 f5 19. Qd5+ Kh8 20. Bc1 Qh4 21. Bf4 Rf6 22. Bg3 Qh3 23. Qxb7 Rh6 24. f4 Ng4 25. Bxg4 Qxg4 26. Qxc7 Rf8 27. Qxd6 Rg8 28. Rad1 Rxd6 29. Rxd6 Qf3+ 30. Kg1 g5 31. fxg5 Rxg5 32. Rfd1 Rg8 33. Rd7 Qe4 34. Kf1 Rc8 35. R7d4 Qh1+ 36. Ke2 Qe4+ 37. Kd2 Qe6 38. Re1 Qxa2+ 39. Kd3 Qa6+ 40. Kd2 Qa2+ 41. Kd3 Qa6+ 42. Kd2 Qa2+                                                                                                                                                                                                                                                                    │ 2024-11-01 00:00:00        │\n",
       "│ https://www.chess.com/game/live/127048224255 │ 2024-12-04 00:00:00 │ 2024-12-04 10:51:42 │ 2024-12-04 11:12:08 │               1226 │ 10           │ white    │      1517 │            1552 │ timeout    │ win             │ 8/1p6/8/q2K4/k7/8/1b6/8 w - -                               │ https://www.chess.com/openings/Sicilian-Defense-McDonnell-Attack...3.Nf3-e6-4.Bb5-Nge7          │ 1. e4 c5 2. f4 Nc6 3. Nf3 e6 4. Bb5 Nge7 5. Bxc6 Nxc6 6. d3 Be7 7. Nc3 O-O 8. O-O h6 9. Qe1 f6 10. Qg3 Kh7 11. Nh4 Qe8 12. f5 exf5 13. Nxf5 Qf7 14. Rf4 g5 15. Rg4 d6 16. h4 Bxf5 17. exf5 Ne5 18. hxg5 fxg5 19. Re4 Qxf5 20. Be3 Qg6 21. Nd5 Bd8 22. Bd2 c4 23. Bc3 cxd3 24. cxd3 Rc8 25. Rae1 Rc5 26. Bxe5 Rxd5 27. Bxd6 Bb6+ 28. Kh1 Qh5+ 29. Qh2 Qxh2+ 30. Bxh2 Rf7 31. Re7 Rf5 32. Rxf7+ Rxf7 33. Be5 Kg6 34. Bc3 h5 35. g3 Bf2 36. Re6+ Kf5 37. Re5+ Kg4 38. Kg2 Bxg3 39. Re4+ Bf4 40. a4 h4 41. Bd2 h3+ 42. Kh1 Rc7 43. d4 Rc2 44. Bc3 Rc1+ 45. Re1 Rxe1+ 46. Bxe1 Kf5 47. Kg1 g4 48. d5 Bd6 49. Bc3 g3 50. Bd4 Ke4 51. Bxa7 Kxd5 52. a5 Kc4 53. Bb6 Kb3 54. Bd4 Ka4 55. Bb6 Be5 56. Bd8 Bd4+ 57. Kf1 g2+ 58. Ke2 h2 59. Bc7 g1=Q 60. Bxh2 Qxh2+ 61. Kd3 Bxb2 62. Kc4 Qf4+ 63. Kc5 Qb4+ 64. Kd5 Qxa5+ │ 2024-12-01 00:00:00        │\n",
       "│ https://www.chess.com/game/live/127836647579 │ 2024-12-13 00:00:00 │ 2024-12-13 13:51:25 │ 2024-12-13 13:59:58 │                513 │ 3|2          │ black    │      1227 │            1191 │ win        │ timeout         │ 2k1r2r/1p2n1p1/p1p1R2p/2Np1P2/1q1b2P1/1P1BQ2P/1KP5/R7 w - - │ https://www.chess.com/openings/French-Defense-Exchange-Variation-3...exd5-4.Nf3-Bd6             │ 1. e4 e6 2. Nf3 d5 3. exd5 exd5 4. d4 Bd6 5. Qe2+ Ne7 6. Nc3 Bg4 7. h3 Be6 8. Bg5 c6 9. O-O-O f6 10. Qxe6 fxg5 11. Nxg5 Bf4+ 12. Kb1 Bxg5 13. Re1 Bf6 14. f4 Qc7 15. f5 Nd7 16. g4 O-O-O 17. Qe3 Rde8 18. Qd2 h6 19. Bg2 Nb6 20. Rhf1 Nc4 21. Qd1 Qb6 22. b3 Na3+ 23. Kc1 Nb5 24. Na4 Qa5 25. Re6 Nc3 26. Qd3 Nxa2+ 27. Kb2 Nb4 28. Qe3 Qb5 29. Ra1 a6 30. Bf1 Nd3+ 31. Bxd3 Qb4 32. Nc5 Bxd4+                                                                                                                                                                                                                                                                                                                                                                                                               │ 2024-12-01 00:00:00        │\n",
       "│ https://www.chess.com/game/live/127840226477 │ 2024-12-13 00:00:00 │ 2024-12-13 14:49:24 │ 2024-12-13 14:55:42 │                378 │ 3|2          │ white    │      1232 │            1256 │ checkmated │ win             │ 8/7k/6p1/5pKp/p5q1/P7/1q6/8 w - -                           │ https://www.chess.com/openings/Caro-Kann-Defense-Modern-Variation                               │ 1. e4 c6 2. d4 d5 3. Nd2 Nf6 4. Bd3 a6 5. Ngf3 Bg4 6. O-O Bxf3 7. Qxf3 e6 8. e5 Ng8 9. c3 c5 10. Nb3 cxd4 11. Nxd4 Nc6 12. Nxc6 bxc6 13. Qe3 Ne7 14. f4 Qa5 15. f5 Nxf5 16. Bxf5 Bc5 17. Qxc5 Qxc5+ 18. Rf2 exf5 19. Bd2 O-O 20. Rf1 g6 21. h4 h5 22. Bh6 a5 23. Bxf8 Rxf8 24. Kh1 d4 25. cxd4 Qxd4 26. Re2 Re8 27. Rfe1 Qxh4+ 28. Kg1 Qb4 29. a3 Qb5 30. Kf2 a4 31. Kf3 c5 32. Kf4 c4 33. Kg5 Qb3 34. Kf6 c3 35. Rd1 Qxd1 36. Re3 cxb2 37. e6 Rxe6+ 38. Rxe6 fxe6 39. Kxe6 b1=Q 40. Kf6 Kh7 41. g4 Qxg4 42. Ke6 Qge4+ 43. Kf6 Qb2+ 44. Kg5 Qg4#                                                                                                                                                                                                                                                             │ 2024-12-01 00:00:00        │\n",
       "│ https://www.chess.com/game/live/136094508334 │ 2025-03-10 00:00:00 │ 2025-03-10 01:36:05 │ 2025-03-10 01:45:34 │                569 │ 3|2          │ black    │      1232 │            1280 │ timeout    │ win             │ 8/3K3p/7P/5p2/3Q4/8/4k3/8 b - -                             │ https://www.chess.com/openings/French-Defense-Exchange-Variation-3...exd5-4.Nc3                 │ 1. e4 e6 2. d4 d5 3. exd5 exd5 4. Nc3 c6 5. Nf3 Bd6 6. Bg5 Ne7 7. Be2 Bg4 8. h3 Bh5 9. Qd2 Qc7 10. g4 Bg6 11. Bd3 f6 12. Be3 Nd7 13. h4 Bxd3 14. Qxd3 Ng6 15. O-O-O O-O 16. h5 Nf4 17. Bxf4 Bxf4+ 18. Kb1 a5 19. a4 b5 20. b3 bxa4 21. Nxa4 Nb6 22. Nc5 Rfe8 23. Rhe1 a4 24. Rxe8+ Rxe8 25. Kb2 axb3 26. Nxb3 Rb8 27. Re1 Nc4+ 28. Kc3 Na3 29. Kb2 Nc4+ 30. Kb1 Na5 31. Nd2 Bxd2 32. Qxd2 Nxb3 33. cxb3 Rxb3+ 34. Kc2 Rb8 35. h6 Qb7 36. Kd3 Qb3+ 37. Ke2 Re8+ 38. Kf1 Rxe1+ 39. Qxe1 Qd3+ 40. Kg2 Qe4+ 41. Qxe4 dxe4 42. Kf1 gxh6 43. Ke2 h5 44. gxh5 f5 45. Ke3 Kf7 46. Kf4 Kf6 47. h6 Kg6 48. Ke5 Kg5 49. Kd6 Kf4 50. Kxc6 Kf3 51. d5 Kxf2 52. d6 e3 53. d7 e2 54. d8=Q e1=Q 55. Qh4+ Ke2 56. Qh5+ Kd2 57. Qg5+ Qe3 58. Qd8+ Ke2 59. Qh4 Qc3+ 60. Kd7 Qd4+ 61. Qxd4                                       │ 2025-03-10 01:32:14.394982 │\n",
       "│ https://www.chess.com/game/live/129820160707 │ 2025-01-05 00:00:00 │ 2025-01-05 12:45:48 │ 2025-01-05 12:53:41 │                473 │ 10           │ white    │      1561 │            1556 │ resigned   │ win             │ 8/p7/1p6/2p5/P1P2k2/3p3p/1P3K2/8 w - -                      │ https://www.chess.com/openings/Philidor-Defense-Exchange-Morphy-Gambit                          │ 1. e4 e5 2. d4 exd4 3. Nf3 d6 4. Bc4 Nf6 5. O-O Be7 6. e5 dxe5 7. Nxe5 O-O 8. Qf3 c5 9. Rd1 Nbd7 10. Ng4 Nxg4 11. Qxg4 Ne5 12. Qe2 Nxc4 13. Qxc4 Be6 14. Qd3 b6 15. Bf4 Bf6 16. Nd2 Qd5 17. Nf3 Bf5 18. Qd2 Bg4 19. c4 Qf5 20. Qd3 Qh5 21. Re1 Bxf3 22. Qxf3 Qxf3 23. gxf3 Rfe8 24. Kg2 h6 25. a4 g5 26. Bg3 Re6 27. h3 Rae8 28. Red1 Be5 29. Bxe5 Rxe5 30. Rd2 f5 31. Kg3 f4+ 32. Kg4 Kg7 33. Rh1 Kg6 34. h4 h5+ 35. Kh3 Re2 36. Rxe2 Rxe2 37. hxg5 Rxf2 38. Kh4 Rxf3 39. Re1 Re3 40. Rd1 f3 41. Rd2 Re2 42. Rd3 f2 43. Rf3 Re4+ 44. Kg3 Kxg5 45. Rxf2 h4+ 46. Kf3 Rf4+ 47. Ke2 Rxf2+ 48. Kxf2 Kf4 49. Ke2 h3 50. Kf2 d3                                                                                                                                                                                    │ 2025-01-01 00:00:00        │\n",
       "│ https://www.chess.com/game/live/129992359101 │ 2025-01-07 00:00:00 │ 2025-01-07 12:35:42 │ 2025-01-07 12:41:14 │                332 │ 2|1          │ white    │      1020 │            1015 │ timeout    │ win             │ 8/2p1r2k/1p1p2p1/p2Q1p1p/4bPP1/7K/PP2q1NP/7R w - -          │ https://www.chess.com/openings/Italian-Game-3...d6-4.d4-exd4                                    │ 1. e4 e5 2. Nf3 Nc6 3. d4 exd4 4. Bc4 d6 5. c3 h6 6. cxd4 Nge7 7. O-O g6 8. d5 Nb8 9. Nc3 Bg7 10. Qc2 Nd7 11. Bb3 O-O 12. Bd2 a6 13. Rae1 a5 14. Qc1 h5 15. Bh6 b6 16. Bxg7 Kxg7 17. Bc2 Ba6 18. Ne2 Nc5 19. Qd2 Kh7 20. g3 Ng8 21. Kg2 Nf6 22. Rh1 Nfxe4 23. Bxe4 Nxe4 24. Qd4 f5 25. Nf4 Bc8 26. Nh4 Rg8 27. f3 Ng5 28. Qd3 Ba6 29. Qd4 Qd7 30. Re2 Rae8 31. Rxe8 Qxe8 32. Ne6 Nxe6 33. dxe6 Qxe6 34. f4 Qe2+ 35. Kh3 Qg4+ 36. Kg2 Qe2+ 37. Kh3 Re8 38. Qd5 Re7 39. Ng2 Bd3 40. g4 Be4                                                                                                                                                                                                                                                                                                                     │ 2025-01-01 00:00:00        │\n",
       "│ https://www.chess.com/game/live/129629361305 │ 2025-01-03 00:00:00 │ 2025-01-03 07:47:42 │ 2025-01-03 07:54:29 │                407 │ 3|2          │ black    │      1292 │            1361 │ win        │ resigned        │ 8/3k3p/p3p2B/1pp5/3pK1PP/1P6/P4n2/8 w - -                   │ https://www.chess.com/openings/French-Defense-Queens-Knight-Variation-2...d5                    │ 1. e4 e6 2. Nc3 d5 3. exd5 exd5 4. Nf3 d4 5. Nb5 c5 6. Qe2+ Be7 7. Qe5 Nc6 8. Qxg7 Bf6 9. Qg3 Qe7+ 10. Be2 Be5 11. Nxe5 Nxe5 12. Qg7 Qf6 13. Qxf6 Nxf6 14. Nc7+ Ke7 15. Nxa8 Bf5 16. Nc7 a6 17. Bf3 Bxc2 18. Nd5+ Nxd5 19. Bxd5 Nd3+ 20. Ke2 Nf4+ 21. Kf3 Nxd5 22. Re1+ Kd6 23. g3 Bg6 24. b3 Ne7 25. Bb2 Nf5 26. Rac1 b6 27. Re2 Rg8 28. Rce1 Bh5+ 29. Kg2 Bxe2 30. Rxe2 Nh6 31. Re4 Rg6 32. d3 Re6 33. Rxe6+ fxe6 34. Bc1 Nf5 35. Bf4+ Kd7 36. g4 Nh4+ 37. Kg3 Ng6 38. Bh6 b5 39. h4 Ne5 40. Kf4 Nxd3+ 41. Ke4 Nxf2+                                                                                                                                                                                                                                                                                       │ 2025-01-01 00:00:00        │\n",
       "│ https://www.chess.com/game/live/129630519355 │ 2025-01-03 00:00:00 │ 2025-01-03 08:02:40 │ 2025-01-03 08:10:49 │                489 │ 3|2          │ white    │      1278 │            1274 │ resigned   │ win             │ 4r1k1/7p/p1p2qp1/5p2/2P2p2/3P1Q2/5KPP/4r3 w - -             │ https://www.chess.com/openings/Sicilian-Defense-McDonnell-Attack-2...Nc6-3.Nf3-d6-4.Bb5         │ 1. e4 c5 2. f4 Nc6 3. Nf3 d6 4. Bb5 a6 5. Bxc6+ bxc6 6. O-O Nf6 7. d3 g6 8. Qe1 Bg7 9. Nc3 O-O 10. Be3 Re8 11. a3 e6 12. Ng5 d5 13. Ne2 d4 14. e5 dxe3 15. exf6 Bxf6 16. Nc3 Bd4 17. Qe2 e5 18. Nf3 Bg4 19. Rab1 exf4 20. Nd1 Bg7 21. c3 Bf5 22. Ne1 Qg5 23. Nf3 Qe7 24. c4 Rad8 25. Ne1 Qd7 26. Rf3 Bg4 27. Nc2 Bxf3 28. Qxf3 e2 29. Nf2 Bxb2 30. Rxb2 Qe7 31. Ne1 Qe5 32. Ne4 Qxb2 33. Nxc5 Qxa3 34. Ne4 Qa1 35. Qxe2 f5 36. Nf6+ Qxf6 37. Qf3 Rxe1+ 38. Kf2 Rde8                                                                                                                                                                                                                                                                                                                                          │ 2025-01-01 00:00:00        │\n",
       "├──────────────────────────────────────────────┴─────────────────────┴─────────────────────┴─────────────────────┴────────────────────┴──────────────┴──────────┴───────────┴─────────────────┴────────────┴─────────────────┴─────────────────────────────────────────────────────────────┴─────────────────────────────────────────────────────────────────────────────────────────────────┴──────────────────────────────────────────────────────────────────────────────────────────────────────────────────────────────────────────────────────────────────────────────────────────────────────────────────────────────────────────────────────────────────────────────────────────────────────────────────────────────────────────────────────────────────────────────────────────────────────────────────────────────────────────────────────────────────────────────────────────────────────────────────────────────────────────────────────────────────────────────────────────────────────────────────────────────────────────────────────────────────────────────────────────────────────────────────────────────────────────────────────────────────────────────────────────────────────────────┴────────────────────────────┤\n",
       "│ 1207 rows (20 shown)                                                                                                                                                                                                                                                                                                                                                                                                                                                                                                                                                                                                                                                                                                                                                                                                                                                                                                                                                                                                                                                                                                                                                                                                        15 columns │\n",
       "└────────────────────────────────────────────────────────────────────────────────────────────────────────────────────────────────────────────────────────────────────────────────────────────────────────────────────────────────────────────────────────────────────────────────────────────────────────────────────────────────────────────────────────────────────────────────────────────────────────────────────────────────────────────────────────────────────────────────────────────────────────────────────────────────────────────────────────────────────────────────────────────────────────────────────────────────────────────────────────────────────────────────────────────────────────────────────────────────────────────────────────────────────────────────────────────────────────────────────────────────────────────────────────────────────────────────────────────────────────────────────────────────────────────────────────────────────────────────────────────────────────────────────────────────────────────────────────────────────────────────────────────────────────────────────────────────────────────────────────────────────────────────────────────────────────────────────────────────────────┘"
      ]
     },
     "execution_count": 6,
     "metadata": {},
     "output_type": "execute_result"
    }
   ],
   "source": [
    "conn.sql(f\"\"\"SELECT DISTINCT *\n",
    "         FROM 'az://rbchesssa.blob.core.windows.net/chess-etl-files/gold/fact-games.parquet'\n",
    "         \n",
    "         ;\"\"\")"
   ]
  }
 ],
 "metadata": {
  "kernelspec": {
   "display_name": "venv",
   "language": "python",
   "name": "python3"
  },
  "language_info": {
   "codemirror_mode": {
    "name": "ipython",
    "version": 3
   },
   "file_extension": ".py",
   "mimetype": "text/x-python",
   "name": "python",
   "nbconvert_exporter": "python",
   "pygments_lexer": "ipython3",
   "version": "3.10.12"
  }
 },
 "nbformat": 4,
 "nbformat_minor": 2
}
