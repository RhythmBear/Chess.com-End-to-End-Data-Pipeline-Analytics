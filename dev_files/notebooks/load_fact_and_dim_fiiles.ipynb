{
 "cells": [
  {
   "cell_type": "markdown",
   "metadata": {},
   "source": [
    "# Notebook to create Final Fact and Dimensional tables. \n"
   ]
  },
  {
   "cell_type": "code",
   "execution_count": 1,
   "metadata": {},
   "outputs": [
    {
     "name": "stdout",
     "output_type": "stream",
     "text": [
      "Requirement already satisfied: azure-storage-blob in /home/rhythmbear/chess-wrapped-etl-pipeline/venv/lib/python3.10/site-packages (12.24.1)\n",
      "Requirement already satisfied: azure-core>=1.30.0 in /home/rhythmbear/chess-wrapped-etl-pipeline/venv/lib/python3.10/site-packages (from azure-storage-blob) (1.32.0)\n",
      "Requirement already satisfied: cryptography>=2.1.4 in /home/rhythmbear/chess-wrapped-etl-pipeline/venv/lib/python3.10/site-packages (from azure-storage-blob) (44.0.2)\n",
      "Requirement already satisfied: isodate>=0.6.1 in /home/rhythmbear/chess-wrapped-etl-pipeline/venv/lib/python3.10/site-packages (from azure-storage-blob) (0.6.1)\n",
      "Requirement already satisfied: typing-extensions>=4.6.0 in /home/rhythmbear/chess-wrapped-etl-pipeline/venv/lib/python3.10/site-packages (from azure-storage-blob) (4.12.2)\n",
      "Requirement already satisfied: requests>=2.21.0 in /home/rhythmbear/chess-wrapped-etl-pipeline/venv/lib/python3.10/site-packages (from azure-core>=1.30.0->azure-storage-blob) (2.32.3)\n",
      "Requirement already satisfied: six>=1.11.0 in /home/rhythmbear/chess-wrapped-etl-pipeline/venv/lib/python3.10/site-packages (from azure-core>=1.30.0->azure-storage-blob) (1.17.0)\n",
      "Requirement already satisfied: cffi>=1.12 in /home/rhythmbear/chess-wrapped-etl-pipeline/venv/lib/python3.10/site-packages (from cryptography>=2.1.4->azure-storage-blob) (1.17.1)\n",
      "Requirement already satisfied: pycparser in /home/rhythmbear/chess-wrapped-etl-pipeline/venv/lib/python3.10/site-packages (from cffi>=1.12->cryptography>=2.1.4->azure-storage-blob) (2.22)\n",
      "Requirement already satisfied: urllib3<3,>=1.21.1 in /home/rhythmbear/chess-wrapped-etl-pipeline/venv/lib/python3.10/site-packages (from requests>=2.21.0->azure-core>=1.30.0->azure-storage-blob) (2.3.0)\n",
      "Requirement already satisfied: certifi>=2017.4.17 in /home/rhythmbear/chess-wrapped-etl-pipeline/venv/lib/python3.10/site-packages (from requests>=2.21.0->azure-core>=1.30.0->azure-storage-blob) (2024.12.14)\n",
      "Requirement already satisfied: idna<4,>=2.5 in /home/rhythmbear/chess-wrapped-etl-pipeline/venv/lib/python3.10/site-packages (from requests>=2.21.0->azure-core>=1.30.0->azure-storage-blob) (3.10)\n",
      "Requirement already satisfied: charset-normalizer<4,>=2 in /home/rhythmbear/chess-wrapped-etl-pipeline/venv/lib/python3.10/site-packages (from requests>=2.21.0->azure-core>=1.30.0->azure-storage-blob) (3.4.1)\n"
     ]
    }
   ],
   "source": [
    "! pip install azure-storage-blob"
   ]
  },
  {
   "cell_type": "markdown",
   "metadata": {},
   "source": [
    "## Prepare User defined Functions for the query. "
   ]
  },
  {
   "cell_type": "code",
   "execution_count": 2,
   "metadata": {},
   "outputs": [
    {
     "data": {
      "text/html": [
       "<pre style=\"white-space:pre;overflow-x:auto;line-height:normal;font-family:Menlo,'DejaVu Sans Mono',consolas,'Courier New',monospace\"><span style=\"color: #808000; text-decoration-color: #808000; font-weight: bold\">/tmp/ipykernel_98822/1621052441.py:</span><span style=\"color: #808000; text-decoration-color: #808000; font-weight: bold\">50</span><span style=\"color: #808000; text-decoration-color: #808000; font-weight: bold\"> DeprecationWarning</span><span style=\"color: #808000; text-decoration-color: #808000\">: numpy.core is deprecated and has been renamed to numpy._core. The numpy._core namespace contains private NumPy internals and its use is discouraged, as NumPy internals can change without warning in any release. In practice, most real-world usage of numpy.core is to access functionality in the public NumPy API. If that is the case, use the public NumPy API. If not, you are using NumPy internals. If you would still like to access an internal attribute, use numpy._core.multiarray.</span>\n",
       "</pre>\n"
      ],
      "text/plain": [
       "\u001b[1;33m/tmp/ipykernel_98822/\u001b[0m\u001b[1;33m1621052441.py\u001b[0m\u001b[1;33m:\u001b[0m\u001b[1;33m50\u001b[0m\u001b[1;33m DeprecationWarning\u001b[0m\u001b[33m: numpy.core is deprecated and has been renamed to numpy._core. The numpy._core namespace contains private NumPy internals and its use is discouraged, as NumPy internals can change without warning in any release. In practice, most real-world usage of numpy.core is to access functionality in the public NumPy API. If that is the case, use the public NumPy API. If not, you are using NumPy internals. If you would still like to access an internal attribute, use numpy._core.multiarray.\u001b[0m\n"
      ]
     },
     "metadata": {},
     "output_type": "display_data"
    },
    {
     "data": {
      "text/plain": [
       "<duckdb.duckdb.DuckDBPyConnection at 0x7fb62d635c30>"
      ]
     },
     "execution_count": 2,
     "metadata": {},
     "output_type": "execute_result"
    }
   ],
   "source": [
    "import requests\n",
    "from selectolax.parser import HTMLParser\n",
    "import duckdb\n",
    "\n",
    "conn = duckdb.connect(':memory:')\n",
    "\n",
    "def extract_opening_data(url):\n",
    "    headers = {\n",
    "        \"User-Agent\": (\n",
    "            \"Mozilla/5.0 (Windows NT 10.0; Win64; x64) \"\n",
    "            \"AppleWebKit/537.36 (KHTML, like Gecko) \"\n",
    "            \"Chrome/115.0.0.0 Safari/537.36\"\n",
    "        ),\n",
    "        \"Accept-Language\": \"en-US,en;q=0.9\",\n",
    "        \"Accept\": \"text/html,application/xhtml+xml,application/xml;q=0.9,image/webp,*/*;q=0.8\",\n",
    "        \"Referer\": \"https://www.google.com\",\n",
    "    }\n",
    "\n",
    "    try:\n",
    "        response = requests.get(url, headers=headers, timeout=5)\n",
    "        if response.status_code == 200:\n",
    "            tree = HTMLParser(response.text)\n",
    "            \n",
    "            # Extract H1 (Opening Name)\n",
    "            h1_tag = tree.css_first(\"h1\")\n",
    "            opening_name = h1_tag.text(strip=True) if h1_tag else None\n",
    "            \n",
    "            # Extract Moves List\n",
    "            move_list_div = tree.css_first(\".openings-view-move-list\")\n",
    "            moves = move_list_div.text(strip=True) if move_list_div else None\n",
    "\n",
    "            return {\"opening_name\": opening_name, \"moves\": moves}\n",
    "\n",
    "    except requests.RequestException:\n",
    "        return {\"opening_name\": None, \"moves\": None}  # Handle errors\n",
    "\n",
    "    return {\"opening_name\": None, \"moves\": None}\n",
    "\n",
    "\n",
    "def get_opening_family(opening_name: str) -> str:\n",
    "    # Get the parent name of the move numbers\n",
    "\n",
    "    if \":\" in opening_name:\n",
    "        name_splitted = opening_name.split(\":\")\n",
    "        return name_splitted[0]\n",
    "\n",
    "    else:\n",
    "        return opening_name\n",
    "    \n",
    "conn.create_function('get_opening_family', get_opening_family)\n",
    "\n",
    "\n",
    "def extract_opening_name(url: str) -> str:\n",
    "    # extract Opening Data\n",
    "    opening_data = extract_opening_data(url)\n",
    "    return opening_data['opening_name']\n",
    "#\n",
    "conn.create_function('extract_opening_name', extract_opening_name) \n",
    "\n",
    "\n",
    "def format_time_control(timecontrol: str)-> str:\n",
    "    if \"+\" in timecontrol:\n",
    "        tc = timecontrol.split(\"+\")\n",
    "        minute = int(int(tc[0]) / 60)\n",
    "        return \"\".join([str(minute), \"|\", tc[1]])\n",
    "\n",
    "    else: \n",
    "        return str(int(int(timecontrol) / 60))\n",
    "\n",
    "\n",
    "\n",
    "conn.create_function('format_time_control', format_time_control)\n",
    "# def get_time_class(time_control: str) -> str:\n",
    "#     # Get the time control from the time control string\n",
    "\n",
    "#     if \"+\" in time_control:\n",
    "#         # Split the time control and increment\n",
    "#         time_control = int(time_control.split(\"+\")[0])\n",
    "#     else:\n",
    "#         time_control = int(time_control)\n",
    "    \n",
    "#     time_class = \"\"\n",
    "#     if time_control < 180:\n",
    "#         time_class = \"bullet\" \n",
    "#     elif time_control < 600:\n",
    "#         time_class = \"blitz\"\n",
    "#     else:\n",
    "#         time_class = \"rapid\"       \n",
    "\n",
    "#     return time_class\n",
    "# conn.create_function('get_time_class', get_time_class)"
   ]
  },
  {
   "cell_type": "markdown",
   "metadata": {},
   "source": [
    "## Load Fact tables\n"
   ]
  },
  {
   "cell_type": "code",
   "execution_count": 3,
   "metadata": {},
   "outputs": [],
   "source": [
    "# Setup the notebook\n",
    "from azure.storage.blob import BlobServiceClient\n",
    "import duckdb\n",
    "from airflow.providers.microsoft.azure.hooks.wasb import WasbHook\n",
    "from dotenv import load_dotenv\n",
    "import os\n",
    "\n",
    "# Load environment variables from .env file\n",
    "load_dotenv()\n",
    "\n",
    "conn_string = os.getenv('AZURE_STORAGE_CONN_STRING')\n",
    "\n",
    "# Initialize the BlobServiceClient\n",
    "blob_service_client = BlobServiceClient.from_connection_string(conn_string)\n",
    "container_client = blob_service_client.get_container_client('chess-etl-files')\n",
    "\n",
    "# Install azure extension\n",
    "conn.sql(\n",
    "    \"\"\"INSTALL azure; \n",
    "        LOAD azure\"\"\"\n",
    ")\n",
    "\n",
    "conn.sql(f\"\"\"\n",
    "    CREATE SECRET azure_adls_secret (\n",
    "    TYPE azure,\n",
    "    CONNECTION_STRING '{conn_string}' );\n",
    " \"\"\")\n",
    "\n",
    "# Set the azure_transport_option_type to curl to avoid read error\n",
    "conn.sql(\n",
    "    \"\"\"SET azure_transport_option_type = 'curl';\"\"\"\n",
    ")"
   ]
  },
  {
   "cell_type": "code",
   "execution_count": 21,
   "metadata": {},
   "outputs": [],
   "source": [
    "\n",
    "file_to_update = \"silver/fact-2023-03-games.parquet\"\n",
    "source_file_path = f\"az://rbchesssa.blob.core.windows.net/chess-etl-files/{file_to_update}\"\n",
    "dim_file_name = \"gold/dim_opening.parquet\"\n",
    "destination_file_path = f\"az://rbchesssa.blob.core.windows.net/chess-etl-files/{dim_file_name}\""
   ]
  },
  {
   "cell_type": "code",
   "execution_count": 16,
   "metadata": {},
   "outputs": [
    {
     "name": "stdout",
     "output_type": "stream",
     "text": [
      "[\u001b[34m2025-03-24T17:11:42.999+0100\u001b[0m] {\u001b[34m_universal.py:\u001b[0m509} INFO\u001b[0m - Request URL: 'https://rbchesssa.blob.core.windows.net/chess-etl-files/gold/dim_opening.parquet'\n",
      "Request method: 'HEAD'\n",
      "Request headers:\n",
      "    'x-ms-version': 'REDACTED'\n",
      "    'Accept': 'application/xml'\n",
      "    'User-Agent': 'azsdk-python-storage-blob/12.24.1 Python/3.10.12 (Linux-5.15.167.4-microsoft-standard-WSL2-x86_64-with-glibc2.35)'\n",
      "    'x-ms-date': 'REDACTED'\n",
      "    'x-ms-client-request-id': 'ad27f7be-08ca-11f0-8218-c5d5f77a6a15'\n",
      "    'Authorization': 'REDACTED'\n",
      "No body was attached to the request\u001b[0m\n",
      "[\u001b[34m2025-03-24T17:11:44.228+0100\u001b[0m] {\u001b[34m_universal.py:\u001b[0m545} INFO\u001b[0m - Response status: 404\n",
      "Response headers:\n",
      "    'Transfer-Encoding': 'chunked'\n",
      "    'Server': 'Windows-Azure-Blob/1.0 Microsoft-HTTPAPI/2.0'\n",
      "    'x-ms-request-id': 'dd3ace7a-201e-002c-47d7-9c09d5000000'\n",
      "    'x-ms-client-request-id': 'ad27f7be-08ca-11f0-8218-c5d5f77a6a15'\n",
      "    'x-ms-version': 'REDACTED'\n",
      "    'x-ms-error-code': 'BlobNotFound'\n",
      "    'Date': 'Mon, 24 Mar 2025 16:11:44 GMT'\u001b[0m\n"
     ]
    }
   ],
   "source": [
    "# Creating Opening Dimension Table by either creating one from scratch or updating the existing one\n",
    "blob_client = container_client.get_blob_client(dim_file_name)\n",
    "\n",
    "if blob_client.exists():\n",
    "    print(\"File exists! Proceeding with DuckDB query...\")\n",
    "    cur_dim_openings = conn.sql(f\"\"\"SELECT DISTINCT pgn_eco_url, \n",
    "                                           extract_opening_name(pgn_eco_url) as opening_name,\n",
    "                                           get_opening_family(opening_name) as opening_family\n",
    "                                    FROM '{source_file_path}'\n",
    "                                    WHERE pgn_eco_url NOT IN (\n",
    "                                        SELECT pgn_eco_url \n",
    "                                        FROM '{destination_file_path}'\n",
    "                                            )\n",
    "                                    UNION  -- Simply append existing data\n",
    "\n",
    "                                    SELECT * FROM '{destination_file_path}';                                  \n",
    "                                \"\"\")\n",
    "    \n",
    "else: \n",
    "    cur_dim_openings = conn.sql(f\"\"\"SELECT DISTINCT pgn_eco_url, \n",
    "                                           extract_opening_name(pgn_eco_url) as opening_name,\n",
    "                                           get_opening_family(opening_name) as opening_family \n",
    "                                FROM '{source_file_path}';\n",
    "\"\"\")\n",
    "\n",
    "# cur_dim_openings = conn.sql(f\"\"\"SELECT *,  \n",
    "#                                         get_opening_family(opening_name) as opening_family \n",
    "#                             FROM cur_dim_openings;\"\"\")\n"
   ]
  },
  {
   "cell_type": "code",
   "execution_count": 17,
   "metadata": {},
   "outputs": [
    {
     "data": {
      "application/vnd.jupyter.widget-view+json": {
       "model_id": "26212e80ed174dbc8324f2e2f8613891",
       "version_major": 2,
       "version_minor": 0
      },
      "text/plain": [
       "FloatProgress(value=0.0, layout=Layout(width='auto'), style=ProgressStyle(bar_color='black'))"
      ]
     },
     "metadata": {},
     "output_type": "display_data"
    },
    {
     "data": {
      "text/plain": [
       "┌───────────────────────────────────────────────────────────────────────────────────────────┬─────────────────────────────────────────────────────┬─────────────────────────┐\n",
       "│                                        pgn_eco_url                                        │                    opening_name                     │     opening_family      │\n",
       "│                                          varchar                                          │                       varchar                       │         varchar         │\n",
       "├───────────────────────────────────────────────────────────────────────────────────────────┼─────────────────────────────────────────────────────┼─────────────────────────┤\n",
       "│ https://www.chess.com/openings/Petrovs-Defense-Three-Knights-Game                         │ Petrov's Defense: Three Knights Game                │ Petrov's Defense        │\n",
       "│ https://www.chess.com/openings/Closed-Sicilian-Defense-Traditional-Line-3.Nf3-e5-4.Bc4-d6 │ Closed Sicilian Defense: Traditional Line           │ Closed Sicilian Defense │\n",
       "│ https://www.chess.com/openings/Three-Knights-Opening-3...d6                               │ Three Knights Opening                               │ Three Knights Opening   │\n",
       "│ https://www.chess.com/openings/Englund-Gambit-Declined-Reversed-French-Variation          │ Englund Gambit Declined: Reversed French Variation  │ Englund Gambit Declined │\n",
       "│ https://www.chess.com/openings/Italian-Game-Anti-Fried-Liver-Defense                      │ Italian Game: Anti-Fried Liver Defense              │ Italian Game            │\n",
       "│ https://www.chess.com/openings/Philidor-Defense-3.Bc4                                     │ Philidor Defense                                    │ Philidor Defense        │\n",
       "│ https://www.chess.com/openings/Queens-Pawn-Opening-1...d5-2.e3                            │ Queen's Pawn Opening                                │ Queen's Pawn Opening    │\n",
       "│ https://www.chess.com/openings/Grob-Opening-Grob-Gambit-Declined                          │ Grob Opening: Grob Gambit Declined                  │ Grob Opening            │\n",
       "│ https://www.chess.com/openings/Queens-Pawn-Opening-Zukertort-Chigorin-Variation-3.g3      │ Queen's Pawn Opening: Zukertort, Chigorin Variation │ Queen's Pawn Opening    │\n",
       "└───────────────────────────────────────────────────────────────────────────────────────────┴─────────────────────────────────────────────────────┴─────────────────────────┘"
      ]
     },
     "execution_count": 17,
     "metadata": {},
     "output_type": "execute_result"
    }
   ],
   "source": [
    "\n",
    "cur_dim_openings"
   ]
  },
  {
   "cell_type": "code",
   "execution_count": 12,
   "metadata": {},
   "outputs": [
    {
     "ename": "IOException",
     "evalue": "IO Error: AzureBlobStorageFileSystem could not open file: 'az://rbchesssa.blob.core.windows.net/chess-etl-files/silver/fact-2023-03-games.parquet', unknown error occurred, this could mean the credentials used were wrong. Original error message: 'Fail to get a new connection for: https://rbchesssa.blob.core.windows.net. Problem with the SSL CA cert (path? access rights?)' ",
     "output_type": "error",
     "traceback": [
      "\u001b[0;31m---------------------------------------------------------------------------\u001b[0m",
      "\u001b[0;31mIOException\u001b[0m                               Traceback (most recent call last)",
      "Cell \u001b[0;32mIn[12], line 2\u001b[0m\n\u001b[1;32m      1\u001b[0m \u001b[38;5;66;03m## Create Dimension table for the results and the Game types. \u001b[39;00m\n\u001b[0;32m----> 2\u001b[0m \u001b[43mconn\u001b[49m\u001b[38;5;241;43m.\u001b[39;49m\u001b[43msql\u001b[49m\u001b[43m(\u001b[49m\u001b[38;5;124;43mf\u001b[39;49m\u001b[38;5;124;43m\"\"\"\u001b[39;49m\u001b[38;5;124;43mSELECT DISTINCT white_result,\u001b[39;49m\n\u001b[1;32m      3\u001b[0m \u001b[38;5;124;43m                    CASE WHEN pgn_result = \u001b[39;49m\u001b[38;5;124;43m'\u001b[39;49m\u001b[38;5;124;43m1-0\u001b[39;49m\u001b[38;5;124;43m'\u001b[39;49m\u001b[38;5;124;43m THEN \u001b[39;49m\u001b[38;5;124;43m'\u001b[39;49m\u001b[38;5;124;43mWin\u001b[39;49m\u001b[38;5;124;43m'\u001b[39;49m\n\u001b[1;32m      4\u001b[0m \u001b[38;5;124;43m                        WHEN pgn_result = \u001b[39;49m\u001b[38;5;124;43m'\u001b[39;49m\u001b[38;5;124;43m0-1\u001b[39;49m\u001b[38;5;124;43m'\u001b[39;49m\u001b[38;5;124;43m THEN \u001b[39;49m\u001b[38;5;124;43m'\u001b[39;49m\u001b[38;5;124;43mLoss\u001b[39;49m\u001b[38;5;124;43m'\u001b[39;49m\n\u001b[1;32m      5\u001b[0m \u001b[38;5;124;43m                        WHEN pgn_result = \u001b[39;49m\u001b[38;5;124;43m'\u001b[39;49m\u001b[38;5;124;43m1/2-1/2\u001b[39;49m\u001b[38;5;124;43m'\u001b[39;49m\u001b[38;5;124;43m THEN \u001b[39;49m\u001b[38;5;124;43m'\u001b[39;49m\u001b[38;5;124;43mDraw\u001b[39;49m\u001b[38;5;124;43m'\u001b[39;49m\n\u001b[1;32m      6\u001b[0m \u001b[38;5;124;43m                        ELSE \u001b[39;49m\u001b[38;5;124;43m'\u001b[39;49m\u001b[38;5;124;43mOther\u001b[39;49m\u001b[38;5;124;43m'\u001b[39;49m\n\u001b[1;32m      7\u001b[0m \u001b[38;5;124;43m                    END AS result_category\u001b[39;49m\n\u001b[1;32m      8\u001b[0m \u001b[38;5;124;43mFROM \u001b[39;49m\u001b[38;5;124;43m'\u001b[39;49m\u001b[38;5;132;43;01m{\u001b[39;49;00m\u001b[43msource_file_path\u001b[49m\u001b[38;5;132;43;01m}\u001b[39;49;00m\u001b[38;5;124;43m'\u001b[39;49m\u001b[38;5;124;43m;\u001b[39;49m\n\u001b[1;32m      9\u001b[0m \u001b[38;5;124;43m\"\"\"\u001b[39;49m\u001b[43m)\u001b[49m\n",
      "\u001b[0;31mIOException\u001b[0m: IO Error: AzureBlobStorageFileSystem could not open file: 'az://rbchesssa.blob.core.windows.net/chess-etl-files/silver/fact-2023-03-games.parquet', unknown error occurred, this could mean the credentials used were wrong. Original error message: 'Fail to get a new connection for: https://rbchesssa.blob.core.windows.net. Problem with the SSL CA cert (path? access rights?)' "
     ]
    }
   ],
   "source": [
    "## Create Dimension table for the results and the Game types. \n",
    "conn.sql(f\"\"\"SELECT DISTINCT white_result,\n",
    "                    CASE WHEN pgn_result = '1-0' THEN 'Win'\n",
    "                        WHEN pgn_result = '0-1' THEN 'Loss'\n",
    "                        WHEN pgn_result = '1/2-1/2' THEN 'Draw'\n",
    "                        ELSE 'Other'\n",
    "                    END AS result_category\n",
    "FROM '{source_file_path}';\n",
    "\"\"\")"
   ]
  },
  {
   "cell_type": "code",
   "execution_count": 15,
   "metadata": {},
   "outputs": [
    {
     "data": {
      "text/plain": [
       "┌─────────────────────────────────────────────┬──────────────┬─────────┬────────────┬─────────┬──────────────┬──────────────┬──────────────┬──────────────┬────────────┬───────────┬─────────────────────┬────────────────┬────────────────┬────────────┬────────────────────────────────────────────────────────────┬──────────────┬─────────┬───────────────────────────────────────────────────────────────────────────────────────────┬─────────────────────┬─────────────────────┬─────────────────────┬───────────────────────────────────────────────────────────────────────────────────────────────────────────────────────────────────────────────────────────────────────────────────────────────────────────────────────────────────────────────────────────────────────────────────────────────────────────────────────────────────────────────────────────────────────┬──────────────────────────────────────────────────────────────────────────────────────────────────────────────────────────────────────────────────────────────────────────────────────────────────────────────────────────────────────────────────────────────────────────────────────────────────────────────────────────────────────────────────────────────────────────────────────────────────────────────────────────────────────────────────────────────────────────────────────────────────────────────────────────────────────────┐\n",
       "│                  game_url                   │ time_control │  rated  │ time_class │  rules  │ white_rating │ white_result │ black_rating │ black_result │ pgn_event  │ pgn_site  │      game_date      │ pgn_white_user │ pgn_black_user │ pgn_result │                    pgn_current_position                    │ pgn_timezone │ pgn_eco │                                        pgn_eco_url                                        │     start_time      │      end_time       │    end_game_date    │                                                                                                                                                                                pgn_raw                                                                                                                                                                                │                                                                                                                                                                                                                                                                pgn_trans                                                                                                                                                                                                                                                                 │\n",
       "│                   varchar                   │   varchar    │ boolean │  varchar   │ varchar │    int64     │   varchar    │    int64     │   varchar    │  varchar   │  varchar  │      timestamp      │    varchar     │    varchar     │  varchar   │                          varchar                           │   varchar    │ varchar │                                          varchar                                          │    timestamp_ns     │    timestamp_ns     │      timestamp      │                                                                                                                                                                                varchar                                                                                                                                                                                │                                                                                                                                                                                                                                                                 varchar                                                                                                                                                                                                                                                                  │\n",
       "├─────────────────────────────────────────────┼──────────────┼─────────┼────────────┼─────────┼──────────────┼──────────────┼──────────────┼──────────────┼────────────┼───────────┼─────────────────────┼────────────────┼────────────────┼────────────┼────────────────────────────────────────────────────────────┼──────────────┼─────────┼───────────────────────────────────────────────────────────────────────────────────────────┼─────────────────────┼─────────────────────┼─────────────────────┼───────────────────────────────────────────────────────────────────────────────────────────────────────────────────────────────────────────────────────────────────────────────────────────────────────────────────────────────────────────────────────────────────────────────────────────────────────────────────────────────────────────────────────────────────────┼──────────────────────────────────────────────────────────────────────────────────────────────────────────────────────────────────────────────────────────────────────────────────────────────────────────────────────────────────────────────────────────────────────────────────────────────────────────────────────────────────────────────────────────────────────────────────────────────────────────────────────────────────────────────────────────────────────────────────────────────────────────────────────────────────────────┤\n",
       "│ https://www.chess.com/game/live/71599316007 │ 600          │ true    │ rapid      │ chess   │         1027 │ win          │          902 │ resigned     │ Live Chess │ Chess.com │ 2023-03-03 00:00:00 │ SonXAzzz       │ Rhythmbear1    │ 1-0        │ 4r1k1/1bp1P2p/p5p1/2N2p2/1q3P2/P6P/1P2Q1P1/R1B1R1K1 w - -  │ UTC          │ C46     │ https://www.chess.com/openings/Three-Knights-Opening-3...d6                               │ 2023-03-03 16:15:37 │ 2023-03-03 16:27:13 │ 2023-03-03 00:00:00 │ e4 e5 Nf3 Nc6 Nc3 d6 Bb5 a6 Bxc6+ bxc6 O-O Nf6 h3 Bb7 d3 d5 a3 Bd6 Re1 O-O d4 Re8 dxe5 Bxe5 Nxe5 Rxe5 f4 Rh5 e5 Ng4 Qxg4 f5 Qxh5 d4 Ne2 d3 cxd3 Qxd3 Nc3 g6 Qe2 Qg3 e6 c5 e7 Re8 Na4 Qb3 Nxc5 Qb4                                                                                                                                                                     │ 1. e4 e5 2. Nf3 Nc6 3. Nc3 d6 4. Bb5 a6 5. Bxc6+ bxc6 6. O-O Nf6 7. h3 Bb7 8. d3 d5 9. a3 Bd6 10. Re1 O-O 11. d4 Re8 12. dxe5 Bxe5 13. Nxe5 Rxe5 14. f4 Rh5 15. e5 Ng4 16. Qxg4 f5 17. Qxh5 d4 18. Ne2 d3 19. cxd3 Qxd3 20. Nc3 g6 21. Qe2 Qg3 22. e6 c5 23. e7 Re8 24. Na4 Qb3 25. Nxc5 Qb4                                                                                                                                                                                                                                             │\n",
       "│ https://www.chess.com/game/live/72088506679 │ 600          │ true    │ rapid      │ chess   │          940 │ win          │          893 │ checkmated   │ Live Chess │ Chess.com │ 2023-03-09 00:00:00 │ Rhythmbear1    │ Orsolya_111    │ 1-0        │ r4k1Q/p1pp4/bp1n2p1/5pN1/2Pn4/3B4/P1P2PPP/2K1R3 b - -      │ UTC          │ C42     │ https://www.chess.com/openings/Petrovs-Defense-Three-Knights-Game                         │ 2023-03-09 08:13:56 │ 2023-03-09 08:22:59 │ 2023-03-09 00:00:00 │ e4 Nf6 Nc3 e5 Nf3 Bd6 d4 exd4 Qxd4 h6 e5 Qe7 Bf4 Nc6 Qd3 Bxe5 Be3 Bxc3+ bxc3 O-O O-O-O g6 c4 b6 Be2 Ba6 Rhe1 Rfd8 Bd4 Qa3+ Qxa3 Ne4 Qe3 Nd6 Bd3 Re8 Qxh6 Rxe1 Rxe1 f5 Ng5 Nxd4 Qh7+ Kf8 Qh8#                                                                                                                                                                          │ 1. e4 Nf6 2. Nc3 e5 3. Nf3 Bd6 4. d4 exd4 5. Qxd4 h6 6. e5 Qe7 7. Bf4 Nc6 8. Qd3 Bxe5 9. Be3 Bxc3+ 10. bxc3 O-O 11. O-O-O g6 12. c4 b6 13. Be2 Ba6 14. Rhe1 Rfd8 15. Bd4 Qa3+ 16. Qxa3 Ne4 17. Qe3 Nd6 18. Bd3 Re8 19. Qxh6 Rxe1 20. Rxe1 f5 21. Ng5 Nxd4 22. Qh7+ Kf8 23. Qh8#                                                                                                                                                                                                                                                          │\n",
       "│ https://www.chess.com/game/live/72622856493 │ 900+10       │ true    │ rapid      │ chess   │         1036 │ checkmated   │          986 │ win          │ Live Chess │ Chess.com │ 2023-03-15 00:00:00 │ tomdesmedt     │ Rhythmbear1    │ 0-1        │ 5k2/7p/8/p4P2/Pp4PP/1P6/6rr/5RK1 w - -                     │ UTC          │ D02     │ https://www.chess.com/openings/Queens-Pawn-Opening-Zukertort-Chigorin-Variation-3.g3      │ 2023-03-15 12:34:27 │ 2023-03-15 13:13:24 │ 2023-03-15 00:00:00 │ Nf3 d5 g3 Nc6 d4 e5 Nxe5 Nxe5 dxe5 Bf5 Nc3 c6 Bg2 Ne7 Bg5 f6 exf6 gxf6 Bxf6 Rg8 e4 Bg7 Bxg7 Rxg7 exf5 Nxf5 Qh5+ Rf7 O-O Qd6 Rfe1+ Kf8 Bh3 Nd4 Red1 Qf6 f4 Nxc2 Rac1 Ne3 Re1 Qd4 Kh1 Qd2 Qe2 Nc4 Qxd2 Nxd2 Re2 Nc4 b3 Nd6 Rce1 a5 a4 b5 Re6 b4 Nxd5 Nf5 Rxc6 Nd4 Rb1 Nxc6 Bg2 Rd8 Nb6 Nd4 Bd5 Rf6 Rd1 Rxb6 Rxd4 Rbd6 f5 Rxd5 Rf4 Rd2 g4 Re8 Rf1 Ree2 h4 Rh2+ Kg1 Rdg2# │ 1. Nf3 d5 2. g3 Nc6 3. d4 e5 4. Nxe5 Nxe5 5. dxe5 Bf5 6. Nc3 c6 7. Bg2 Ne7 8. Bg5 f6 9. exf6 gxf6 10. Bxf6 Rg8 11. e4 Bg7 12. Bxg7 Rxg7 13. exf5 Nxf5 14. Qh5+ Rf7 15. O-O Qd6 16. Rfe1+ Kf8 17. Bh3 Nd4 18. Red1 Qf6 19. f4 Nxc2 20. Rac1 Ne3 21. Re1 Qd4 22. Kh1 Qd2 23. Qe2 Nc4 24. Qxd2 Nxd2 25. Re2 Nc4 26. b3 Nd6 27. Rce1 a5 28. a4 b5 29. Re6 b4 30. Nxd5 Nf5 31. Rxc6 Nd4 32. Rb1 Nxc6 33. Bg2 Rd8 34. Nb6 Nd4 35. Bd5 Rf6 36. Rd1 Rxb6 37. Rxd4 Rbd6 38. f5 Rxd5 39. Rf4 Rd2 40. g4 Re8 41. Rf1 Ree2 42. h4 Rh2+ 43. Kg1 Rdg2# │\n",
       "│ https://www.chess.com/game/live/72625984471 │ 900+10       │ true    │ rapid      │ chess   │          982 │ abandoned    │         1019 │ win          │ Live Chess │ Chess.com │ 2023-03-15 00:00:00 │ Saigon-1996    │ Rhythmbear1    │ 0-1        │ rn3rk1/5pp1/1qpb1p1p/3p4/3P1N2/1P1bPPQ1/1P2N1BP/2K4R w - - │ UTC          │ A00     │ https://www.chess.com/openings/Grob-Opening-Grob-Gambit-Declined                          │ 2023-03-15 13:28:10 │ 2023-03-15 13:49:28 │ 2023-03-15 00:00:00 │ g4 d5 Bg2 c6 d4 Bxg4 f3 Bh5 Nc3 Nf6 Bg5 h6 Bxf6 exf6 Qd3 Bg6 Qe3+ Be7 O-O-O a5 Nh3 O-O Nf4 Bh7 Qf2 a4 Nh5 b5 Qg3 Bg6 Nf4 Bd6 e3 b4 Nce2 b3 axb3 axb3 cxb3 Qb6 Rd3 Bxd3                                                                                                                                                                                                │ 1. g4 d5 2. Bg2 c6 3. d4 Bxg4 4. f3 Bh5 5. Nc3 Nf6 6. Bg5 h6 7. Bxf6 exf6 8. Qd3 Bg6 9. Qe3+ Be7 10. O-O-O a5 11. Nh3 O-O 12. Nf4 Bh7 13. Qf2 a4 14. Nh5 b5 15. Qg3 Bg6 16. Nf4 Bd6 17. e3 b4 18. Nce2 b3 19. axb3 axb3 20. cxb3 Qb6 21. Rd3 Bxd3                                                                                                                                                                                                                                                                                        │\n",
       "│ https://www.chess.com/game/live/72774715521 │ 900+10       │ true    │ rapid      │ chess   │         1052 │ win          │         1050 │ checkmated   │ Live Chess │ Chess.com │ 2023-03-17 00:00:00 │ Rhythmbear1    │ markisus       │ 1-0        │ 3Q1k2/p4pp1/7p/3b4/1P6/8/P4PPP/3q1BK1 b - -                │ UTC          │ C55     │ https://www.chess.com/openings/Italian-Game-Anti-Fried-Liver-Defense                      │ 2023-03-17 06:48:43 │ 2023-03-17 07:25:56 │ 2023-03-17 00:00:00 │ e4 e5 Nf3 Nc6 Bc4 h6 O-O Nf6 d4 exd4 Nxd4 Nxd4 Qxd4 b6 Nc3 Bc5 Qd3 O-O Be3 Bb7 Bxc5 bxc5 Rad1 Re8 Rfe1 Nh5 Qf3 d5 exd5 Rxe1+ Rxe1 Qg5 Ne4 Qg6 Nxc5 Qxc2 Bd3 Qxc5 Qxh5 Kf8 Qf5 Re8 Rxe8+ Kxe8 Qe5+ Kf8 b4 Qc1+ Bf1 Qd1 Qxc7 Bxd5 Qd8#                                                                                                                                  │ 1. e4 e5 2. Nf3 Nc6 3. Bc4 h6 4. O-O Nf6 5. d4 exd4 6. Nxd4 Nxd4 7. Qxd4 b6 8. Nc3 Bc5 9. Qd3 O-O 10. Be3 Bb7 11. Bxc5 bxc5 12. Rad1 Re8 13. Rfe1 Nh5 14. Qf3 d5 15. exd5 Rxe1+ 16. Rxe1 Qg5 17. Ne4 Qg6 18. Nxc5 Qxc2 19. Bd3 Qxc5 20. Qxh5 Kf8 21. Qf5 Re8 22. Rxe8+ Kxe8 23. Qe5+ Kf8 24. b4 Qc1+ 25. Bf1 Qd1 26. Qxc7 Bxd5 27. Qd8#                                                                                                                                                                                                  │\n",
       "│ https://www.chess.com/game/live/74010333473 │ 900+10       │ true    │ rapid      │ chess   │         1015 │ checkmated   │          983 │ win          │ Live Chess │ Chess.com │ 2023-03-31 00:00:00 │ Rhythmbear1    │ Curious-M-Cat  │ 0-1        │ R4rk1/1N6/p1p4p/2p1p3/4Pn2/1P5P/PBP1qpP1/3R1K2 w - -       │ UTC          │ B23     │ https://www.chess.com/openings/Closed-Sicilian-Defense-Traditional-Line-3.Nf3-e5-4.Bc4-d6 │ 2023-03-31 14:02:56 │ 2023-03-31 14:23:25 │ 2023-03-31 00:00:00 │ e4 e5 Nf3 d6 Bc4 c5 Nc3 Nc6 O-O h6 Re1 g5 Bb5 a6 Bxc6+ bxc6 d3 Be7 b3 g4 Nd2 Bg5 Nc4 Qf6 Qd2 Bxd2 Bxd2 Ne7 Rad1 O-O Bc1 Ng6 Bb2 Qg5 Nxd6 f5 exf5 Bxf5 Nb7 g3 Ne4 Bxe4 dxe4 gxf2+ Kf1 Qg4 h3 Qh4 Re2 Nf4 Red2 Qg3 Rd8 Qe3 Rxa8 Qe2#                                                                                                                                    │ 1. e4 e5 2. Nf3 d6 3. Bc4 c5 4. Nc3 Nc6 5. O-O h6 6. Re1 g5 7. Bb5 a6 8. Bxc6+ bxc6 9. d3 Be7 10. b3 g4 11. Nd2 Bg5 12. Nc4 Qf6 13. Qd2 Bxd2 14. Bxd2 Ne7 15. Rad1 O-O 16. Bc1 Ng6 17. Bb2 Qg5 18. Nxd6 f5 19. exf5 Bxf5 20. Nb7 g3 21. Ne4 Bxe4 22. dxe4 gxf2+ 23. Kf1 Qg4 24. h3 Qh4 25. Re2 Nf4 26. Red2 Qg3 27. Rd8 Qe3 28. Rxa8 Qe2#                                                                                                                                                                                                │\n",
       "│ https://www.chess.com/game/live/74011819591 │ 900+10       │ true    │ rapid      │ chess   │          911 │ checkmated   │         1037 │ win          │ Live Chess │ Chess.com │ 2023-03-31 00:00:00 │ Curious-M-Cat  │ Rhythmbear1    │ 0-1        │ 3r4/pp1k2p1/5n2/3b4/7p/P3p2P/4N1q1/3R2K1 w - -             │ UTC          │ A40     │ https://www.chess.com/openings/Englund-Gambit-Declined-Reversed-French-Variation          │ 2023-03-31 14:24:19 │ 2023-03-31 14:47:31 │ 2023-03-31 00:00:00 │ d4 e5 e3 e4 f3 d5 fxe4 dxe4 c4 Nf6 b3 Bg4 Be2 h5 b4 Bxb4+ Bd2 Nc6 a3 Ba5 h3 Bf5 c5 h4 Qb3 Nxd4 exd4 Qxd4 Bc4 O-O-O Bc3 Qe3+ Ne2 Qxc5 Qa4 Bxc3+ Nexc3 e3 Ne2 Rhe8 Nbc3 Qe5 Bxf7 Re7 Rc1 Rxf7 Qc4 Be6 Nd5 Bxd5 Qc3 Qg5 Qxc7+ Rxc7 O-O Rxc1 Rxc1+ Kd7 Rd1 Qxg2#                                                                                                          │ 1. d4 e5 2. e3 e4 3. f3 d5 4. fxe4 dxe4 5. c4 Nf6 6. b3 Bg4 7. Be2 h5 8. b4 Bxb4+ 9. Bd2 Nc6 10. a3 Ba5 11. h3 Bf5 12. c5 h4 13. Qb3 Nxd4 14. exd4 Qxd4 15. Bc4 O-O-O 16. Bc3 Qe3+ 17. Ne2 Qxc5 18. Qa4 Bxc3+ 19. Nexc3 e3 20. Ne2 Rhe8 21. Nbc3 Qe5 22. Bxf7 Re7 23. Rc1 Rxf7 24. Qc4 Be6 25. Nd5 Bxd5 26. Qc3 Qg5 27. Qxc7+ Rxc7 28. O-O Rxc1 29. Rxc1+ Kd7 30. Rd1 Qxg2#                                                                                                                                                              │\n",
       "│ https://www.chess.com/game/live/74013170611 │ 900+10       │ true    │ rapid      │ chess   │         1053 │ win          │          867 │ resigned     │ Live Chess │ Chess.com │ 2023-03-31 00:00:00 │ Rhythmbear1    │ Curious-M-Cat  │ 1-0        │ 1n2k1nr/5ppp/p7/1p1B4/qB1QP1b1/1P3N2/P4PPP/RN2K2R b KQk -  │ UTC          │ C41     │ https://www.chess.com/openings/Philidor-Defense-3.Bc4                                     │ 2023-03-31 14:48:21 │ 2023-03-31 14:52:52 │ 2023-03-31 00:00:00 │ e4 e5 Nf3 d6 Bc4 c5 c3 a6 d4 b5 Bd5 Bg4 Bxa8 d5 Bxd5 exd4 cxd4 cxd4 Qxd4 Qa5+ Bd2 Bb4 Bxb4 Qa4 b3                                                                                                                                                                                                                                                                     │ 1. e4 e5 2. Nf3 d6 3. Bc4 c5 4. c3 a6 5. d4 b5 6. Bd5 Bg4 7. Bxa8 d5 8. Bxd5 exd4 9. cxd4 cxd4 10. Qxd4 Qa5+ 11. Bd2 Bb4 12. Bxb4 Qa4 13. b3                                                                                                                                                                                                                                                                                                                                                                                             │\n",
       "│ https://www.chess.com/game/live/74013616221 │ 900+10       │ true    │ rapid      │ chess   │          836 │ checkmated   │         1066 │ win          │ Live Chess │ Chess.com │ 2023-03-31 00:00:00 │ Curious-M-Cat  │ Rhythmbear1    │ 0-1        │ r3kb1Q/ppp4p/6p1/4Nb2/8/2P3n1/P1P1q2P/3RK2R w Kq -         │ UTC          │ D00     │ https://www.chess.com/openings/Queens-Pawn-Opening-1...d5-2.e3                            │ 2023-03-31 14:54:35 │ 2023-03-31 15:09:58 │ 2023-03-31 00:00:00 │ d4 d5 e3 Nc6 f4 f6 Nc3 e5 dxe5 fxe5 fxe5 Nxe5 e4 d4 Be2 dxc3 bxc3 Nf6 Rb1 Nxe4 Bh5+ g6 Bg5 Qxg5 Qd4 Bf5 Rd1 Qh4+ g3 Nxg3 Qxe5+ Be7 Qxh8+ Bf8 Qe5+ Be7 Nf3 Qxh5 Qh8+ Bf8 Ne5 Qe2#                                                                                                                                                                                      │ 1. d4 d5 2. e3 Nc6 3. f4 f6 4. Nc3 e5 5. dxe5 fxe5 6. fxe5 Nxe5 7. e4 d4 8. Be2 dxc3 9. bxc3 Nf6 10. Rb1 Nxe4 11. Bh5+ g6 12. Bg5 Qxg5 13. Qd4 Bf5 14. Rd1 Qh4+ 15. g3 Nxg3 16. Qxe5+ Be7 17. Qxh8+ Bf8 18. Qe5+ Be7 19. Nf3 Qxh5 20. Qh8+ Bf8 21. Ne5 Qe2#                                                                                                                                                                                                                                                                              │\n",
       "└─────────────────────────────────────────────┴──────────────┴─────────┴────────────┴─────────┴──────────────┴──────────────┴──────────────┴──────────────┴────────────┴───────────┴─────────────────────┴────────────────┴────────────────┴────────────┴────────────────────────────────────────────────────────────┴──────────────┴─────────┴───────────────────────────────────────────────────────────────────────────────────────────┴─────────────────────┴─────────────────────┴─────────────────────┴───────────────────────────────────────────────────────────────────────────────────────────────────────────────────────────────────────────────────────────────────────────────────────────────────────────────────────────────────────────────────────────────────────────────────────────────────────────────────────────────────────────────────────────────────────┴──────────────────────────────────────────────────────────────────────────────────────────────────────────────────────────────────────────────────────────────────────────────────────────────────────────────────────────────────────────────────────────────────────────────────────────────────────────────────────────────────────────────────────────────────────────────────────────────────────────────────────────────────────────────────────────────────────────────────────────────────────────────────────────────────────────┘"
      ]
     },
     "execution_count": 15,
     "metadata": {},
     "output_type": "execute_result"
    }
   ],
   "source": [
    "conn.sql(f\"\"\"SELECT * FROM '{source_file_path}';\"\"\")"
   ]
  },
  {
   "cell_type": "code",
   "execution_count": 49,
   "metadata": {},
   "outputs": [
    {
     "data": {
      "text/plain": [
       "┌─────────────────────┬───────┬───────┬────────────┬───────┬───────────┬─────────┐\n",
       "│      game_date      │ year  │ month │ month_name │  day  │  weekday  │ quarter │\n",
       "│      timestamp      │ int64 │ int64 │  varchar   │ int64 │  varchar  │  int32  │\n",
       "├─────────────────────┼───────┼───────┼────────────┼───────┼───────────┼─────────┤\n",
       "│ 2023-03-03 00:00:00 │  2023 │     3 │ March      │     3 │ Friday    │       1 │\n",
       "│ 2023-03-09 00:00:00 │  2023 │     3 │ March      │     9 │ Thursday  │       1 │\n",
       "│ 2023-03-15 00:00:00 │  2023 │     3 │ March      │    15 │ Wednesday │       1 │\n",
       "│ 2023-03-17 00:00:00 │  2023 │     3 │ March      │    17 │ Friday    │       1 │\n",
       "│ 2023-03-31 00:00:00 │  2023 │     3 │ March      │    31 │ Friday    │       1 │\n",
       "└─────────────────────┴───────┴───────┴────────────┴───────┴───────────┴─────────┘"
      ]
     },
     "execution_count": 49,
     "metadata": {},
     "output_type": "execute_result"
    }
   ],
   "source": [
    "# Dimenstion Table for dim_Date\n",
    "dim_file_name = \"gold/dim_date.parquet\"\n",
    "\n",
    "\n",
    "blob_client = container_client.get_blob_client(dim_file_name)\n",
    "\n",
    "if blob_client.exists():\n",
    "    dim_date = conn.sql(f\"\"\"\n",
    "                SELECT DISTINCT game_date,\n",
    "                        EXTRACT(YEAR FROM game_date) AS year,\n",
    "                        EXTRACT(MONTH FROM game_date) AS month, \n",
    "                        strftime('%B', game_date) AS month_name,\n",
    "                        EXTRACT(DAY FROM game_date) AS day,\n",
    "                        TO_CHAR(game_date, 'Day') AS weekday,\n",
    "                        CASE WHEN CAST(strftime('%m', game_date) AS INTEGER) BETWEEN 1 AND 3 THEN 1\n",
    "                                             WHEN CAST(strftime('%m', game_date) AS INTEGER) BETWEEN 4 AND 6 THEN 2\n",
    "                                             WHEN CAST(strftime('%m', game_date) AS INTEGER) BETWEEN 7 AND 9 THEN 3\n",
    "                                             ELSE 4\n",
    "                                        END AS quarter\n",
    "                             \n",
    "                        FROM '{source_file_path}' \n",
    "                        ORDER BY game_date\n",
    "                        WHERE time_control NOT IN \n",
    "                ( SELECT time_control FROM '{destination_file_path}')\n",
    "                \n",
    "                \"\"\")\n",
    "\n",
    "else:\n",
    "    dim_date = conn.sql(f\"\"\" SELECT DISTINCT game_date,\n",
    "                                        EXTRACT(YEAR FROM game_date) AS year,\n",
    "                                        EXTRACT(MONTH FROM game_date) AS month,\n",
    "                                        strftime('%B', game_date) AS month_name,\n",
    "                                        EXTRACT(DAY FROM game_date) AS day,\n",
    "                                        strftime('%A', game_date) AS weekday,\n",
    "                                        CASE WHEN CAST(strftime('%m', game_date) AS INTEGER) BETWEEN 1 AND 3 THEN 1\n",
    "                                             WHEN CAST(strftime('%m', game_date) AS INTEGER) BETWEEN 4 AND 6 THEN 2\n",
    "                                             WHEN CAST(strftime('%m', game_date) AS INTEGER) BETWEEN 7 AND 9 THEN 3\n",
    "                                             ELSE 4\n",
    "                                        END AS quarter\n",
    "                                        FROM '{source_file_path}'\n",
    "                                       ORDER BY game_date; \n",
    "\"\"\")\n",
    "\n",
    "dim_date"
   ]
  },
  {
   "cell_type": "code",
   "execution_count": 22,
   "metadata": {},
   "outputs": [
    {
     "name": "stdout",
     "output_type": "stream",
     "text": [
      "[\u001b[34m2025-03-24T17:14:27.599+0100\u001b[0m] {\u001b[34m_universal.py:\u001b[0m509} INFO\u001b[0m - Request URL: 'https://rbchesssa.blob.core.windows.net/chess-etl-files/gold/dim_time_class.parquet'\n",
      "Request method: 'HEAD'\n",
      "Request headers:\n",
      "    'x-ms-version': 'REDACTED'\n",
      "    'Accept': 'application/xml'\n",
      "    'User-Agent': 'azsdk-python-storage-blob/12.24.1 Python/3.10.12 (Linux-5.15.167.4-microsoft-standard-WSL2-x86_64-with-glibc2.35)'\n",
      "    'x-ms-date': 'REDACTED'\n",
      "    'x-ms-client-request-id': '0f4405e6-08cb-11f0-8218-c5d5f77a6a15'\n",
      "    'Authorization': 'REDACTED'\n",
      "No body was attached to the request\u001b[0m\n",
      "[\u001b[34m2025-03-24T17:14:28.970+0100\u001b[0m] {\u001b[34m_universal.py:\u001b[0m545} INFO\u001b[0m - Response status: 404\n",
      "Response headers:\n",
      "    'Transfer-Encoding': 'chunked'\n",
      "    'Server': 'Windows-Azure-Blob/1.0 Microsoft-HTTPAPI/2.0'\n",
      "    'x-ms-request-id': 'bf6fe4c6-201e-0085-73d7-9cc8a7000000'\n",
      "    'x-ms-client-request-id': '0f4405e6-08cb-11f0-8218-c5d5f77a6a15'\n",
      "    'x-ms-version': 'REDACTED'\n",
      "    'x-ms-error-code': 'BlobNotFound'\n",
      "    'Date': 'Mon, 24 Mar 2025 16:14:28 GMT'\u001b[0m\n"
     ]
    },
    {
     "data": {
      "text/plain": [
       "┌──────────────┬────────────┐\n",
       "│ time_control │ time_class │\n",
       "│   varchar    │  varchar   │\n",
       "├──────────────┼────────────┤\n",
       "│ 10           │ rapid      │\n",
       "│ 15|10        │ rapid      │\n",
       "└──────────────┴────────────┘"
      ]
     },
     "execution_count": 22,
     "metadata": {},
     "output_type": "execute_result"
    }
   ],
   "source": [
    "# dimenstion table for the time control.\n",
    "\n",
    "dim_file_name = \"gold/dim_time_class.parquet\"\n",
    "blob_client = container_client.get_blob_client(dim_file_name)\n",
    "\n",
    "if blob_client.exists():\n",
    "    dim_time_control = conn.sql(f\"\"\"\n",
    "                SELECT format_time_control(time_control) as time_control, time_class \n",
    "                FROM '{source_file_path}' WHERE time_control NOT IN \n",
    "                ( SELECT time_control FROM '{destination_file_path}')\n",
    "                \"\"\")\n",
    "\n",
    "else:\n",
    "    dim_time_control = conn.sql(f\"\"\"SELECT DISTINCT  format_time_control(time_control) as time_control, \n",
    "                                time_class\n",
    "             FROM '{source_file_path}';\n",
    "\"\"\")\n",
    "\n",
    "dim_time_control"
   ]
  },
  {
   "cell_type": "code",
   "execution_count": 24,
   "metadata": {},
   "outputs": [
    {
     "name": "stdout",
     "output_type": "stream",
     "text": [
      "<class 'pandas.core.frame.DataFrame'>\n"
     ]
    }
   ],
   "source": [
    "print(type(dim_time_control.fetchdf()))"
   ]
  },
  {
   "cell_type": "code",
   "execution_count": 4,
   "metadata": {},
   "outputs": [
    {
     "data": {
      "text/plain": [
       "┌──────────────────────────────────────────────┬─────────────────────┬─────────────────────┬─────────────────────┬────────────────────┬──────────────┬──────────┬─────────────┬───────────────────┬───────────┬─────────────────┬────────────┬─────────────────┬────────────────────────────────────────────────────────────────┬───────────────────────────────────────────────────────────────────────────────────────────────────────────┬─────────────────────────────────────────────────────────────────────────────────────────────────────────────────────────────────────────────────────────────────────────────────────────────────────────────────────────────────────────────────────────────────────────────────────────────────────────────────────────────────────────────────────────────────────────────────────────────────────────────────────────────────────────────────────────────────────────────────────────────────────────────────────────────────────────────────────────────────────────────────────────────────────────────────────────────────────────────────────────────────────────────────────────────────────────────────────────────────────────────────────────────────────────────────┬───────┬───────────────────────────┐\n",
       "│                   game_url                   │      game_date      │     start_time      │      end_time       │ game_duration_secs │ time_control │ my_color │ my_username │ opponent_username │ my_rating │ opponent_rating │ my_result  │ opponent_result │                            game_fen                            │                                                opening_url                                                │                                                                                                                                                                                                                                                                                                                                                                                    game_pgn                                                                                                                                                                                                                                                                                                                                                                                     │ moves │       last_updated        │\n",
       "│                   varchar                    │      timestamp      │    timestamp_ns     │    timestamp_ns     │       int64        │   varchar    │ varchar  │   varchar   │      varchar      │   int64   │      int64      │  varchar   │     varchar     │                            varchar                             │                                                  varchar                                                  │                                                                                                                                                                                                                                                                                                                                                                                     varchar                                                                                                                                                                                                                                                                                                                                                                                     │ int64 │         timestamp         │\n",
       "├──────────────────────────────────────────────┼─────────────────────┼─────────────────────┼─────────────────────┼────────────────────┼──────────────┼──────────┼─────────────┼───────────────────┼───────────┼─────────────────┼────────────┼─────────────────┼────────────────────────────────────────────────────────────────┼───────────────────────────────────────────────────────────────────────────────────────────────────────────┼─────────────────────────────────────────────────────────────────────────────────────────────────────────────────────────────────────────────────────────────────────────────────────────────────────────────────────────────────────────────────────────────────────────────────────────────────────────────────────────────────────────────────────────────────────────────────────────────────────────────────────────────────────────────────────────────────────────────────────────────────────────────────────────────────────────────────────────────────────────────────────────────────────────────────────────────────────────────────────────────────────────────────────────────────────────────────────────────────────────────────────────────────────────────────┼───────┼───────────────────────────┤\n",
       "│ https://www.chess.com/game/live/136935998568 │ 2025-04-02 00:00:00 │ 2025-04-02 06:53:02 │ 2025-04-02 06:57:07 │                245 │ 2|1          │ black    │ Rhythmbear1 │ Mitoyanick        │       895 │             890 │ win        │ timeout         │ 6k1/p4ppp/1bp1p3/8/4pN1P/4P1P1/3q1PK1/7R w - -                 │ https://www.chess.com/openings/Queens-Pawn-Opening-Chigorin-Variation-2...e6                              │ 1. d4 e6 2. Nc3 d5 3. h4 c5 4. dxc5 Bxc5 5. Nf3 Nf6 6. Bg5 O-O 7. e3 Bd7 8. Ne5 Bb4 9. Bd3 Bc6 10. Kf1 Nbd7 11. Nxc6 bxc6 12. Ne2 Qb6 13. Nf4 Ne4 14. Bxe4 dxe4 15. Qxd7 Rad8 16. Bxd8 Rxd8 17. Qxd8+ Qxd8 18. c3 Ba5 19. Ke2 Qc8 20. Rad1 Qa6+ 21. Ke1 Bb6 22. g3 Qxa2 23. Kf1 Qxb2 24. Kg2 Qxc3 25. Rd2 Qxd2                                                                                                                                                                                                                                                                                                                                                                                                                                                                  │    25 │ 2025-04-05 01:20:19.39273 │\n",
       "│ https://www.chess.com/game/live/136936084554 │ 2025-04-02 00:00:00 │ 2025-04-02 06:57:15 │ 2025-04-02 07:01:16 │                241 │ 2|1          │ white    │ Rhythmbear1 │ xarad4            │       903 │             901 │ win        │ timeout         │ r1b2Q2/pp1k4/3p4/3B4/3pP1P1/8/Pq4PP/5RK1 b - -                 │ https://www.chess.com/openings/Kings-Pawn-Opening-Kings-Knight-Variation                                  │ 1. e4 e5 2. Nf3 Qf6 3. d4 exd4 4. Bc4 Nc6 5. Bg5 Qd6 6. Na3 f6 7. Nb5 Qc5 8. Nxc7+ Ke7 9. Bxg8 Nb4 10. Nd5+ Nxd5 11. Bxd5 fxg5 12. Nxg5 d6 13. O-O h6 14. f3 hxg5 15. Qd2 g4 16. Qg5+ Ke8 17. Qg6+ Kd8 18. fxg4 Qxc2 19. Rac1 Qxb2 20. Qg5+ Be7 21. Qxg7 Rf8 22. Rxf8+ Bxf8 23. Qxf8+ Kd7 24. Qf7+ Kd8 25. Qf8+ Kd7 26. Rf1                                                                                                                                                                                                                                                                                                                                                                                                                                                     │    26 │ 2025-04-05 01:20:19.39273 │\n",
       "│ https://www.chess.com/game/live/136936174136 │ 2025-04-02 00:00:00 │ 2025-04-02 07:01:43 │ 2025-04-02 07:03:46 │                123 │ 2|1          │ black    │ Rhythmbear1 │ Antogar           │       911 │             906 │ win        │ checkmated      │ 2kr3r/ppp2ppp/8/4n3/4P1qP/4K1P1/PPn2P2/RNB2B1R w - -           │ https://www.chess.com/openings/Englund-Gambit-2.dxe5                                                      │ 1. d4 e5 2. dxe5 d6 3. exd6 Bxd6 4. Qd5 Nc6 5. Qe4+ Nge7 6. Nf3 Bf5 7. Qc4 Qd7 8. Nd4 Ne5 9. Qc3 O-O-O 10. Nxf5 Qxf5 11. g3 Qg4 12. h3 Qe6 13. h4 N7c6 14. e4 Bb4 15. Qxb4 Nxb4 16. Ke2 Qg4+ 17. Ke3 Nxc2#                                                                                                                                                                                                                                                                                                                                                                                                                                                                                                                                                                      │    17 │ 2025-04-05 01:20:19.39273 │\n",
       "│ https://www.chess.com/game/live/136936219872 │ 2025-04-02 00:00:00 │ 2025-04-02 07:03:58 │ 2025-04-02 07:10:11 │                373 │ 2|1          │ white    │ Rhythmbear1 │ 700Hz             │       918 │             882 │ win        │ timeout         │ 8/6Rb/8/2p1r1k1/3p4/P7/1PPK1P1P/8 b - -                        │ https://www.chess.com/openings/Scotch-Game-Dubois-Reti-Max-Lange-Attack-6.e5                              │ 1. e4 e5 2. Nf3 Nc6 3. d4 exd4 4. Bc4 Nf6 5. O-O Bc5 6. e5 Ng4 7. Bxf7+ Kxf7 8. Ng5+ Kg8 9. Qxg4 d6 10. e6 Ne7 11. Nf7 Qf8 12. Nxh8 Kxh8 13. Nd2 Qf6 14. Ne4 Qxe6 15. Qxe6 Bxe6 16. Nxc5 dxc5 17. Bg5 Nf5 18. Rfe1 Bf7 19. g4 h6 20. Bf4 Nd6 21. Re7 Bd5 22. Bxd6 cxd6 23. Rd7 Be6 24. Rxd6 Bxg4 25. Re1 Rc8 26. Kg2 Bh5 27. Rd5 Bg6 28. Re2 Rf8 29. Rd7 b6 30. Rxa7 Bf7 31. a3 Bc4 32. Ree7 Bd5+ 33. Kf1 Rg8 34. Red7 Bc4+ 35. Kg1 Bb5 36. Rd6 Re8 37. Rxb6 Re1+ 38. Kg2 Be2 39. Rb8+ Kh7 40. Rbb7 Bf1+ 41. Kg3 Kg6 42. Rxg7+ Kh5 43. Ra5 Re5 44. Kf3 Bh3 45. Rh7 Rf5+ 46. Ke2 Bg4+ 47. Kd2 Rd5 48. Ra6 Bf5 49. Raxh6+ Kg4 50. Rg7+ Kf4 51. Rf7 Re5 52. Rh4+ Kg5 53. Rhh7 Bxh7 54. Rg7+                                                                                        │    54 │ 2025-04-05 01:20:19.39273 │\n",
       "│ https://www.chess.com/game/live/136936348884 │ 2025-04-02 00:00:00 │ 2025-04-02 07:10:21 │ 2025-04-02 07:14:08 │                227 │ 2|1          │ black    │ Rhythmbear1 │ CLap1976          │       926 │             919 │ win        │ timeout         │ 2r1qrk1/3b1ppp/4p3/p1bBP3/3N4/2p2P2/PP2QP1P/1K1R3R w - -       │ https://www.chess.com/openings/French-Defense-Knight-Variation-Two-Knights-Variation-3...d4-4.Ne2-c5-5.c3 │ 1. e4 e6 2. Nf3 d5 3. Nc3 d4 4. Ne2 c5 5. c3 Nc6 6. Qa4 Bd7 7. cxd4 Nxd4 8. Qd1 Nxf3+ 9. gxf3 Nf6 10. d4 cxd4 11. Nxd4 Bb4+ 12. Bd2 Bc5 13. Bc3 O-O 14. Qc2 Rc8 15. O-O-O Qe8 16. Bc4 a6 17. Bb3 b5 18. Kb1 a5 19. Qe2 b4 20. e5 Nd5 21. Bxd5 bxc3                                                                                                                                                                                                                                                                                                                                                                                                                                                                                                                              │    21 │ 2025-04-05 01:20:19.39273 │\n",
       "│ https://www.chess.com/game/live/136936428008 │ 2025-04-02 00:00:00 │ 2025-04-02 07:14:13 │ 2025-04-02 07:16:44 │                151 │ 2|1          │ white    │ Rhythmbear1 │ alex_molch        │       917 │             913 │ abandoned  │ win             │ r1b2rk1/1pq2p1p/p1n3pb/2N2n2/P2p1P2/3P1N2/BPPB1QPP/R4RK1 w - - │ https://www.chess.com/openings/Sicilian-Defense-McDonnell-Attack-2...g6-3.Nf3                             │ 1. e4 c5 2. f4 g6 3. Nf3 e6 4. Bc4 Bg7 5. a4 Ne7 6. d3 O-O 7. O-O a6 8. Nc3 d6 9. Bd2 Nbc6 10. Qe1 Qd7 11. Qg3 d5 12. exd5 exd5 13. Ba2 d4 14. Ne4 Nf5 15. Qf2 Qc7 16. Nxc5 Bh6                                                                                                                                                                                                                                                                                                                                                                                                                                                                                                                                                                                                 │    16 │ 2025-04-05 01:20:19.39273 │\n",
       "│ https://www.chess.com/game/live/136939519876 │ 2025-04-02 00:00:00 │ 2025-04-02 09:34:35 │ 2025-04-02 09:40:43 │                368 │ 3|2          │ white    │ Rhythmbear1 │ Al_314            │      1345 │            1370 │ checkmated │ win             │ 7k/6pp/p7/2p5/5B2/1P1P2PP/P1P1r2K/r7 w - -                     │ https://www.chess.com/openings/Sicilian-Defense-McDonnell-Attack...3.exd5-Qxd5-4.Nc3-Qd8-5.Nf3            │ 1. e4 c5 2. f4 d5 3. exd5 Qxd5 4. Nc3 Qd8 5. Nf3 Bg4 6. Be2 Nc6 7. O-O Nf6 8. d3 e6 9. Qe1 a6 10. h3 Bxf3 11. Bxf3 Bd6 12. Bxc6+ bxc6 13. f5 O-O 14. fxe6 fxe6 15. Qxe6+ Kh8 16. Ne4 Nxe4 17. Qxe4 Bh2+ 18. Kxh2 Rxf1 19. Qxc6 Qb8+ 20. g3 Qf8 21. Bf4 Rxa1 22. Qd5 Re8 23. Qf3 Qe7 24. b3 Qe2+ 25. Qxe2 Rxe2#                                                                                                                                                                                                                                                                                                                                                                                                                                                                  │    25 │ 2025-04-05 01:20:19.39273 │\n",
       "│ https://www.chess.com/game/live/136939676896 │ 2025-04-02 00:00:00 │ 2025-04-02 09:41:08 │ 2025-04-02 09:45:19 │                251 │ 3|2          │ black    │ Rhythmbear1 │ StRat3go          │      1353 │            1328 │ win        │ resigned        │ 2r2r2/pp1b1pp1/2n1p2k/3pP1qP/8/1P6/P3K1P1/R3Q3 w - -           │ https://www.chess.com/openings/French-Defense-La-Bourdonnais-Variation-2...d5-3.e5-c5-4.Nf3               │ 1. e4 e6 2. f4 d5 3. e5 c5 4. Nf3 Bd7 5. d4 Nc6 6. c3 Rc8 7. Be3 cxd4 8. cxd4 Qb6 9. b3 Bb4+ 10. Nbd2 Nge7 11. Bd3 O-O 12. Bxh7+ Kxh7 13. Ng5+ Kg6 14. h4 Nf5 15. h5+ Kh6 16. Kf2 Nxe3 17. Kxe3 Qxd4+ 18. Kf3 Bxd2 19. Re1 Qxf4+ 20. Ke2 Bxe1 21. Qxe1 Qxg5                                                                                                                                                                                                                                                                                                                                                                                                                                                                                                                     │    21 │ 2025-04-05 01:20:19.39273 │\n",
       "│ https://www.chess.com/game/live/136939780604 │ 2025-04-02 00:00:00 │ 2025-04-02 09:45:26 │ 2025-04-02 09:49:53 │                267 │ 3|2          │ white    │ Rhythmbear1 │ lashapp           │      1361 │            1346 │ win        │ resigned        │ r1bq2k1/ppp2p2/3p1N2/2b1nNBr/4P3/1B6/PPP2PPP/R2Q1RK1 b - -     │ https://www.chess.com/openings/Scotch-Game-Scotch-Gambit                                                  │ 1. e4 e5 2. Nf3 Nc6 3. d4 exd4 4. Bc4 h6 5. O-O Qe7 6. Nxd4 Ne5 7. Nf5 Qf6 8. Bb3 Bc5 9. Nc3 d6 10. Nd5 Qd8 11. Nxg7+ Kf8 12. Nf5 Nf6 13. Bxh6+ Kg8 14. Bg5 Rh5 15. Nxf6+                                                                                                                                                                                                                                                                                                                                                                                                                                                                                                                                                                                                       │    15 │ 2025-04-05 01:20:19.39273 │\n",
       "│ https://www.chess.com/game/live/136939891306 │ 2025-04-02 00:00:00 │ 2025-04-02 09:50:00 │ 2025-04-02 09:57:13 │                433 │ 3|2          │ black    │ Rhythmbear1 │ lashapp           │      1353 │            1354 │ timeout    │ win             │ 2r3k1/pQ3ppp/8/1B4N1/3R1Pb1/6P1/PPP5/2K3R1 b - -               │ https://www.chess.com/openings/Englund-Gambit-2.dxe5                                                      │ 1. d4 e5 2. dxe5 Bc5 3. Nc3 Nc6 4. f4 Bxg1 5. Rxg1 Qh4+ 6. g3 Qxh2 7. Be3 Nge7 8. Ne4 Nf5 9. Bf2 Qh6 10. Qd5 Nb4 11. Qb3 Nc6 12. O-O-O Qe6 13. Qa3 d6 14. Ng5 Qe7 15. exd6 Nxd6 16. Bc5 O-O 17. e4 Rd8 18. e5 Bg4 19. exd6 cxd6 20. Bxd6 Rxd6 21. Rxd6 Qe3+ 22. Qxe3 Nb4 23. Qb3 Nc6 24. Qxb7 Rc8 25. Bb5 Nd4 26. Rxd4                                                                                                                                                                                                                                                                                                                                                                                                                                                          │    26 │ 2025-04-05 01:20:19.39273 │\n",
       "│                      ·                       │          ·          │          ·          │          ·          │                 ·  │  ·           │   ·      │      ·      │    ·              │        ·  │              ·  │    ·       │  ·              │                   ·                                            │                         ·                                                                                 │                                                                                                                                                            ·                                                                                                                                                                                                                                                                                                                                                                                                                                                                                                                                                                                                                    │     · │             ·             │\n",
       "│                      ·                       │          ·          │          ·          │          ·          │                 ·  │  ·           │   ·      │      ·      │    ·              │        ·  │              ·  │    ·       │  ·              │                   ·                                            │                         ·                                                                                 │                                                                                                                                                            ·                                                                                                                                                                                                                                                                                                                                                                                                                                                                                                                                                                                                                    │     · │             ·             │\n",
       "│                      ·                       │          ·          │          ·          │          ·          │                 ·  │  ·           │   ·      │      ·      │    ·              │        ·  │              ·  │    ·       │  ·              │                   ·                                            │                         ·                                                                                 │                                                                                                                                                            ·                                                                                                                                                                                                                                                                                                                                                                                                                                                                                                                                                                                                                    │     · │             ·             │\n",
       "│ https://www.chess.com/game/live/137023987328 │ 2025-04-04 00:00:00 │ 2025-04-04 16:44:15 │ 2025-04-04 16:49:18 │                303 │ 2|1          │ white    │ Rhythmbear1 │ Enseren           │       964 │             967 │ timeout    │ win             │ r7/ppp5/8/6p1/2P5/8/P1P1k1rP/7K w - -                          │ https://www.chess.com/openings/Indian-Game-2.e3-g6                                                        │ 1. e3 Nf6 2. d4 g6 3. b3 Bg7 4. Bb2 O-O 5. Nd2 d6 6. Bd3 Nbd7 7. Ngf3 Re8 8. O-O e5 9. dxe5 dxe5 10. Be2 e4 11. Nd4 Nb6 12. f3 exf3 13. Bxf3 Rxe3 14. Nc4 Nxc4 15. bxc4 Bf5 16. Qd2 Re8 17. Bd5 Nxd5 18. Nxf5 Bxb2 19. Nh6+ Kg7 20. Qxd5 Bxa1 21. Rxa1 Kxh6 22. Qf3 Qd2 23. Rf1 Re2 24. Qh3+ Kg7 25. Qh4 Rxg2+ 26. Kh1 Qe2 27. Qf6+ Kh6 28. Qh4+ Kg7 29. Rxf7+ Kxf7 30. Qxh7+ Kf6 31. Qh4+ g5 32. Qh6+ Kf5 33. Qh7+ Kf4 34. Qf7+ Ke3 35. Qe7+ Kd2 36. Qxe2+ Kxe2                                                                                                                                                                                                                                                                                                                │    36 │ 2025-04-05 01:20:19.39273 │\n",
       "│ https://www.chess.com/game/live/137031704872 │ 2025-04-04 00:00:00 │ 2025-04-04 20:56:00 │ 2025-04-04 21:01:25 │                325 │ 2|1          │ black    │ Rhythmbear1 │ Rosskeightley     │       958 │            1069 │ timeout    │ win             │ 8/8/3b1P2/Q1k5/P3K3/5P2/8/8 b - -                              │ https://www.chess.com/openings/Englund-Gambit                                                             │ 1. d4 e5 2. Nf3 d6 3. dxe5 Nc6 4. exd6 Bxd6 5. g3 Bg4 6. Bg2 Ne5 7. O-O Nxf3+ 8. exf3 Bf5 9. Qe2+ Ne7 10. Re1 Be6 11. f4 Qd7 12. Bxb7 Rb8 13. Qe4 O-O 14. Bd5 Rfe8 15. Bxe6 fxe6 16. Qxe6+ Qxe6 17. Rxe6 Nc6 18. Rxe8+ Rxe8 19. Bd2 Re2 20. Kf1 Re7 21. c3 Na5 22. b3 Nc6 23. Be3 a6 24. Nd2 Nd8 25. b4 Ne6 26. Re1 Rf7 27. Bc5 Nxc5 28. bxc5 Bxc5 29. Ne4 Bb6 30. Ng5 Rf8 31. Ne6 Re8 32. Nxc7 Rxe1+ 33. Kxe1 Bxc7 34. Kd2 Kf7 35. Kd3 Ke6 36. Ke4 a5 37. a4 g6 38. h4 Bd6 39. c4 Bc5 40. f3 Bf2 41. g4 Bxh4 42. f5+ gxf5+ 43. gxf5+ Kf6 44. Kf4 Bg5+ 45. Ke4 h5 46. c5 Bh6 47. c6 Bf8 48. c7 h4 49. c8=Q Be7 50. Qh8+ Kf7 51. Qh7+ Ke8 52. Qh8+ Kd7 53. f6 Bd6 54. Qxh4 Kc6 55. Qe1 Kc5 56. Qxa5+                                                                             │    56 │ 2025-04-05 01:20:19.39273 │\n",
       "│ https://www.chess.com/game/live/137031856128 │ 2025-04-04 00:00:00 │ 2025-04-04 21:01:38 │ 2025-04-04 21:04:51 │                193 │ 2|1          │ black    │ Rhythmbear1 │ mich3991          │       967 │             975 │ win        │ resigned        │ 2kr4/ppp4p/5np1/5p2/7r/1K6/1P3PPP/5R2 w - -                    │ https://www.chess.com/openings/Englund-Gambit-2.dxe5                                                      │ 1. d4 e5 2. dxe5 d6 3. exd6 Bxd6 4. Bf4 Bb4+ 5. Bd2 Bc5 6. Nf3 Qe7 7. Bg5 f6 8. Bf4 Nc6 9. Nc3 Be6 10. Qd3 Nb4 11. Qe4 O-O-O 12. Bd2 f5 13. Qh4 Qxh4 14. Nxh4 Nxc2+ 15. Kd1 Nxa1 16. Kc1 Bxa2 17. Nxa2 Nb3+ 18. Kc2 Nxd2 19. e3 Nxf1 20. Rxf1 Nf6 21. Nc3 Bb6 22. Nb5 g6 23. Nd4 Bxd4 24. exd4 Rxd4 25. Kc3 Rhd8 26. Kb3 Rxh4                                                                                                                                                                                                                                                                                                                                                                                                                                                   │    26 │ 2025-04-05 01:20:19.39273 │\n",
       "│ https://www.chess.com/game/live/137031945096 │ 2025-04-04 00:00:00 │ 2025-04-04 21:05:00 │ 2025-04-04 21:11:17 │                377 │ 2|1          │ black    │ Rhythmbear1 │ thequeenspawn123  │       961 │            1061 │ timeout    │ win             │ 8/8/8/4p3/2k5/p7/P1nN1PP1/6K1 b - -                            │ https://www.chess.com/openings/French-Defense-Advance-Steinitz-Variation                                  │ 1. e4 e6 2. e5 d5 3. d4 c5 4. dxc5 Bxc5 5. Bb5+ Bd7 6. Nc3 Qa5 7. Bxd7+ Nxd7 8. Nf3 Qb6 9. Qe2 Ne7 10. Na4 Qb4+ 11. Nc3 Qb6 12. O-O Qc7 13. Na4 Bb4 14. Bd2 Bxd2 15. Qxd2 Nxe5 16. Nxe5 Qxe5 17. Nc3 O-O 18. h3 Nc6 19. Rae1 Qf6 20. Nb5 Qe7 21. Re3 a6 22. Na3 Rac8 23. Rg3 g6 24. Qg5 f6 25. Qh6 Ne5 26. h4 Rf7 27. h5 Rcf8 28. hxg6 Nxg6 29. c3 Rg7 30. Nc2 Ne5 31. Rxg7+ Qxg7 32. Qxg7+ Kxg7 33. Nd4 Kf7 34. Re1 Nc6 35. Nf3 e5 36. Rd1 Ke6 37. Nh4 Rf7 38. Nf3 Rd7 39. c4 dxc4 40. Rxd7 Kxd7 41. Nd2 Ke6 42. Nxc4 Nd4 43. Nb6 Kd6 44. Nc4+ Kc5 45. Ne3 b5 46. Nd1 a5 47. b3 a4 48. bxa4 bxa4 49. Nc3 a3 50. Ne4+ Kd5 51. Nxf6+ Ke6 52. Nxh7 Nc2 53. Ng5+ Kd5 54. Nf3 Kc4 55. Nd2+                                                                                          │    55 │ 2025-04-05 01:20:19.39273 │\n",
       "│ https://www.chess.com/game/live/137032113886 │ 2025-04-04 00:00:00 │ 2025-04-04 21:11:25 │ 2025-04-04 21:16:10 │                285 │ 2|1          │ white    │ Rhythmbear1 │ trior1994         │       953 │             967 │ timeout    │ win             │ 6k1/p5p1/2p5/1p4r1/8/3P2P1/PPn2PK1/8 w - -                     │ https://www.chess.com/openings/Caro-Kann-Defense-Classical-Variation                                      │ 1. e4 c6 2. d4 d5 3. Nd2 dxe4 4. Nxe4 Bf5 5. Ng5 h6 6. Nxf7 Kxf7 7. Nf3 Nf6 8. Ne5+ Kg8 9. Bc4+ e6 10. O-O Bd6 11. Qe2 Nbd7 12. Nf3 Kf7 13. Re1 Re8 14. Ne5+ Kg8 15. Nxd7 Nxd7 16. Qh5 Nf8 17. Bxh6 Qf6 18. Bg5 Qg6 19. Qh4 Bxh2+ 20. Kxh2 Rad8 21. Re3 b5 22. Bd3 Bxd3 23. cxd3 Rd7 24. Rae1 Rf7 25. Rg3 Rf5 26. Be7 Qh5 27. Qxh5 Rxh5+ 28. Kg1 Rxe7 29. Rge3 Rg5 30. Rxe6 Rxe6 31. Rxe6 Nxe6 32. g3 Nxd4 33. Kg2 Nc2                                                                                                                                                                                                                                                                                                                                                          │    33 │ 2025-04-05 01:20:19.39273 │\n",
       "│ https://www.chess.com/game/live/137032240296 │ 2025-04-04 00:00:00 │ 2025-04-04 21:16:15 │ 2025-04-04 21:21:35 │                320 │ 2|1          │ black    │ Rhythmbear1 │ rawsharka         │       945 │             980 │ checkmated │ win             │ 4r3/p4kQ1/1p2bP2/3p1p2/P1p2B2/2P4P/1P4P1/3R1RK1 b - -          │ https://www.chess.com/openings/French-Defense-Advance-Paulsen-Attack-5...Qb6-6.Be2-Bd7                    │ 1. e4 e6 2. d4 d5 3. e5 c5 4. c3 Bd7 5. Nf3 Nc6 6. Be2 Qb6 7. Be3 c4 8. Qc2 Qc7 9. O-O Be7 10. Nbd2 Bd8 11. Rfe1 Nge7 12. Nf1 Nf5 13. Bd2 O-O 14. Bf4 Nce7 15. h3 Ng6 16. Bh2 Bg5 17. Nxg5 f6 18. Nf3 fxe5 19. Nxe5 Nxe5 20. dxe5 Qd8 21. Qd2 Nh4 22. Ng3 Qf6 23. Bg4 Qg6 24. f3 Rf7 25. Ne2 h5 26. Nf4 Qg5 27. Rad1 hxg4 28. fxg4 Ng6 29. Nh5 Raf8 30. Qxg5 Ne7 31. Rf1 Nf5 32. gxf5 exf5 33. Bf4 Be6 34. a4 b6 35. Qg3 Re8 36. Nf6+ Rxf6 37. exf6 Kf7 38. Qxg7#                                                                                                                                                                                                                                                                                                               │    38 │ 2025-04-05 01:20:19.39273 │\n",
       "│ https://www.chess.com/game/live/137032379604 │ 2025-04-04 00:00:00 │ 2025-04-04 21:21:39 │ 2025-04-04 21:25:59 │                260 │ 2|1          │ white    │ Rhythmbear1 │ Ramzes_75         │       937 │             955 │ resigned   │ win             │ 1nq1kb1r/4pp1p/1pp3p1/4N3/3n4/1QN3P1/1P1PKP1P/7B w k -         │ https://www.chess.com/openings/Scandinavian-Defense-Modern-Variation-3.c4                                 │ 1. e4 d5 2. exd5 Nf6 3. c4 b5 4. cxb5 Nxd5 5. Nc3 Bf5 6. Nf3 Nb4 7. Qa4 Nc2+ 8. Kd1 Nxa1 9. b6+ Bd7 10. Qb3 axb6 11. Qc4 Be6 12. Qb5+ Qd7 13. Qe2 g6 14. Ne5 Qc8 15. g3 Bxa2 16. Bg2 Bb3+ 17. Ke1 Nc2+ 18. Kf1 Ra1 19. Qb5+ c6 20. Qxb3 Rxc1+ 21. Ke2 Rxh1 22. Bxh1 Nd4+                                                                                                                                                                                                                                                                                                                                                                                                                                                                                                        │    22 │ 2025-04-05 01:20:19.39273 │\n",
       "│ https://www.chess.com/game/live/137032493670 │ 2025-04-04 00:00:00 │ 2025-04-04 21:26:05 │ 2025-04-04 21:29:57 │                232 │ 2|1          │ white    │ Rhythmbear1 │ dann3000          │       930 │             984 │ checkmated │ win             │ 7r/1b3pk1/p1p3p1/2bp2N1/8/2PB4/PP3QPq/5R1K w - -               │ https://www.chess.com/openings/Sicilian-Defense-McDonnell-Attack-2...g6-3.Nf3-Bg7                         │ 1. e4 c5 2. f4 g6 3. Nf3 Bg7 4. Bc4 e6 5. O-O Ne7 6. c3 O-O 7. d4 d5 8. exd5 exd5 9. Bd3 cxd4 10. Nxd4 Nbc6 11. Be3 Qc7 12. Nd2 Nf5 13. N2b3 Nxe3 14. Qe2 Nxf1 15. Rxf1 Re8 16. Qxe8+ Bf8 17. Nxc6 bxc6 18. Qe2 Bb7 19. Nd4 a6 20. f5 Bc5 21. fxg6 hxg6 22. Qg4 Kg7 23. Kh1 Bc8 24. Qf3 Bb7 25. Qf6+ Kg8 26. Nf3 Re8 27. Qh4 Kg7 28. Ng5 Rh8 29. Qf2 Qxh2#                                                                                                                                                                                                                                                                                                                                                                                                                      │    29 │ 2025-04-05 01:20:19.39273 │\n",
       "│ https://www.chess.com/game/live/137032594010 │ 2025-04-04 00:00:00 │ 2025-04-04 21:30:03 │ 2025-04-04 21:35:05 │                302 │ 2|1          │ black    │ Rhythmbear1 │ iamdaviddavis     │       923 │             980 │ timeout    │ win             │ 8/5kp1/r2R3p/3p4/2NP4/2n3P1/5PKP/8 b - -                       │ https://www.chess.com/openings/French-Defense-Advance-Variation-3...c5-4.c3-Bd7                           │ 1. e4 e6 2. d4 d5 3. e5 c5 4. c3 Bd7 5. Be3 Nc6 6. Bd3 c4 7. Bc2 Nge7 8. Ba4 Ng6 9. Nf3 a6 10. Na3 Be7 11. Bc2 Bxa3 12. bxa3 Qa5 13. Bd2 Qxa3 14. Qc1 Qa5 15. a3 Qc7 16. Qb2 O-O 17. Rb1 Rab8 18. Qb6 Qxb6 19. Rxb6 f6 20. exf6 Rxf6 21. O-O Rff8 22. Rfb1 Bc8 23. Ba4 Nce7 24. Bg5 h6 25. Bxe7 Nxe7 26. Ne5 Nf5 27. Bd7 Ne7 28. Bxc8 Nxc8 29. Rxb7 Rxb7 30. Rxb7 Nd6 31. Rb6 Ne4 32. Rxa6 Nxc3 33. Rxe6 Rb8 34. g3 Rb1+ 35. Kg2 Ra1 36. Nd7 Rxa3 37. Nb6 Ra6 38. Rd6 Kf7 39. Nxc4                                                                                                                                                                                                                                                                                              │    39 │ 2025-04-05 01:20:19.39273 │\n",
       "│ https://www.chess.com/game/live/136978136418 │ 2025-04-03 00:00:00 │ 2025-04-03 11:27:59 │ 2025-04-03 11:34:14 │                375 │ 2|1          │ black    │ Rhythmbear1 │ subdinesh         │       949 │             927 │ win        │ checkmated      │ 2r5/6k1/5p1p/4pPnP/1p4P1/8/2r5/q2K4 w - -                      │ https://www.chess.com/openings/French-Defense-Advance-Nimzowitsch-System                                  │ 1. e4 e6 2. d4 d5 3. e5 c5 4. Nf3 Bd7 5. Bg5 Qa5+ 6. c3 Qb6 7. b3 cxd4 8. Nxd4 Nc6 9. Be3 Qc7 10. Bb5 Nxe5 11. Bxd7+ Nxd7 12. O-O Bc5 13. Re1 Ngf6 14. f4 Ne4 15. b4 Bb6 16. Qf3 Nxc3 17. Nxc3 Qxc3 18. Bf2 Bxd4 19. Qxc3 Bxc3 20. f5 e5 21. Rac1 Bxe1 22. Bxe1 O-O 23. Rc3 f6 24. b5 d4 25. Rc7 Nb6 26. Bb4 Rfb8 27. Bd6 Rd8 28. Be7 Re8 29. Bc5 Nd5 30. Rd7 Nc3 31. a4 Nxa4 32. Bb4 Nb2 33. h4 b6 34. Ba3 Nd3 35. Kh2 Nf4 36. g3 Nd3 37. Kh3 Red8 38. Rc7 Nc5 39. Kg4 d3 40. Bc1 Nb3 41. Be3 d2 42. Bxd2 Nxd2 43. h5 h6 44. Kh4 Nf3+ 45. Kh3 Nd4 46. g4 Nxb5 47. Rc4 Rd3+ 48. Kh4 Rad8 49. Rc6 Nd4 50. Rc7 Nf3+ 51. Kh3 Ng5+ 52. Kg2 Rd2+ 53. Kf1 a5 54. Ra7 Ra2 55. Ke1 Rc8 56. Rxg7+ Kxg7 57. Kd1 b5 58. Ke1 Rac2 59. Kd1 b4 60. Ke1 a4 61. Kd1 a3 62. Ke1 a2 63. Kd1 a1=Q# │    63 │ 2025-04-05 01:20:19.39273 │\n",
       "├──────────────────────────────────────────────┴─────────────────────┴─────────────────────┴─────────────────────┴────────────────────┴──────────────┴──────────┴─────────────┴───────────────────┴───────────┴─────────────────┴────────────┴─────────────────┴────────────────────────────────────────────────────────────────┴───────────────────────────────────────────────────────────────────────────────────────────────────────────┴─────────────────────────────────────────────────────────────────────────────────────────────────────────────────────────────────────────────────────────────────────────────────────────────────────────────────────────────────────────────────────────────────────────────────────────────────────────────────────────────────────────────────────────────────────────────────────────────────────────────────────────────────────────────────────────────────────────────────────────────────────────────────────────────────────────────────────────────────────────────────────────────────────────────────────────────────────────────────────────────────────────────────────────────────────────────────────────────────────────────────────────────────────────────────┴───────┴───────────────────────────┤\n",
       "│ 1539 rows (20 shown)                                                                                                                                                                                                                                                                                                                                                                                                                                                                                                                                                                                                                                                                                                                                                                                                                                                                                                                                                                                                                                                                                                                                                                                                                                 18 columns │\n",
       "└─────────────────────────────────────────────────────────────────────────────────────────────────────────────────────────────────────────────────────────────────────────────────────────────────────────────────────────────────────────────────────────────────────────────────────────────────────────────────────────────────────────────────────────────────────────────────────────────────────────────────────────────────────────────────────────────────────────────────────────────────────────────────────────────────────────────────────────────────────────────────────────────────────────────────────────────────────────────────────────────────────────────────────────────────────────────────────────────────────────────────────────────────────────────────────────────────────────────────────────────────────────────────────────────────────────────────────────────────────────────────────────────────────────────────────────────────────────────────────────────────────────────────────────────────────────────────────────────────────────────────────────────────────────────────────────────────────────────────────────────────────────────────────────────────────────────────────────────────────────────────────────────────┘"
      ]
     },
     "execution_count": 4,
     "metadata": {},
     "output_type": "execute_result"
    }
   ],
   "source": [
    "conn.sql(f\"\"\"SELECT *\n",
    "         FROM 'az://rbchesssa.blob.core.windows.net/chess-etl-files/gold/fact-games.parquet'\n",
    "         \n",
    "         ;\"\"\")"
   ]
  }
 ],
 "metadata": {
  "kernelspec": {
   "display_name": "venv",
   "language": "python",
   "name": "python3"
  },
  "language_info": {
   "codemirror_mode": {
    "name": "ipython",
    "version": 3
   },
   "file_extension": ".py",
   "mimetype": "text/x-python",
   "name": "python",
   "nbconvert_exporter": "python",
   "pygments_lexer": "ipython3",
   "version": "3.10.12"
  }
 },
 "nbformat": 4,
 "nbformat_minor": 2
}
